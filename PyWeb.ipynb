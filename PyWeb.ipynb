{
 "cells": [
  {
   "cell_type": "code",
   "execution_count": 2,
   "metadata": {},
   "outputs": [
    {
     "name": "stdout",
     "output_type": "stream",
     "text": [
      "Requirement already satisfied: requests in /Users/jatinkatyal/miniconda3/lib/python3.7/site-packages (2.20.0)\n",
      "Requirement already satisfied: urllib3<1.25,>=1.21.1 in /Users/jatinkatyal/miniconda3/lib/python3.7/site-packages (from requests) (1.23)\n",
      "Requirement already satisfied: certifi>=2017.4.17 in /Users/jatinkatyal/miniconda3/lib/python3.7/site-packages (from requests) (2018.8.24)\n",
      "Requirement already satisfied: chardet<3.1.0,>=3.0.2 in /Users/jatinkatyal/miniconda3/lib/python3.7/site-packages (from requests) (3.0.4)\n",
      "Requirement already satisfied: idna<2.8,>=2.5 in /Users/jatinkatyal/miniconda3/lib/python3.7/site-packages (from requests) (2.7)\n",
      "\u001b[33mWARNING: You are using pip version 19.1.1, however version 19.2.3 is available.\n",
      "You should consider upgrading via the 'pip install --upgrade pip' command.\u001b[0m\n"
     ]
    }
   ],
   "source": [
    "!pip install requests"
   ]
  },
  {
   "cell_type": "markdown",
   "metadata": {},
   "source": [
    "# <p style=\"text-align:center;font-size:70px;background-color:#0ad61b;color:white;font-style:italic;\">Python for web</p>\n",
    "\n",
    "![](http://www.blog.skytopper.com/wp-content/uploads/2015/06/Global-computer-network.jpg)\n",
    "\n",
    "This bootcamp is all about interacting with **web** using Python programming language!\n",
    "\n",
    "In this bootcamp, we will learn:\n",
    "\n",
    "- to work with web APIs\n",
    "- to download content from web\n",
    "- web scraping\n",
    "- web automation\n",
    "\n",
    "using simple python scripts!"
   ]
  },
  {
   "cell_type": "code",
   "execution_count": null,
   "metadata": {},
   "outputs": [],
   "source": [
    "https://abc.com/something/a.html?a=10"
   ]
  },
  {
   "cell_type": "markdown",
   "metadata": {},
   "source": [
    "# 1. Working with web APIs\n",
    "\n",
    "- **What is API?**<br>\n",
    "    API is a set of routines, protocols, and tools for building software applications. An API specifies how software components should interact. \n",
    "![](https://www.retriever.nl/wp-content/uploads/2016/11/api-321x250.png)\n",
    "-------------\n",
    "\n",
    "- **What is web API?**<br>\n",
    "    Web API is a framework for building HTTP services that can be consumed by a broad range of clients including browsers, mobiles, iphone and tablets.\n",
    "![](http://dselva.co.in/blog/wp-content/uploads/2017/09/Web-APIs.png)\n",
    "-----------------\n",
    "- **Some examples of public web APIs:**\n",
    "    - [Facebook Graph API](https://developers.facebook.com/docs/graph-api)\n",
    "    - [Twitter API](https://dev.twitter.com/rest/public)\n",
    "    - [Google API explorer](https://developers.google.com/apis-explorer/#p/)\n",
    "--------------\n",
    "\n",
    "- **What is REST?**<br>\n",
    "    REST is an architectural style followed by web services, in which, they allow requesting systems to access and manipulate their Web resources using a uniform and predefined set of **stateless operations**.\n",
    "    \n",
    "    >In computing, a stateless protocol is a communications protocol in which no information is retained by either sender or receiver. The sender transmits a packet to the receiver and does not expect an acknowledgment of receipt. There is nothing saved that has to be remembered by the next transaction. The server must be able to completely understand the client request without using any server context or server session state. \n",
    "    \n",
    "   Advantages of REST:\n",
    "   - As the transactions are stateless, we can direct them to any instance of the web service. (As no sessions are involved). Hence, the web service can scale to accommodate load changes.\n",
    "   - Binding to a service through an API is a matter of controlling how the URL is decoded.\n",
    "\n",
    "-----------------\n",
    "- **Types of HTTP requests**\n",
    "    - GET\n",
    "    - POST\n",
    "    - DELETE\n",
    "    - PUT\n",
    "    - PATCH, etc.\n",
    "    \n",
    "![](http://lotsofthing.com/wp-content/uploads/2017/11/rest-api-1.jpg)"
   ]
  },
  {
   "cell_type": "markdown",
   "metadata": {},
   "source": [
    "### HTTP  for humans: [requests](http://docs.python-requests.org/en/master/)\n",
    "\n",
    "![](http://docs.python-requests.org/en/master/_static/requests-sidebar.png)\n",
    "\n",
    "\n",
    "- Requests is one of the most downloaded Python packages of all time, pulling in over 7,000,000 downloads every month.All the cool kids are doing it\n",
    "\n",
    "- Recreational use of other HTTP libraries may result in dangerous side-effects, including: security vulnerabilities, verbose code, reinventing the wheel, constantly reading documentation, depression, headaches, or even death. Requests is the only Non-GMO HTTP library for Python, safe for human consumption.\n",
    "\n",
    "- Python HTTP: When in doubt, or when not in doubt, use Requests. Beautiful, simple, Pythonic.\n",
    "\n",
    "***Everybody loves it!***\n",
    "\n",
    "#### Installation\n",
    "\n",
    "```\n",
    "pip install requests\n",
    "```"
   ]
  },
  {
   "cell_type": "code",
   "execution_count": 1,
   "metadata": {},
   "outputs": [],
   "source": [
    "import requests"
   ]
  },
  {
   "cell_type": "code",
   "execution_count": null,
   "metadata": {},
   "outputs": [],
   "source": []
  },
  {
   "cell_type": "code",
   "execution_count": null,
   "metadata": {},
   "outputs": [],
   "source": [
    "https://www.facebook.com/photo.php?fbid=1843529895724434&set=a.102696846474423&type=3&source=11&referrer_profile_id=100002023231822"
   ]
  },
  {
   "cell_type": "markdown",
   "metadata": {},
   "source": [
    "![](http://graph.facebook.com/100002023231820/picture?type=large)"
   ]
  },
  {
   "cell_type": "markdown",
   "metadata": {},
   "source": [
    "## GET request\n",
    "\n",
    "### Example 1\n",
    "\n",
    "http://graph.facebook.com/4/picture?type=large\n",
    "\n",
    "![](http://graph.facebook.com/4/picture?type=large)"
   ]
  },
  {
   "cell_type": "code",
   "execution_count": 109,
   "metadata": {},
   "outputs": [],
   "source": [
    "import requests"
   ]
  },
  {
   "cell_type": "code",
   "execution_count": 110,
   "metadata": {},
   "outputs": [],
   "source": [
    "url = \"http://graph.facebook.com/4/picture?type=large\"\n",
    "r = requests.get(url)"
   ]
  },
  {
   "cell_type": "code",
   "execution_count": 111,
   "metadata": {},
   "outputs": [
    {
     "data": {
      "text/plain": [
       "'image/jpeg'"
      ]
     },
     "execution_count": 111,
     "metadata": {},
     "output_type": "execute_result"
    }
   ],
   "source": [
    "r.headers['Content-Type']"
   ]
  },
  {
   "cell_type": "code",
   "execution_count": 75,
   "metadata": {},
   "outputs": [],
   "source": [
    "with open('marky.jpg', 'wb') as file:\n",
    "    file.write(r.content)"
   ]
  },
  {
   "cell_type": "code",
   "execution_count": null,
   "metadata": {},
   "outputs": [],
   "source": []
  },
  {
   "cell_type": "code",
   "execution_count": 77,
   "metadata": {},
   "outputs": [],
   "source": [
    "url = \"http://graph.facebook.com/{}/picture?type=large\""
   ]
  },
  {
   "cell_type": "code",
   "execution_count": 79,
   "metadata": {},
   "outputs": [],
   "source": [
    "open?"
   ]
  },
  {
   "cell_type": "code",
   "execution_count": 81,
   "metadata": {},
   "outputs": [
    {
     "name": "stdout",
     "output_type": "stream",
     "text": [
      "b'\\xff\\xd8\\xff\\xe0\\x00\\x10JFIF\\x00\\x01\\x02\\x00\\x00\\x01\\x00\\x01\\x00\\x00\\xff\\xed\\x00\\x9cPhotoshop 3.0\\x008BIM\\x04\\x04\\x00\\x00\\x00\\x00\\x00\\x80\\x1c\\x02g\\x00\\x14EijAN2tIMJ-3dRhxQN6D\\x1c\\x02(\\x00bFBMD01000ac0030000dc060000890b0000fe0c0000600e00001e1100005f1600000f17000066180000a619000065220000\\xff\\xe2\\x02\\x1cICC_PROFILE\\x00\\x01\\x01\\x00\\x00\\x02\\x0clcms\\x02\\x10\\x00\\x00mntrRGB XYZ \\x07\\xdc\\x00\\x01\\x00\\x19\\x00\\x03\\x00)\\x009acspAPPL\\x00\\x00\\x00\\x00\\x00\\x00\\x00\\x00\\x00\\x00\\x00\\x00\\x00\\x00\\x00\\x00\\x00\\x00\\x00\\x00\\x00\\x00\\x00\\x00\\x00\\x00\\xf6\\xd6\\x00\\x01\\x00\\x00\\x00\\x00\\xd3-lcms\\x00\\x00\\x00\\x00\\x00\\x00\\x00\\x00\\x00\\x00\\x00\\x00\\x00\\x00\\x00\\x00\\x00\\x00\\x00\\x00\\x00\\x00\\x00\\x00\\x00\\x00\\x00\\x00\\x00\\x00\\x00\\x00\\x00\\x00\\x00\\x00\\x00\\x00\\x00\\x00\\x00\\x00\\x00\\x00\\x00\\x00\\x00\\ndesc\\x00\\x00\\x00\\xfc\\x00\\x00\\x00^cprt\\x00\\x00\\x01\\\\\\x00\\x00\\x00\\x0bwtpt\\x00\\x00\\x01h\\x00\\x00\\x00\\x14bkpt\\x00\\x00\\x01|\\x00\\x00\\x00\\x14rXYZ\\x00\\x00\\x01\\x90\\x00\\x00\\x00\\x14gXYZ\\x00\\x00\\x01\\xa4\\x00\\x00\\x00\\x14bXYZ\\x00\\x00\\x01\\xb8\\x00\\x00\\x00\\x14rTRC\\x00\\x00\\x01\\xcc\\x00\\x00\\x00@gTRC\\x00\\x00\\x01\\xcc\\x00\\x00\\x00@bTRC\\x00\\x00\\x01\\xcc\\x00\\x00\\x00@desc\\x00\\x00\\x00\\x00\\x00\\x00\\x00\\x03c2\\x00\\x00\\x00\\x00\\x00\\x00\\x00\\x00\\x00\\x00\\x00\\x00\\x00\\x00\\x00\\x00\\x00\\x00\\x00\\x00\\x00\\x00\\x00\\x00\\x00\\x00\\x00\\x00\\x00\\x00\\x00\\x00\\x00\\x00\\x00\\x00\\x00\\x00\\x00\\x00\\x00\\x00\\x00\\x00\\x00\\x00\\x00\\x00\\x00\\x00\\x00\\x00\\x00\\x00\\x00\\x00\\x00\\x00\\x00\\x00\\x00\\x00\\x00\\x00\\x00\\x00\\x00\\x00\\x00\\x00\\x00\\x00\\x00\\x00\\x00\\x00\\x00\\x00\\x00\\x00\\x00\\x00text\\x00\\x00\\x00\\x00FB\\x00\\x00XYZ \\x00\\x00\\x00\\x00\\x00\\x00\\xf6\\xd6\\x00\\x01\\x00\\x00\\x00\\x00\\xd3-XYZ \\x00\\x00\\x00\\x00\\x00\\x00\\x03\\x16\\x00\\x00\\x033\\x00\\x00\\x02\\xa4XYZ \\x00\\x00\\x00\\x00\\x00\\x00o\\xa2\\x00\\x008\\xf5\\x00\\x00\\x03\\x90XYZ \\x00\\x00\\x00\\x00\\x00\\x00b\\x99\\x00\\x00\\xb7\\x85\\x00\\x00\\x18\\xdaXYZ \\x00\\x00\\x00\\x00\\x00\\x00$\\xa0\\x00\\x00\\x0f\\x84\\x00\\x00\\xb6\\xcfcurv\\x00\\x00\\x00\\x00\\x00\\x00\\x00\\x1a\\x00\\x00\\x00\\xcb\\x01\\xc9\\x03c\\x05\\x92\\x08k\\x0b\\xf6\\x10?\\x15Q\\x1b4!\\xf1)\\x902\\x18;\\x92F\\x05Qw]\\xedkpz\\x05\\x89\\xb1\\x9a|\\xaci\\xbf}\\xd3\\xc3\\xe90\\xff\\xff\\xff\\xdb\\x00C\\x00\\x06\\x04\\x05\\x06\\x05\\x04\\x06\\x06\\x05\\x06\\x07\\x07\\x06\\x08\\n\\x10\\n\\n\\t\\t\\n\\x14\\x0e\\x0f\\x0c\\x10\\x17\\x14\\x18\\x18\\x17\\x14\\x16\\x16\\x1a\\x1d%\\x1f\\x1a\\x1b#\\x1c\\x16\\x16 , #&\\')*)\\x19\\x1f-0-(0%()(\\xff\\xdb\\x00C\\x01\\x07\\x07\\x07\\n\\x08\\n\\x13\\n\\n\\x13(\\x1a\\x16\\x1a((((((((((((((((((((((((((((((((((((((((((((((((((\\xff\\xc2\\x00\\x11\\x08\\x00\\xc8\\x00\\xc8\\x03\\x00\"\\x00\\x01\\x11\\x01\\x02\\x11\\x01\\xff\\xc4\\x00\\x1b\\x00\\x00\\x01\\x05\\x01\\x01\\x00\\x00\\x00\\x00\\x00\\x00\\x00\\x00\\x00\\x00\\x00\\x05\\x00\\x02\\x03\\x04\\x06\\x01\\x07\\xff\\xc4\\x00\\x19\\x01\\x00\\x02\\x03\\x01\\x00\\x00\\x00\\x00\\x00\\x00\\x00\\x00\\x00\\x00\\x00\\x00\\x00\\x01\\x02\\x03\\x04\\x05\\xff\\xc4\\x00\\x19\\x01\\x00\\x02\\x03\\x01\\x00\\x00\\x00\\x00\\x00\\x00\\x00\\x00\\x00\\x00\\x00\\x00\\x00\\x01\\x02\\x03\\x04\\x05\\xff\\xda\\x00\\x0c\\x03\\x00\\x00\\x01\\x11\\x02\\x11\\x00\\x00\\x01\\xf3\\xdew\\x9b\\xb2vXe\"\\xd6\\xf5\\xc0\\xb8\\x9a\\x123\\x9c\\x1b\\xb8\\x93\\x12\\xeaO\\x89&\\x92H|]\\xe0$\\x90$\\x90$\\x92;\\xc5\\xd0RD\\x85#8\\x81$\\x9bR\\xad\\x0ek\\xc5\\xd8\\x96l\\x1a\\xd9D\\xfbj\\xb8K$e\\x954qG\\xddH>H\\xce\\x96.$\\x98\\x97x\\t$\\t$\\x84\\x92b]A\\xce\\xab\\xd0\\x95\\x82P\\xedx\\xfdH\\x8d=\\xf5j\\x96\\x95\\x84\\xd6J\\xb6\\xca\\xaa~h\\'\\xd10\\xd6\\xe7\\xa2\\x98\\xfe\\x9f7\\x9d\\xeftQ\\xc4\\xba\\x1c\\xe3\\xba\\x11\\xa4\\x93Iu\\x89$\\x08\\xf0-\\x06M\\x16\\xb7\\xd8}\\xaf3\\xa9fj\\x93\\x13\\x9a(-5N\\xa5\\xf8ah\\xe1\\x07\\x00%\\x82}\\xdb\\xfd>@N\\xe9\\xe5\\xbe\\x9c\\xb4\\xbaX@C\\xee\\xb0 \\x92H\"\\xe5\\xe40\\xb4U\\xf2\\xd3\\xaa\\xdbA\\xf5D\\xf3\\xeb\\xcf\\xee\\xb3z\\x8c\\xdaF\\xe7\\xb6\\x02\\xa6U>,\\xbce\\x9e\\x8ce\\x96[\\x04\\xda\\xae\\xb0\\xd7\\x02h\\xf6`Df\\x92Q\\xadH\\xacaA\\xcc\\xades\\xde\\xa6\\xc8J\\xfc0\\xd8\\x8c\\x9d\\x15;\\xcdj\\x8a\\xe4\\xf7yw\\x85.>\\xf5\\x17:8bn\\xe38\\xd8\\x99\\x03\\x01\\xcf\\x92\\xcc\\x86\\xde\\xe2l\\xab\\'\\xb0\\xcc\\xe8\\xb6\\xf3\\xa3\\xb5bI t\\xceKeT\\xadJ\\xd8N\\x95\\xca3\\xa7=q\\x96\\xa5\\x0e\\xdf\\xafv3\\xad\\xe9\\x1eY$,\\xf4.\\xf5\\xf8:`\\xb4 \\xacI\\xdb\\xc6\\xedA\\x06;\\xd02E\\x93\\'\\xe7\\xba\\x8c-\\x95I\\xa6\\xcd\\x90\\xdd\\xcc\\xd0\\x02\"A,\\xc1\\xe9\\xba\\xc0\\x02\\xf4\\xd1]LE3\\xdd\\xaeF(\\x07-(\\x94\\xa66\\x90j\\x99\\x9e\\xd2B\\xcd\\x95\\xe1\\x85y\\x9d~y\\xff\\x00\\xa3Ad|\\xca\\xd6\\xb38\\xdew\\xd0\\xc7X\\xaeY\\x00\\xd3\\xd7\\xd9\\x84\\xed\\xcc\\xaf6`\\xd2R\\x10\\xa4\\xac25ew\\xa6\\x16\\xa2\\xd3\\xb8\\x88\\xf3\\xa9\\xc2\\xb3\\x06\\x88-v\\xd5\\xd9\\xe3}\\x02\\xbbMYp\\xceW`\\xe5WI 8](\\xc5d8\\xf9\\xc1\\xd9Ak/\\x01\\xd1\\xe5FO\\xba)C\\r\\xd2Eg\\x1c\\xc3\\xe4\\xd0\\xc9f\\x1eX\\xf4%\\x911^\\xe5r\\xe4\\x02\\xcd)u48\\x1f\\xd2fv\\x99\\xb5\\x95\\x12n\\x0c\\xba\\xf2\\xd4\\xc9\\xe4\\xd4\\xca\\xe7Ui\\xc2\\x06\\xae\\xe9\\xcb\\xa5\\xb1\\x9e\\xd2h\\xc9\\x97\\xd2gt\\xb2\\x86C[\\x9d\\xd1\\xb3/\\xa6\\xadr.\\xa1l\\xd9\\xe8\\xcc\\x01<\\xcd\\xbb*%%w\\xd7>\\t\\x8fId&\\xdeQ\\'\\xcb\\xea\\xcc\\xf8^\\xa4\\xc1\\x05@\\xa9\\xe0Fo^<CM\\xe6te\\xd1\\xd4\\x14\\xde\\x8f3\\xb7\\xe8r\\xda\\xee\\xb2\\xaaN\\xfcU\\x90\\xba\\xe6)&\\x15\\xaef\\x8b\\xab[7>[\\xeb\\xca\\xeeUm\\xbd6\\x14\\xd5v\\x9b\\xeb\\xe3\\xafEq\\xa4\\x1f\\x1b(P\\xba\\x051\\x01\\xca\\xd7\\xd1\\x8a\\xabn\\xba\\xec\\xe1xr=Y\\xc3r\\xf5=\\x14\\xc8\\x97]q\\'\\xb1\\xcb\\xd1\\x93\\x99\\xc7\\xe9\\xb9\\xb3\\xc6\\x0c\\xe3\\x9a\\x1c\\x18P<\\x80\\x1b\\x1f9\\xa2\\x9f\\xb5W\\xc7\\xa52\\xf5\\xa1\\xbd(W\\x8ehZN\\xafq(\\xe4\\x95\\xe9\\xd7\\x8e\\xc3D n\\xab=\\xb3\\x1c\\x0cz\\xd5\\x9b\\xff\\xc4\\x00-\\x10\\x00\\x02\\x02\\x02\\x01\\x03\\x02\\x05\\x03\\x05\\x01\\x00\\x00\\x00\\x00\\x00\\x01\\x02\\x00\\x03\\x04\\x11\\x12\\x05\\x13!\\x10\"\\x14#013 2C\\x06$4@A\\x15\\xff\\xda\\x00\\x08\\x01\\x00\\x00\\x01\\x05\\x02\\xf4\\x1e\\x9b\\xff\\x00gS_\\xaf_\\xe8\\xeeo\\xf4%l\\xf11\\x1c\\xca\\xe9\\xd9pD`T\\xea\\x8b\\'n\\x98\\xd4)\\x8c\\xba?^\\xb5\\xe4\\xdc\\x99\\x17{\\x15\\xd7e\\xa7\\xff\\x00*\\xd6\\x03\\x00\\xac\\xc8\\x16!\\xad\\xc0\\x9c\\xb6md\\xe2\\xc3G\\xebc\\xa1I\\xc7\\xbe\\xd8\\xdd9+Z\\xaaD\\x9e%\\xb4Wdn\\x98C=\\n%\\xb4\\xb2Gr\\xd1[\\x7f[\\x15\\x01e\\xdd\\x8d\\xd3\\xf1\\x85\\x15\\x0fS7\\x1fFfVJ_\\x8e\\xd5\\x92\\x7fI\\xfa4{qq+?\\x11\\x16\\t\\xa8cC\\x1ee dd)o\\xdf\\xd7\\x83AK\\x98\\xb8\\xad\\xf4\\x13MF\\x05\\x9c\\xd8~\\xd5\\xe4c\\x07\\x01l;:a\\x18\\x08\\xe2e\\xb6\\x97,{\\xf1hSWf\\xb1\\x16\\xa4\\x8d\\xc1!\\xbe\\xb1\\x0eZ\\xc1\\x87>\\x0e\\x1c@\\x02c,\\x18\\xab>\\x1d\\x04J\\x15\\x9b.\\xbb1\\xed\\xe8\\xd5\\xeeks##\\xb72\\xba\\x9d\\x94>>WxT<_\\x91\\xc2\\xceVY>r\\x0c\\xd7\\xe42_\\xd9\\x8e\\x8e\\xd4\\xf6,\\x98\\xf5\\x94\\x97\\xd3\\xdc\\x9f\\x06\\'\\xc2\\xa4\\xbb \\xabw\\xec\\x86\\xcbHW\\xb4\\x9a9q\\xbdl\\'\\xa4c\\x1e\\x1dO\\rl\\xc4\\xe9@\\x00\\x9eAP\\xb3#\\x1d,8\\xd4\\x00\\xe7\\xf6\\x94\\xe7\\x91o:\\xb1\\xf1\\xfa\\x97)\\x9e}\\xf6\\x9d\\x9cgaR\\x18\\xae\\tw\\x0b\\x1b\\xdf,\\xae\\xc9\\xad\\xdc\\xfc\\x12/\\x16Z\\x80\\xe7e\\xa1\\t\\xbat\\x8b\\x05\\x94\\\\Z\\xc9EK\\\\A\\xe1\\xc4\\x03\\xd2\\xcf\\x15\\xaf\\xe6$\\x99\\x97M|r\\xb7\\xdbOu\\xa1\\xd2\\xa4\\xee\\x9b\\x8dI\\xda\\x99\\x96\\x86\\x95\\xdc\\xeb+\\xcb\\x9f\\xcd\\x9f\\xfbp\\xbf\\x1d_\\xbf\\'\\xf2\\xba\\x8e\\xcf@oz\\xfbkO\\xba\\xb6\\xa5\\xd7\\xe9kb\\xc1\\x1d\\x18\\xde@O\\xe7Q\\xe2\\xcf\\x03\\xa9[\\xe3\\x19y\\xdf\\xf0\\x9b\\x94\\xd2+\\x96\\x00\\xd3\\xb1\\\\Z+\\x86\\xa4Y\\xfc\\xd6\\xa8h8\\xd6\\xb47\\'\\xc9\\xfc\\xaf\\xf8z]\\xa6\\x9bV\\xd4z\\x97\\xec[IO,\\x8b\\x15N\\xaf\\xa4k7.\\xca\\xa5YV\\x13\\x8e\\xfc\\xab\\xb9\\xbcg\\xb7\\'\\xa4\\xf6\\xdf\\x15\\x99\\xe5\\xdb\\xd3\\x0b\\xe7\\xce&\\x85(\\xb9\\x97\\x12\\xdf\\xcf\\x94HP\\xb6Y(\\xf9E\\xbec\\xd8\\xbf.\\x9d\\xd3)\\xb7\\x9em\\x7fg_\\x97h\\xb6\\x9cL<l\\x97W[\\xeb\\x197\\x88x\\x16\\xc5c\\xbc\\xeb\\xb8\\xad\\xc7qQ\\x88\\xa9\\xadY[\\xbc\\x1eC\\x14\\x13\\x9a\\xb0lex\\xab\\xca\\xe6\\x03E\\xd5a\\xa8\\xda\\xe8\\xa2\\xb0\\xd9@8+`\\xc6\\xa0\\x0c\\xfaO\\x9f\\xf8\\xa9\\xf2s0rj\\x95uN\\xa1\\x86\\x07[[\\xa65v\\xdfu\\x18\\xcbU}F\\xcewh\\x99\\x8a\\xf5\\x8a\\xcd\\xf5\\x88\\xd9j#\\xe6\\x13\\x1e\\xd6h\\x1d\\x84\\\\\\x97\\x12\\xab\\xf8\\xb5\\xb9\\x04\\xceD\\x9a\\xb2x\\xad\\xb9\\x05\\xbd*\\xb0\\xa4\\xe8\\xecm\\xcc_\\x16\\xaf\\xa5\\x9a1\\xd7\\xc5\\xd8\\xd5\\xf2\\xc4\\x1bn\\xab\\x95\\xda\\xaa\\xdf\\x13\\x7f@z\\x7f\\xd3+\\xc7.\\xa4q\"\\x7fN\\xa4\\xb8jT\\xdb\\x12\\xd5\\xd9}\\x89hgu\\xd5+\\x95wr\\xcc:C%\\xd4\\xd7\\xc0\\r\\xb3\\xe3q\\xaek\\xd3\\x89\\xf5\\x10\\x8fL_\\xc3r\\xb1\\xb0\\xa3,\\xfe\\x9d\\x1f\\xd9\\xba\\xfbT\\xf1j\\xec\\x04;\\to\\xd9\\xecZ\\x86VWp\\x9fsd\\xd6\\xcbS\\x17\\x13\\rT\\x96\\x03\\x86@NmJ\\xf6*\\x1f7%\\x07c\\x02\\xaeE\\xd3OU*\\xab\\xc6\\xb69\\x88\\x150\\x7f\\x1b\\xba#X\\xaa\\xf5\\xf45\\xe3\\x83\\xaf\\x17,w\"\\x1c\\xf2\\r\\x9dG\\xc6E\\xefi?e:z\\xb2\\x95\\xa5\\x95%\\x88\\x01\\xae\\xfb\\x7f\\xc7\\x1f\\xbc\\xff\\x00\\x8fW\\xe6\\xc9\\xff\\x00\\x1f\\xa7\\xfe\\xcb\\x87\\xf7\\x19>*\\xc5\\'\\xbb\\x9b\\xf8\\xb0\\xbf\\x1eW\\xe5\\xa7\\xf0t\\xf4\\xed\\xe3\\x01,M\\xcc\\xacv\\x97x$,c\\x1aV\\x85\\xcf\\xc3Y\\xbaG\\n\\xaeo\\x9e\\x07r\\x8b\\xa955\\x04=+\\x8c\\x12\\xcc\\x9dvpm\\xe0\\xd9g\\x8d\\xc3V\\xd7]\\x0b[f~,\";y_\\x97\\xa7\\xd7\\xde\\x82,0\\xcc\\xbcz\\xacL\\xbaMNbP\\xc5k~\\xd5\\x9f\\x1a%\\xb9e\\x84\\xab%\\x90_y\\xb6UsW\\x1f%\\xda\\x1b\\x98\\xac\\xb6\\xce\\xe1\\xa4Y\\xaa\\x96\\xc6l\\xd6\\xd2T_\\x96>\\n\\xf1\\xc0\\x03\\xb5\\xa8=\\x0c\\xcd\\xc8\\x95\\xd4\\x0c8u\\t\\x95\\xed\\x8e\\x84\\xb9]}*rx\\x0f\\x8b\\xdc\\xab\\x05\\xee5T\\x95!\\x98V\\xf6\\xed#\\xd0\\x98\\xe65{\\x818\\x8b\\xac\\x97\\xfb\\xda\\xc1\\xee\\x03s\\xb3\\xb8\\xcaW\\xf4\\x08G\\xa5x\\xd7Y(\\xe9\\xbek\\xa6\\xaa\\xe6\\xe1\\xf0\\x0f\\xb8\\x19\\x87\\x99\\xa1\\xad\\x82<k\\xce\\xa6Cj[\\xf6\\xb5\\xa5u\\x938\\xb6\\xc2\\x905\\xb8q\\xc1\\x8fK\\x8fA\\xf6\\x10\\xcf\\'\\xd3\\xfek\\xc9\\xf4#r\\xf6\\xe2Nn@\\x9d;\\xae\\xd4q\\xe8\\xeax\\xf6WoS\\xdc\\xb3!\\xac<I%\\x14M\\xecO3S\\x8c\\xd7\\x97\\xad^Y\\x8aD\\xd6\\x8c\\xff\\xc4\\x00\\'\\x11\\x00\\x02\\x02\\x01\\x03\\x03\\x03\\x05\\x01\\x00\\x00\\x00\\x00\\x00\\x00\\x00\\x00\\x01\\x02\\x11\\x03\\x12!1\\x10\\x13A\\x04 Q\"#02Ba\\xff\\xda\\x00\\x08\\x01\\x02\\x11\\x01?\\x01\\x1fZ\\xfcTWLXu\\xeeC\\x04Q\\xdblx\\xa3{\\xa3\\'\\xa7O\\x8f\\xc1\\x18\\xeatb\\xc7J\\x8a\\xad\\x8a4\\x99!Fu\\xbd\\xfb\\xfd7\\xecc\\x1b.\\x84\\xc9pf\\x85\\xf0vY\\xdaK\\x96i\\xc7\\xf2}\\xb5\\xb1p\\xf8)%tb\\xc2\\xb4j\\xf2ETGo\\xf5\\x1f\\xc0\\xe5C\\x95\\xc6\\xd1\\x93r0KrP\\x8b6_\\xc9\\xc2l[\\xd3-\\xdb0\\xce\\xe0\\x98\\xf8\\xd8Qu\\xb9\\xe4\\xa3*\\xa4OR\\xe0Q|\\xb3\\xb76\\xec\\xfa\\x97,\\xbd\\x98\\xa7l^L\\x19T*,\\xb1\\xbf\\x96E\\xda\\xd9\\x91\\xff\\x00L\\xef\\xc1\\x97%N\\x86\\xb5\\x91\\x86\\x92X\\xe4\\xdd\\x8b,R;\\x8aN\\xa4K7\\x88\\x98\\xa6\\xa74\\x86l\\xf6\\x91\\xd8\\xad\\xd383\\xfa\\x85\\x16w\\x98\\xf2I\\xf4\\xd6\\xfa\\xca\\x1b&zH\\xfd\\xde\\x88\\xf0Nfio\\xc1\\x8f\\x1e\\xa5b\\x83vF6\\xac\\x8e-J\\xc8E+f\\xd2\\x8b\\x1c\\xb4\\xc1\\x1e\\x9d\\\\\\xb5\\t\\xef\\xd2M\\xb3+\\xd3\\x16\\xc87-\\xa4b\\xf2\\x8c\\\\\\xb4F.1vb\\x92\\xd2)\\xee\\x7f,W5H\\xc3\\x1d1\\x1a\"8Y\\xeac\\xf4\\xd2%9\\xf0\\xc4\\xeb\\x82\\xfc\\x96\\xdfH\\xc6^\\x0e\\xdd\\xfe\\xdd!:\\xd8N\\xce\\x0b\\xa3,\\xf5\\x12\\x8a\\x97$\\xb0?\\x06\\xeb\\x9fz\\x93GrLm\\xbe}\\x9c\\x99\\xf1\\xa8\\xee\\xba\\x7f\\xff\\xc4\\x00(\\x11\\x00\\x02\\x02\\x01\\x03\\x04\\x01\\x04\\x03\\x01\\x00\\x00\\x00\\x00\\x00\\x00\\x00\\x01\\x02\\x11\\x03\\x12!1\\x04\\x10\\x13A \"2BQ#@Ra\\xff\\xda\\x00\\x08\\x01\\x01\\x11\\x01?\\x01\\xfe\\x8e|\\xfe-\\x91>\\xa2r\\xf6)P\\xb2\\xce\\xb6f.\\xa6Ki\\t\\xdf\\xcerPV\\xcc\\x93\\xd6\\xf5\\x0b\\xbc%|\\x9d;\\xda\\xbe}_\\xd81&P\\xd0\\xb90\\xe4\\xd2y\\x91\\xe5o\\x84j\\xc8\\\\\\xd9\\xf5~\\xc4\\xdd\\xd5\\x99f\\xf5Qv\\xc4\\xff\\x00g\\x02V(nc\\xdb\\x82RlR\\x927~\\xceZCUe%FX\\xd4\\x9a\\x10\\xff\\x00\\xe7d\\xc8;d+\\xd8\\xe4\\xb8B\\x9cR\\xa3\\xe9en\\x87\\nC\\xf4f\\xc7\\xabu\\xd9*\\x1d\\x121/d!p\\x13\\xd0JZ\\x88\\xe4\\x8aC\\xc6\\xdb48\\xf0G\\x17\\xfa2A\\xc2-\\xf6Lm>G\\xb9\\x8b\\x03\\x92<\\x08X\\xa2iG\\x8e=\\xe3;t\\xce\\xa9\\xff\\x00\\x1fv\\xccp1F\\xd7&L\\x94\\xe8\\xf2Q)\\xd3\\xa2Y\\x94]\\x12\\x93t\\x8aq\\x92\\x14nl\\xce\\xea:J\\xed\\x13\\x12\\xb7D\\xd2\\x8e\\xf12zf]\\xe9\\xa2R\\xd5%FH\\xbdD\\xa1\\xb1\\xf9\\x0e\\xb1\\xbbfY\\xb9\\xc8C\\x14\\x8c\\x13\\xa7l\\x8c \\xf7CI\\x9aUQ\\xa5v\\xc9({\\x1eZ\\xfbNIF\\xf7+\\xbc#\\\\\\x91\\x9b\\x8f\\x04z\\x95\\xf9\\nJ\\\\|\\xf4\\xa6hEW\\xc1m\\xc1\\x83+\\x96\\xcf\\xb7\\xff\\xc4\\x002\\x10\\x00\\x01\\x03\\x02\\x05\\x02\\x04\\x04\\x06\\x03\\x01\\x00\\x00\\x00\\x00\\x00\\x01\\x00\\x02\\x11\\x10!\\x03\\x12 1A\"Q02q\\x81\\x04\\x13a\\x91#@Br\\xa1\\xc1\\x14Pb\\xd1\\xff\\xda\\x00\\x08\\x01\\x00\\x00\\x06?\\x02\\xff\\x00w\\xd2\\n\\xbc\\x05\\xd2\\x01\\x03\\x92\\xbc\\xe0z\\x053\\x9b\\xddu\\x07a\\x9fEi]\\x0b\\x9f\\xc8B\\xe9\\x19B\\xde\\xdc\\xa8\\xc3l7\\x80\\xba\\x9dt!F\\xea\\xff\\x00b\\xac\\x14s\\xf9\\x00O(5\\xb2P\\xcfw+\\n\\x19\\xfe\\x11\\x82\\\\\\xdfU\\x18\\xed\\r\\xfa\\xf7D\\xe1\\tf\\xeb\\xb2\\x83\\xe3fv\\xc1f*O\\x9d\\xdf\\xc6\\xab\\xa3\\xf2\\xc2\\x98B<f\\x9e\\xe50;o\\x04\\xca#F\\xcbo\\x06\\x01\\xf2\\xac\\xc7\\x82\\xa4\\xab)]WV\\xd2\\xd3\\xec\\xa5\\xd0\\xb8VW\\xa5\\xb5\\xe5h\\x92\\x8b^2\\xcao\\xdd}\\x10kVR/\\xfb\\x95\\xc4:\\x91\\xca\\x90\\xa5\\xc08)\\x14ii^e}\\x10\\x17\\x95l\\xac\\xae\\xbaS\\xdd\\x89r\\xee\\x94\\xd0\\xe19v(\\xc7\\x14\\xf2\\x02\\xa4\\xfc=\\xfb\\xa9\\xc9G\\x9d\\xdc\\xbec\\xed\\x1c\\x13\\xff\\x00\\x8b\\xad\\xb0\\x11\\xfa\\xd1\\xad\\n\\xf4\\xba\\xb2\\xb1W\\xa5\\xb4z\\x14\\x1a\\xc0\\x0b9\\x94\\xe6\\xb3\\xbc\\xe9*U\\xfa\\x87\\xd5t\\xe1\\x16\\xbb\\xe8\\x16b\"\\xc9\\xa3\\xba\\n\\x1a\\xa5\\xc5Z\\x97\\xd2)\\x88\\xde\\x08\\xa1\\xac\\xae\\x97\\x0b\"\\x89\\x1e^k\\x07d\\x15\\xe9\\xba\\xe2\\x97\\xa5\\xea)\\x9c,\\xcd6\\xa4\\x95\\x99\\xdb\\r\\x853@\\xcf\\xdc,\\xa5\\xa4(\\x8d\\xeaW\\xa2\\xba\\xb5e\\xca\\x05-K\\xd2\\x15\\xd6\\x0bA1\\x9cP\\x84\\xd7`q\\xba\\xcf\\x8d\\x8c\\x01<\\x04vx\\x08\\xb7\\x1f\\x0e\\x08\\xee\\x14\\xb6\\x86\\x93\\n\\xc1]^\\x9b\\xa9R\\xae\\xac\\xa6\\x91L(\\xef5\\xca\\x9e>\\x1b\\x1d\\xed\\xc1?\\xa2P\\xc3\\xc4\\x1f0o\\xd6?\\xb5\\x97\\xe2pCZo;\\xa2p\\xac\\xce\\xe5ID\\r\\x85!p\\xac\\xac\\xaeV\\xf4*\\xca\\xfa\\\\O\\xe9f\\x8b\\xa2\"Gcu\\'\\t\\xbfd\\x16F\\xee\\xb2\\xf3\\xb9\\xf1eE1\\xdf\\xe8\\x14\\x8d\\x17\\\\\\xab\\xee\\x8e!\\xf6G\\x11\\xfc\\xec\\xac\\xa1N\\x8d\\xb5\\x98\\n\\xe18\\xf7}#\\x8d\\x04\\x9d\\xd1\\x03\\xdd\\x00\\x83p\\xf8P\\xe9W\\xde\\x83.\\x89+*\\x93\\xa2\\xeaP\\xfd\\xc6\\xb2\\xd3u\\x0ej\\xe9[\\xd0\\x15\\x05YF\\x81P\\xad\\xa9\\x8d\\xf7\\xac\\x85\\x0f\\xb6\\x8bS\\xaa\\x91HY\\xa9\\x05\\x03\\xa9\\xac\\xe0\\xdc\\xfai9\\x82\\xb7\\x96\\x92\\xeb\\n\\xc0\\xd1jEzWR\\x85\\x95\\x92IY\\xbe\"\\xef\\xed\\xd9:\\x00\\xdfNVn\\xae3z\\xac\\xcdh\\x05]f\\x1e\\x1c\\x15\\r\\x12Vo\\x889\\x7f\\xe7\\x95\\x18m\\x84\\x14\\x1f+\\xbc(V\\xb2\\xb8\\xd7\\xd1\\x86\\xe5\\xf8\\xee\\xf6\\x0b\\xf0\\xda\\x06\\x90\\xccm\\xb8*E\\xf4@[\\xa2\\x1a\\xa4\\xa9\\x14\\xb8\\xb2\\xe9\\x90\\xbc\\xbfm=\\xe9\\xb6\\x8b\"\\xd0r\\x86\\x8c\\xcetl\\xbaq\\xb1\\x04v)\\xdf\\xe7;.#y\\x03\\xcc\\x8b\\xc0}\\x8a?-\\xad\\xf7+\\x7f\\xb2\\x92i\\xfdWj\\xf5\\x00W\\xe1\\xdf\\xe8\\xafO\\xff\\xc4\\x00\\'\\x10\\x01\\x00\\x02\\x02\\x01\\x04\\x02\\x03\\x01\\x00\\x03\\x01\\x00\\x00\\x00\\x00\\x01\\x00\\x11!1A\\x10Qaq\\x81\\xa1 \\x91\\xb10@\\xd1\\xf0\\xc1\\xff\\xda\\x00\\x08\\x01\\x00\\x00\\x01?!zo\\x18\\xc5\\xc3Pi\\x8e\\xa0\\xd3\\x16\\xe5\\xff\\x00\\xc0\\'\\x1dA\\xa8\\xcb\\xea\\x12\\xdd\\x9f\\xf5#\\tq\\x87\\xf0%\\x95\\xe6\\xa3:\\xa6\\xd7\\x88=\\xf85\\xc7\\xcd\\x9d\\x10\\xc7\\xac\\xb4\\x86\"\\xfa\\xc8c\\xa8|\\xdc\\xb0\\xebH\\xf6\\x8bEZ?\\x99\\x1e\\x97\\xf8\\xd7\\xf0\\xda\\xf6!G\\x83\\xa3\\xbc\\xb5N\\x9bS\\x08/\\xcc\\xf9\\x8d\\xc5\\x0by\\xcc\\x1fEc\\xd3+7\\x0enZ\\x8e\\xabA\\x89\\xda\\x9c\\xdf\\x11\\x05\\xa0\\x8aj`?\\xde\\xa6\\xd3\\x9ex\"\\xef#\\x83\\xcc\\xa2\\x83o\\xc7\\xa9\\x8d\\xc5\\r\\xf10j/*\\xa3j\\xa6\\xc3\\n\\x97\\xd5\\x8d\\rB5\\x07.\\'\\x1ax\\x12\\x87\\xeb\\x8fJ\\x95\\xd2\\xbf\\xc2\\x8a\\xdf\\x1dm\\x96\\xfd\\x88\\x00\\xec\\xb3\\xe1\\xdb\\xa3\\xd4\\x08#IC\\x0b%h\\x0b\\xba\\xe65T/$\\xcbFy\\xfc\\x0e\\x83\\xfc\\x05\\x80\\x02\\xaf\\x99\\xee\\x05\\x97\\x8e\\x81s\\xba\\x1e\\xd11\\xe6i\\xe2\\x11k;m\\xc9\\x0c.T\\x05\\xe2\\t\\xa5\\xd0\\t\\xfc\\xc1\\x88$\\xe5;\\xbe\\xa1\\xea,0bli(\\xc4\\xf5\\x07L\\x12\\x93!\\xe6b\\xd1\\xa8\\x86bf2\\x0f\\x0e\\xf2\\x7f\\x90V\\xe2\\xc3z\\x1b\\xc2\\x1di\\xa5\\xa8h\\xf6@s\\xd1\\x8es;2r\\xaa\\x1f\\xb5\\xe8#K\\xab\\\\$\\x1c\\xdc\\xdb\\x98\\xb3\\xa4\\xb6\\xaa}]\\xbd\\x82^\\xbe\\x86M\\xe7\\xc5A;;\\x11\\xd7p\\xde\\x06\\xf2Eo`/0O\\x059%\\x95\\x94H\\x12[\\xb5\\n\\xcdzC\\x95\\xfb\\x81v\\x95qY~\\x97V`\\xf730D-b\\x9e\\x03s\\xb8\\x01\\xf6\\x13\\x85\\xa0!\\x16\\xef2\\xdbbh\\xdb\\xaa@N\\x94U\\xb1\\xe7Z\\x88(\\xd9\\x82]0\\xa8Y\\xc7\\xc6\\x91w\\x17Y\\xb1\\x99CBS\\x06s\\r\\\\\\x04@\\xb9\\xa5\\x11H\\xc1\\x9c\\x1c\\xab\\x85(d%\\xb5\\t\\xc4JTZ\\xba\\x9b\\x86\\\\|^bf\\x97\\xe2\\x8c\\x02\\x86T\\xd3\\xa5\\xe5\\x94w\\x99\\xaf\\x11\\xe5\\xe4\\xcb0\\t\\xc7){\\xcc\\x08\\x15d\\x80S\\x0b\\x88\\xe1\\x061a\\x05tDPc^|O*K\\xa8,?\\xbe\\x8d\\xb6\\xed\\xd17\\x7fx\\x1bT\\xf7#\\xf71\\x04\\xf9#\\xcc\\xf7\\x94\\xa0\\xb5\\xa1,Q\\x0f1\\xb0\\x97b\\xf5\\x04,b\\xb6\\x06XLa1\\r\\x98\\x9d\\xe5\\x94\\xa9z\\x08\\x87\\x95\\xfc\\xc3\\xfbAj\\x93\\xbc\\xc25S\\x82G\\xfb\\xe9\\r*B\\xc3\\x0f\\xed\\xe8\\x90\\x1b\\xa5\\x13\\xb9\\r\\x05]\\x1b>(\\x11\\x99\\xa2\\x0e\\x17\\x14\\x89\\r`a\\xaa\\x05\\xc4\\xad\\x9d\\xac\\xb0\\x07\\xb9\\xdeWw\\x18\\xd4\\x00^\\xda\\x88)\\xbc\\xa1\\x03\\xd1\\xe0w\\x02\\xaeIa%\\xcb\\x8b7\\x1d\\xea\\x17\\x96\\x89Z\\xdc\\xa9\\xa4V\\xa9q\\xe1q\\x0c\\x8a\\xc0hfJ]2*\\x08\\xb1[f\\xc6\\xa0\\x1b\\x8f\\xe3\\x82\\xc6\\xd8\\x1a8#q> \\x88\\xb8H\\xd7%a\\xe5n\\x01\\t\\\\@\\xe9j.\\xab8\\x82#\\x9a\\x98\\x08y\\xc1^\\x90p\\x91\\xea\\x90\\xc5\\xb1-\\xee\\xe6p\\x9cZ0p_\\xa12\\x0ec\\x95\\x039\\xc4S\"\\xa5\\xc0f\\xeaT/\\xc2\\xe5\\x86\\x16%\\x87\\x86&Z\\xd7\\xc1/\\x1a\\xa1\\xb6{*\\xb0&\\xc3\\xdc\\x14\\xf3]\\xfa\\x13\\x86MF\\'\\x92k\\x14\\xdc\\xe6\\\\\\x19o\\xa92\\x8a\\xe6\\r\\x98s\\x04s\\x12\\xc3\\x89\\xa1\\x04\\x7fi\\x16(\\xe0\\xd2\\xcc\\xea\\x1e\\x99\\xc8\\x0f\\x00>\\xe7\\xb8\\xb8\\xd4\\x00\\xd0\\x18\\x9d\\xe1\\xe0\\x8a\\xb9[m\\xf3\\x15Y\\x97\\xf9\\xeb\\t\\xa8\\xd3\\xa4\\x17\\x8b\\xa2\\xff\\x00\\xfd<\\xcf(3\\x04\\x98\\xee$\\x02E{C\\x11e\\x0c3\\xe2.I\\xc4\\xf2\\xf2\\xabK\\x06\\x970\\xae\\xf3\\xe1s\\x99n\\xd0\\xdcC*\\x80\\xad\\x12\\xa5\\xae%\\xeaR\\x19#\\xfaK\\xd8\\x9b\\x80\\x94\\xf7\\xc7\\xf0\\x97)}\\xc92\\x87$\\xa9\\x00^\\xcc\\xf4\\x89\\xb2l^Q\\xa4s\\x82kX\\xd4\\xfe\\x90\\x97Hb\\x9dC\\x17&dj\\x12\\x07W\\x07`\\xe2\\x04\\'\\xe9\\xb6\\x9c\\x1c\\xc2fF\\xfbM%\\x98\\xec\\x12\\x87\\xdd~\\xe6QM\\xe33V\\x07\\x1d\\xe5\\x88\\x12\\xecM\\xf9\\x8amWi\\x84x\\xe9\\xb8?\\xf5\\x8e\\x91\\x00\\x17\\x98\\xdc\\x8d\\xd4j/\\xbc\\xca~\\xd4\\x1fI\\xbf\\xa0\\xb7\\xd2\\x94\\x99\\x99|g\\xf3\\x8d\\x95o\\xd4\\xcb\\xd7\\x8b>\\xf31L\\xb8\\xe1\\xcb\\xea\\x0bl^gyp8\\x8aPb\\xac#\\xfa\\x90\\x9b\\x9a\\xb8@;K\\xc3\\xab\\x80\\xed\\xc4\\xb6\"\\xb2\\x9e!\\xc2\\xf6\\x94\\xad/\\x89a\\x95~\\x10\\xd4Y\\x93\\xa8\\xc2\\xa6\\x8b+PkG\\xa8\\xb12%4\\xeeT\\xc5\\xf7\\xa8\\xab~\\x11,\\xf4\\x8e\\xbd\\xb0\\xd6\\xb8\\x85:\\xe9\\xa5m\\xb9R\\xd96\\x93\\x08\\xb1\\x04\\xddK\\xe5\\xc4\\x1al\\x89k\\x03}%\\xb7X\\x19Q\\x00x\"\\x0b5\\xb3W\\x1f\\xf6\\x87\";Wj\\xc4z\\x17\\x18o2\\xc1\\xbe\\xd8\\xba\\xd4\\xfd\\xcc\\x8b\\xdfE\\xcb\\xaa\\xdab\\x81\\xff\\x00\\xd8\\x80Z\\xf8\\xfc\\x82W\\\\I\\x1d\\xadt\\x04\\xb1\\x13\\xc0\\xdb\\xfe\\xa5X\\x1eWo\\xcc\\xe6\\xc9\\xcc\\x0cY\\x81\\xf1\\xd9\\xe88f\\th\\xc6Z-\\x85\"\\n%\\xdeQS\\'\\x88\\xe0c\\x9e*5]!\\nbTN\\x87\\x1dM\\xfa;\\xa5\\x1fs\\t\\x13\\xff\\x00{\\x95>\\xdc&\\x95\\x1eB\\xbb\\xcf\\x99\\xc4\\x17\\xce|\\xcb\\xa0\\xba\\xed\\xa8\\xd2p:N\\x9f.\\x8b\\x8eF0\\xcb\\xe4\\xc0\\xfa\\x1ec\\xc9`\\xca\\xc1(52\\x8b\\x98*\\xee\\xc6\\x7fh\\xeam\\xdb\\xe7(\\x94\\xd3\\xd0W\\x0c\\xc1\\xb8\\xe2\\xa0v#\\x82\\xf8\\xe6\\x0e\\xdf\\xb2i\\x05\\xf9\\x84\\xbb\\xeb\\xf7\\x17$h\\xb3\\xd8\\x1ee%*\\xb0\\xa7\\xf9\\t\\xc6\\x88YO\\xa3\\x98=\\xa5\\x14\\x85\\xbfp@7\\x9b\\xbe\\xa5\\x9bwt\\xa9q\\xfb\\\\\\xcc\\x8a]\\xf1\\xccUiA\\xa8\\x1f!\\xde9d\\xdc\\xad]\\xd9\\xf2\\xfdK^\\xb5?q\\x90\\x05_\\xd6^\\x81Of9\\x9f\\xff\\xda\\x00\\x0c\\x03\\x00\\x00\\x01\\x11\\x02\\x11\\x00\\x00\\x10*\\xb2\\xef\\x9bR\\x89\\x03O<\\x88\\xa5\\x93\\xf3M\\xff\\x00\\xe4\\xf4|\\xd0\\xc7\\xbc\\xc2)s*\\x92\\xdd\\x87\\xc4>\\xe0IS\\xa4\\xbf\\xfe\\xe5bZ\\xc8i\\xb91\\x97\\xe0\\x7f\\xdfM\\x90|\\x8f\\xf1\\xf7f\\x7f\\x01L\\xa2\\xac\\x15\\xc7\\x86Pz\\xc30\\xf9\\x8f4\\xc3.\\x06\\x8d\\x7f\\xd7\\xdfd3)\\xd8CZ\\xa14\\x96>\\x8c\\x0fZ\\x9f\\x113e7\\x93\\xcf\\x0f\\xe5\\x0b\\xe8k\\x97jG\\xf5H\\xf1J\\xa4\\xe6\\xa8YVI\\xb5\\x82\\xc5\\x16\\x96\\xd08F\\x1c\\xa7Is[\\xff\\xc4\\x00 \\x11\\x01\\x01\\x01\\x01\\x01\\x01\\x00\\x02\\x03\\x01\\x01\\x00\\x00\\x00\\x00\\x00\\x01\\x00\\x11!1A\\x10 Qaq\\x810\\xff\\xda\\x00\\x08\\x01\\x02\\x11\\x01?\\x10\\x1b\\xdd\\xa1\\x04b\\xc2\\xc7\\xff\\x00\\x07V?\\r\\xb4\\xe1=\\xc3g\\xe4\\x92\\xb0\\xba\\\\\\xc8\\x8e?\\xbb\\x11\\x80\\x0f\\x85\\x81\\x8b\\x03\\x01<\\x97\\xa2\\xc0\\x8b\\x7f\\x1b\\xfa\\x1e\\x9f\\xea\\x1c\\xd8\\xbc\\xdbK\\xb0YT\\xbc\\xfcC\\xfa\\xcd\\x0c}\\x88\\x9cX<\\x8ej`\\xf9_$\\x08\\x90`\\xff\\x00m\\xbcX\\x95\\xf9\\x1e\\x87&,d\\xf1\\xec\\x8e\\xa6\\xb26M3\\'\\x88\\xd8\\x0f\\x90*k\\xe4^?\\x0b\\x03\\x82\\x0b\\xb0\\xbaX\\x04\\xfb\\x18\\xfaOE\\xd89\\x04\\x01\\x19\\x03\\x98GTB},\\x01\\xc6<\\xdc\\xa4\\xf4\"\\xeeB\\xc2\\x00\\x8f\\x02>\\x85\"[\\xba\\xc9\\xa3-\\xf6\\xf8\\x81!\\xfc\\x12(\\xee\\xcb\\xec\\t\\x87!\\xe8\\xff\\x00\\xf6\\xff\\x00Rq\\xebo\\xe8_RUv\\x07\\x83?\\xcc\\xbfb\\t\\xf6\\xe4_\\x83zd\\xd2\\x12|\\x88v?\\xf5\\x02\\xa9\\x00|\\x95\\x87\\xc9\\xba2U\\xbeZ\\x96H\\x82\\xf3\\x7f!1jt\\x84\\xcf\\xc4\\x02\\xa1|QD\\xfb\\x9f\\x8c\\t\"\\xd9>h\\xca\\x0c\\x18@\\xa5\\xe4f\\x1d[\\xa4\\x19W\\x19\\xff\\x00\\x91\\x03\\xb4\\x8bT\\xbd\\xeb\\xb3\\xec\\x7f\\rt\\xc2Z\\xf6\\x00\\xe1{\\x10A\"F\\xac\\x0b\\x0b\\x8c\"\\xf7\\xb98\\x0c\\xbb\\xbb\\x0e\\xfe\\xbdBI\\xbbz\\xad\\xfd\\x10\\xe1\\xbf\\xb3ao\\xff\\xc4\\x00!\\x11\\x01\\x01\\x01\\x00\\x03\\x00\\x03\\x00\\x02\\x03\\x00\\x00\\x00\\x00\\x00\\x00\\x01\\x00\\x11!1A\\x10 Q0aq\\x81\\x91\\xff\\xda\\x00\\x08\\x01\\x01\\x11\\x01?\\x10\\xfbi\\xfcg\\x80\\xd6\\xefq\\xfe.\\xd6\\xdd\\x93\\xff\\x00e\\xfb \\x1a}\\xdc\\xf5\\x13*\\xed\\x87\\xb3\\xad\\xb9\\x142\\xff\\x00\\x13\\xf5\\xd9\\xb8\\x0f\\xd8c\\x8c\\x8e\\x8b\\x99\\xc4\\xb6\\xe6\\x8d}\\x92\\xf3\\xe1Zy\\x02\\xdd\\x81\\x9c\\xc4\\xe947\\xa1rb\\xee.5\\xb8\\x19e\\x98*\\r\\x91\\x99\\xb8B\\x1br\\xcd\\x03l\\x9a\\xf6\\xc9:\\x89\\xbc\\xc8\\x18\\xeal\\xa1\\x93\\x88A\\xf6\\xb4x\\\\1=\\xc0\\xca@\\xb49\\xd6X\\x06V\\xf9\\x16q\\xc5\\x83r\\x1a\\xd4\\xb1\\xd8\\\\\\xedd^\\xd98`\\xce88\\x8b\\x10I6\\xf3my\\xed\\x11\\x9e2\\x0b#\\x8b\\x82\\x13\\x1e\\x04]:\\xbf\\xb67\\x91\\x86Jr\\x9f,\\xbe\\x16O=K\\xaea;\\x93\\xa2\\xf4e\\x04\\xff\\x00ILH\\xc2\\x9d\\xc2_\\xaf\\x88\\x01\\xfd$\\x16\\xd9\\xc6\\xef\\x1e\\xcf\\x08\\xef\\x98\\x1b\\xb0\\x1a\\x96\\x12\\xf7H\\x1d(\\xe0\\xdcB\\xe1\\xf3\\x89\\x02\\x9dvmn\\xe4\\x0b\\xd1.,{\\t\\xc4\\x1e$Afc\\x1dG\\x10}\\x16\\x10\\x8cpp9j\\xb5m\\xd8\\xb4H\\xd8\\xae\\x13\\xf2\\x89\\xeb\\x9b\\xc7\\x08\\x8d[\\xf6$\\x1c\\xc5\\x83\\xa1\\xf1\\x93%o\\xc2\\xd2\\xff\\xc4\\x00\\'\\x10\\x01\\x00\\x02\\x02\\x02\\x02\\x01\\x04\\x03\\x01\\x01\\x01\\x00\\x00\\x00\\x00\\x01\\x00\\x11!1AQaq\\x81\\x10\\x91\\xa1\\xd1 \\xb1\\xc1\\xf0\\xe1\\xf1\\xff\\xda\\x00\\x08\\x01\\x00\\x00\\x01?\\x10\\x1fE\\x08\\x0b\\x9d1K3\\xcel#>\\xa0\\xd6\\xfeU+\\xf9\\xec\\xfao\\x12\\xe4k*\\x19\\x81\\x84v\\xcb}Q\\xf7\\xd4\\xbd\\xa1\\x9e\\x82\\xe54\\xb5\\x83\\x0b+\\xf8?\\xcfI\\xb4\\xdf0\\x01)\\xd4Fo\\xeb^7\\xa2H\\x94YE8z\\x892\\x8d,>.X\\xcc\\x14 \\xbe\\xaa\\x11BE\\x83_&s\\xe2\\x15h\\xd6W\\xdc2\\x7fR\\x88eek\\xfc\\x15\\x1b\\x02\\x166\\xef\\xe6&\\xc6n\\xca\\x9bc\\xf9W\\xd4\\x18\\xa7\\xe9_T\\xd7\\x7f\\xb41\\xb9\\xc6\\x83\\x85\\xe6S,yl\\xb9\\xc1\\xe5\\x96\\xe0\\xbaK\\xae\\x07\\xb7q\\xf0\\x01V\\xb2\\xfcL\\xae\\xb5\\x08h\\xf8\\xc6\\xa5\\xab\\xac\\x93a\\xf1\\xfb\\x80\\xd7\\xf9\\x1aj\\xea\\xf8\\xf9\\x97\\xd8\\x0b\\x03Iy\\xb5\\x03\\x16\\xf7\\xfa\\x97`\\xd7#c\\xe4\\x8f\\xf2%\\xff\\x00\\n\\x954J\\x0e\\xff\\x00,/\\x8d\\xc1\\xfd>\\xc5\\xff\\x00\\xdf\\x070\\x02\\x88[\\x93\\xc7\\xf6\\x98pB\\xc0\\x89\\xe6\\x06\\x15\\xf3[\\x97\\x96\\xf1\\xb9\\xfd\\xb2M\\xa9\\xe7P\\xd1\\x9e\\x1f\\xf6T2`,\\x1d\\x7f\\xec\\xc3\\x01\\xbat\\\\vV\\xcc\\xaa\\x94\\x1c*}\\x0bB+\\xb9\\x97\\xf0?\\x824\\xd7mc\\x83\\xf74@U\\xd6~\\x0e\\xa6M\\x8a\\xdc\\xd9\\xc3\\xfd\\x8e\\xdf\\x99\\x97\\x94F\\xc6P7\\xd6\\xa5KX\\xd4\\x1f\\x98\\xb9i\\x9e\\x03\\x0f\\x9cq9\\x15`; \\xa4\\x97T\\x11 w3S70u\\x07\\xf0>\\xa1l\\xb7\\x84\\x87t6\\xff\\x00D\\xa2\\xb9`0-\\x95\\xef\\x99\\x98\\xe3\\x18!*\\xcc\\xce\\x81\\x12]\\x92\\xb12Z\\xba)\\x88\\\\D\\x16]\\xcc\\xe8\\x85\\xb7\\x06AeW1\\x1bk\\xb3\\xc9\\xc4t\\x0c\\x8eb\\xab\\x13\\\\\\x9f\\x89\\xfej\\x9a\\xf6{\\x81\\xe7\\x1e\\xbe\\x95*\\x1f@\\xf0\\xfd\\xa5\\x8eK\\xe6\\xa1\\n4k\\x8a\\xce1\\xe8\\x82y\\x938(P\\x1e\\xd6W\\x83e\\rb\\x1a\\x96\\xd5\\xcc0\\xcd\\xdbP\\xb0d\\xcd\\xbcEq\\xe1\\x1d?0\\xaa\\x16\\x8b\\xb42\\x9a\\x0c\\x7fs\\x10\\xe7\\x1e\\xa2l\\xd4#.\\x936\\xf12\\xf8a\\xe0\\xb9\\xfa\\x02/\\x82\\xf4M\\x08{\\x9e\\t\\x82\\xb8|\\x11yc\\x96b\\x06\\xb4w\\x1a\\x95\\xf9g\\x05g\\x14~ \\x8b\\xb5Ku\\xdfG\\x98A\\xeb3\\x10j\\x93\\x0ce\\xe4j\\xeb\\x1a\\x08\\x1b\\xc5\\r\\xd3\\xcb\\xc4w\\x14\\xc2\\x97\\xa6\\xbb\\x1etLY\\x0b\\x0cH\\xb0\\xae_\\x18/q\\x86\\x97k\\xc5\\xf9\\xae\\xe2Cpm\\x8b\\xfbl\\x9b\\x95\\xc2.\\xad\\xa8_\\x01u\\xfcR\\xcb\\x95O\\xb1\\x86\\xabv\\xa7\\xbdL\\x84\\x9e\\x7f\\x9e\\x90F\\x13\\xb9^\\xad\\xab\\xe1\\x82\\xe2\\xf7\\x1bg\\xee\\x9e\\x83\\x87\\xd1\\x95\\x19\\x05r\\xc6\\x14\\xcf\\x9cD\\xbc,\\xcd\\x0f.\\'\\x1aWXM=\\xa9\\xf6\\x97N+\\xe26\\xcb\\xdb\\xadJdRS\\x95.\\x1b\\x9b\\'\\x1a\\xa8\\xc8\\x17\\xb5\\x82\\xbe\\xee\\x07\\xb0\\xb6\\x81D\\xd2#\\x176\\xf0\\xa2\\xba\\xa8\\xa6\\xb0\\x12Y\\xd35\\xdb\\\\\\x16\\xd4\\xb5\\xb8\\x02\\xa8\\x9bt\\n\\xf2\\xc1Cb\\x84\\x0ew\\x91\\x80 ty\\x1d2\\xd5So\\x11\\x07\\x85\\n74\\xdf\\xdc\\xbb#+j\\x88\\x0bO\\xef,\\x97\\x0f9\\x97\\xd93\\x1d\\xaa\\x81\\xccHiL\"\\x1d\\xc3\\x15\\x0c\\xd4\\x16=v\\xcb\\xb1J\\x17\\x80\\x03\\xf8`\\x11\\x95\\xf6t\\xa3\\xcc\\xb5a\\xab\\xe1\\xfdL#\\xe5\\x8b\\x81.%S\\x87]C\\xafG\\x071\\x01^4\\x08\\xe5&\\x9c\\xda\\xe6\\x0c>\\xd3\\xb4{\\x8f\\xdb\\x0c\\xa8\\'\\xacT\\x14V\\xbb\\x8a?\\xec\\xca\\xf3e\\xb6+\\xcc\\x06`\\x0bw\\x89~\\xb4\\xc5\\xc5H]\\xe6p\\x10\\xf2\\x8a\\x94\\xbd\\x0c\\xdb\\x176\\\\\\xc2\\r\\xd2\\xf8\\x8dl\\x85\\xf9@\\x06\\x9c!\\x8an\\xa5\\x8eR\\xc08\\xaa_\\xe6 \\r6\\xe4\\x94\\xe3-?\\x99h\\x89LT4\\xcd\\xb2\\xfe.Cd\\xf5\\x1e\\x1aQ\\x0b^N\"\\xa7\\x13\\x86b\\xb9\\'B\\xf2C\\xca\\xab\\x86bvxy\\x9c\\x00\\x05\\xaa\\xa2\\xaaP\\x85\\xe7\\x83\\xff\\x00bZ]E\\x88\\x08\\xb2\\x03\\xe6R\\xdb\\x1e\\xd9\\xa5\\xbf\\x89\\xaf\\x0f\\x88\\xaaC\\x85j\\xb3p\\xaf\\x89\\x14*\\xc1cXF\\xbb\\xea\\tk\\xc2\\xec\\xd9\\x0e\\xf5\\xde6=x\\x9b\\x93\\x98I\\x90\\x17G3A\\xe8Z3\\xb7\\xb6\\x18\\x06\\x939\\x99V8\\xac\\xf0\\xf6K&Q-\\x89\\xee H@]U\\xeed5!\\xac \\xa0ekl\\x83\\xa3\\xaa\\xf5p\\x03\\x12}\\xb10\\xd5y\\xdc-\\x8f5\\x8a\\x8e\\x12\\xde\\xa1\\x84\\xdc\\xd5\\xc3+h\\xfb\\xb1BJsSX\\xee\\x06\\x15\\x95Q\\xba{\\x87\\x19+\\x00\\x1e\\x07\\x10\\x87\\\\\\x15K\\xb1\\xb68\\x9b\\x9d\\xa0\\xdeNu,B\\xb7\\x06\\xa6\\xecq\\x18bS{\\xbc\\xae<\\xc1\\xb7\\xc6\\x94z\\xcd\\xea:\\x8b\\x19\\x83\\xa7\\x03\\xf6\\xdcj\\x99,\\x04/Y\\xd7q\\xee`\\xc1\\xa9\\x0f\\xa3P \\xa6\\x0ek;\\x8e\\xcd\\xb0\\x899Z\\xb5\\t\\xcaf\\xc9\\xf1\\tg\\xcc\\'&&\\x12\\x02\\x19\\x1e@c(y\\x83\\x88\\xc1Y\\x8d\\xb3\\x1cKC\\xf5\\x96\\xa7\\x03\\x99\\xc1\\x8b\\xaf\\x13\\x83\\x94\\xdc?\\xb2\\xcdy\\x18\\xe5\\xdb\\xb5\\xd4-~N\\xe3@Z\\xa0\\'Q\\x0e\\x80\\x87:\\x14\\xd0\\x0eM@X\\xac\\xb1.\\xf9\\x0b\\x9e\\xee\\xa2z\\xad\\x89S\\x02%\\xef\\x98\\xdd\\x8a\\xe3B_\\x06\\xd9j\\xae\\\\\\x17\\x8e\\xa0\\xa6\\xb3\\xb2\\xd2\\xf0FT-\\xa8\\xd4\\xa5U\\x92\\xf2{\\x83\\xe3\\xee\\x83!\\xf8\\x10$O\\x99p\\x16t1{?\\xcc\\xad\\xb5#e\\xc2\\xb5+\\xc9\\xf2L\\xd9W\\xdc\\x10\\xc6\\x85`\\xdc\\xb9U<\\xc1\\xbb\\xb9gg\\xa2\\xcd\\x13\\x8b\\xc2\\x0f\\xdc\\xa0\\xd2\\xf9\\x94:\\x1b\\x94.\\xb5\\x05E\\xa9\\x91\\xc4 D\\x14\\x15\\x1e(\\xd1\\x00\\x07E\\x16\\x02\\xfd\\x18\\x8b\\x92-%\\x03\\xd4\\xc8\\xf8h6\\xb2\\x9cvEk\\x8fDM\\x165\\xaa\\x96\\xe1b\\xae\\xd6\\x13\\x9f\\xe0*\\x15\\xc2\\x02\\xf0\\x8bKX\\xb2>\\xe0b*\\xb9EAl\\xef\\xe5\\x7f\\x90\\xa8Y~\\xc8r|0\\xdd\\xfcq.\\xc6N\\x07S2#W\\x86a5\\x88\\x1c\\xccj\\x1b|Q\\xca\\xb5\\xa4\\xff\\x00q\\x9d\\xbb\\xfb\\x01\\xb7\\xef\\xfd@\\xaai\\xb8\\xdd\\xdd%\\x01\\xb5\\xcaS\\xb4\\xc1v\\xae\\xea\\x05\\xa1\\xb8X \\xf2\\x90\\xd0\\xaa\\xf1\\n\\x10\\xacE\\x84\\x19\\x0f\\xa8\\x91q,U7<=L\\xd1\\x1d\\xcc\\x0fk\\xf5\\xba\\x08\\x8c\\xa3\\\\\\xf3\\x11\\xc5\\xb3\\x17\\x01\\x9cC\\x04\\x01\\x1f\\x98y#\\x0f\\x05R\\xf3+\\x88\\xb0^:\\x99\\xf1P}^%\\xb9\\x875\\xcd~\\xe1*\\x08\\x16\\xe6\\\\\\xc5\\x9aq\\x94\\x9b\\xa1\\tTM\\xd7P\\x0f\\xbc\\x15)\\xf6\\xf3\\xd4V6^%myh\\x87\\xcc\\xba\\xca\\xca\\x90:\\xc4\\xbf\\x1c\\x85\\x8c\\xa1\\xa0\\\\\\xc8\\xab<\\xc0!\\xae \\xf2\\x9f\\xd2?\\xc8\\xa6\\x0c\\xe3\\xb9\\x88\\xb0\\x1cTN\\x86\\xfa\\xd4\\x1dTm\\x1d\\xca\\xc3\\x0b\\xbd\\x89\\x9a%\\xc0`@}\\xa7r\\xed.\\xba\\xfa\\x84\\xe9]A\\x96q\\xf6\\x88\\x80\\xaa|J\\x04rf\\\\e\\xf3\\x83\\xecA\\x80\\x9b9o+A\\xbaaf\\xee\\x0f\\xd3\\xb1\\x07Rm\\xce`lw\\x0f\\xf3D;\\\\8\\x96\\x07;\\xc1\\xa7,@\\x82\\xb7\\x97\\xb9\\x80\\x9c\\xcak\\x17\\n\\xb5g\\xa2{\\x88L\\xee)\\x8f\\xbc\\xc8J\\xb8\\xb6\\x06\\xf7\\x969\\x94>\\xd8\\x10\\n\\x1eH\\xb4]3\\x11\\xb1A\\x98\\x80[\\x00\\xb3s@\\x00\\xb8b\\x9c\\xd9z#\\xcc\\xe8F\\xfcD\\x0bB\\xe2\\xe5\\x05\\xc6Q5\\x17\\x84\\xa4\\xea\\xd7\\xbdK\\n\\xd1\\xb4@\\x11\\xa6!\\n\\xc8h\\xe8\\x00\\x0eW\\xab\\xd1\\xdb\\xa85(8tu\\x05$\\xa7\\xf4@\\xae\\x81G\\xe2\\xe8@\\x19,\\xb6\\x1b\\t\\x8a\\xd0\\xf5-\\x12\\xf9\\x03\\x07\\xa9pl\\xd8wR\\x9a\\xf2\\xf5\\x18\\xda\\x0f1\\x956\\xb9\\xb9\\xbfCS\\x05\\x89\\x02\\xf8\\tD>\\tfo/1l)\\x9fb0r\\xb400\\x83P\\xd0Jd]T\\xc3\\x88\\x03\\xb5\\x8b\\x88\\xa4\\xe1\\xdekmx\\x94\\xe3a\\x03 }\\x86q(\\x0f\\x1c\\xc6\\x15Ljng1\\x19\\xf5*[\\xc8\\xcb\\x03\\x83[M\\x1f\\x89Zw#\\x90K@8X\\xcbb\\xa6)\\x8b\\xb8\\x0e/\\xb4>\\xae\\xfe\\x88\\xc5\\x1fJ\\xa8Gb\\xb1\\xa8\\xc8\\xc6\\x8be}L\\x93\\xbe_\\xb1\\xd7\\xe4\\xc7\\xdb\\xfb\\xf2\\r\\x98(\\x0c\\x06\\x1b\\xae\\x1f\\x8dK\\n\\x86Go\\xf8\\x1fr\\x88`\\x1d\\xa3\\x88\\xc7\\x92X\\xbc\\xc5T\\xb6 \\'QW\\xcc\\x92\\x89\\xa0\\xe3\\xfd\\x96\\xd4\\x95Z\\xb5\\x10J\\x99X<\\xb1\\x96\\xf34]\\x8f\\xeaYC\\xc5\\xe9\\xf4\\xcbD%@\\xda]\\x92UL\\xbf\\xff\\x00S\\xaaLM,[\\xf3\\xef\\xf5\\xfb\\xc7/.\\x1bk\\xeds6eM\\xed\\x84\\x04\\xbd5\\xfb\\x80V\\x90f\\x9c\\xe3\\x82;\\xcd9+\\xf3\\x04\\x94\\xa5Kx\\xae\\xd3\\xf2C\\x02+U\\x89\\xee8\\x94\\xe28X\\xde\\xe5B\\xd2\\xe5\\xc2\\r\\x96\\xea&\\x04]\\xa7\\xf9\\x06ZTv\\xcc\\x18\\xba\\xae\\x15}\\x04WH(\\xae{\\x96\\xe0\\x1b\\xc8J\\xe5\\xc66K\\xd6\\xc6\\xe8\\\\:\\x81\\x05\\xd1O\\xc4E\\x04G\"RN\\x89\\x902\\x96\\xe5\\'4j\\xd4\\xbfp\\xc1\\t\\xd5\\x075\\xdcAY\\xdf-\\xe7\\xe6-\\x15\\xca\\xfb\\x7f\\xdf\\xa9wf\\xf1\\xa0\\xb9\\xb5(\\xcb\\xc9\\x97{\\xd7+\\xd7\\xfe\\xe2I p\\x1b\\xa7\\xabS\\xbd|\\xc1[\\xf5\\xc9\\x1e\\xd2\\x82\\xfcE\\xce)\\x89^h\\xa0Vtdb+\\x81:\\x8ex\\x7f\\xb1.\\x01\\x84\\xb7\\xe1_\\xdcL@\\xda\\x04\\xaf;\\x97\\xc8\\x8bm\\x9f\\xbac\\xde\\xc3d\\xfa\\xe2\\x1dr\\x1a;;\\x86\\x16\\xb3\\x90\\xe5\\xfdK* \\xad\\r\\xcc\\xc3\\xc5\\xcbR\\xb6\\xb45gih:]\\xb57\\x83\\xa5\\x19>wr\\xa43*p\\xf4\\xf3\\x17\\xd0\\x0eB\\x92\\nT\\xff\\xd9'\n"
     ]
    }
   ],
   "source": [
    "with open('marky.jpg', 'rb') as file:\n",
    "    print(file.read())"
   ]
  },
  {
   "cell_type": "code",
   "execution_count": null,
   "metadata": {},
   "outputs": [],
   "source": []
  },
  {
   "cell_type": "code",
   "execution_count": null,
   "metadata": {},
   "outputs": [],
   "source": []
  },
  {
   "cell_type": "code",
   "execution_count": 78,
   "metadata": {},
   "outputs": [
    {
     "name": "stdout",
     "output_type": "stream",
     "text": [
      "Done with 4\n",
      "Done with 5\n",
      "Done with 6\n",
      "Done with 7\n",
      "Done with 8\n",
      "Done with 9\n",
      "Done with 10\n",
      "Done with 11\n",
      "Done with 12\n",
      "Done with 13\n",
      "Done with 14\n",
      "Done with 15\n",
      "Done with 16\n",
      "Done with 17\n",
      "Done with 18\n",
      "Done with 19\n",
      "Done with 20\n",
      "Done with 21\n",
      "Done with 22\n",
      "Done with 23\n",
      "Done with 24\n",
      "Done with 25\n",
      "Done with 26\n",
      "Done with 27\n",
      "Done with 28\n",
      "Done with 29\n",
      "Done with 30\n",
      "Done with 31\n",
      "Done with 32\n",
      "Done with 33\n",
      "Done with 34\n",
      "Done with 35\n",
      "Done with 36\n",
      "Done with 37\n",
      "Done with 38\n",
      "Done with 39\n",
      "Done with 40\n",
      "Done with 41\n",
      "Done with 42\n",
      "Done with 43\n",
      "Done with 44\n",
      "Done with 45\n",
      "Done with 46\n",
      "Done with 47\n",
      "Done with 48\n",
      "Done with 49\n",
      "Done with 50\n",
      "Done with 51\n",
      "Done with 52\n",
      "Done with 53\n",
      "Done with 54\n",
      "Done with 55\n",
      "Done with 56\n",
      "Done with 57\n",
      "Done with 58\n",
      "Done with 59\n",
      "Done with 60\n",
      "Done with 61\n",
      "Done with 62\n",
      "Done with 63\n",
      "Done with 64\n",
      "Done with 65\n",
      "Done with 66\n",
      "Done with 67\n",
      "Done with 68\n",
      "Done with 69\n",
      "Done with 70\n",
      "Done with 71\n",
      "Done with 72\n",
      "Done with 73\n",
      "Done with 74\n",
      "Done with 75\n",
      "Done with 76\n",
      "Done with 77\n",
      "Done with 78\n",
      "Done with 79\n",
      "Done with 80\n",
      "Done with 81\n",
      "Done with 82\n",
      "Done with 83\n",
      "Done with 84\n",
      "Done with 85\n",
      "Done with 86\n",
      "Done with 87\n",
      "Done with 88\n",
      "Done with 89\n",
      "Done with 90\n",
      "Done with 91\n",
      "Done with 92\n",
      "Done with 93\n",
      "Done with 94\n",
      "Done with 95\n",
      "Done with 96\n",
      "Done with 97\n",
      "Done with 98\n",
      "Done with 99\n",
      "Done with 100\n",
      "Done with 101\n",
      "Done with 102\n",
      "Done with 103\n",
      "Done with 104\n",
      "Done with 105\n",
      "Done with 106\n",
      "Done with 107\n",
      "Done with 108\n",
      "Done with 109\n",
      "Done with 110\n",
      "Done with 111\n",
      "Done with 112\n",
      "Done with 113\n",
      "Done with 114\n",
      "Done with 115\n",
      "Done with 116\n",
      "Done with 117\n",
      "Done with 118\n",
      "Done with 119\n",
      "Done with 120\n",
      "Done with 121\n",
      "Done with 122\n",
      "Done with 123\n",
      "Done with 124\n",
      "Done with 125\n",
      "Done with 126\n",
      "Done with 127\n",
      "Done with 128\n",
      "Done with 129\n",
      "Done with 130\n",
      "Done with 131\n",
      "Done with 132\n",
      "Done with 133\n",
      "Done with 134\n",
      "Done with 135\n",
      "Done with 136\n",
      "Done with 137\n",
      "Done with 138\n",
      "Done with 139\n",
      "Done with 140\n",
      "Done with 141\n",
      "Done with 142\n",
      "Done with 143\n",
      "Done with 144\n",
      "Done with 145\n",
      "Done with 146\n",
      "Done with 147\n",
      "Done with 148\n",
      "Done with 149\n",
      "Done with 150\n",
      "Done with 151\n",
      "Done with 152\n",
      "Done with 153\n",
      "Done with 154\n",
      "Done with 155\n",
      "Done with 156\n",
      "Done with 157\n",
      "Done with 158\n",
      "Done with 159\n",
      "Done with 160\n",
      "Done with 161\n",
      "Done with 162\n",
      "Done with 163\n",
      "Done with 164\n",
      "Done with 165\n",
      "Done with 166\n",
      "Done with 167\n",
      "Done with 168\n",
      "Done with 169\n",
      "Done with 170\n",
      "Done with 171\n",
      "Done with 172\n",
      "Done with 173\n",
      "Done with 174\n",
      "Done with 175\n",
      "Done with 176\n",
      "Done with 177\n",
      "Done with 178\n",
      "Done with 179\n",
      "Done with 180\n",
      "Done with 181\n",
      "Done with 182\n",
      "Done with 183\n",
      "Done with 184\n",
      "Done with 185\n",
      "Done with 186\n",
      "Done with 187\n",
      "Done with 188\n",
      "Done with 189\n",
      "Done with 190\n",
      "Done with 191\n",
      "Done with 192\n",
      "Done with 193\n",
      "Done with 194\n",
      "Done with 195\n",
      "Done with 196\n",
      "Done with 197\n",
      "Done with 198\n",
      "Done with 199\n"
     ]
    }
   ],
   "source": [
    "for i in range(4, 200):\n",
    "    r = requests.get(url.format(i))\n",
    "    with open('profile_pictures/{}.jpg'.format(i), 'wb') as file:\n",
    "        file.write(r.content)\n",
    "    print(\"Done with\", i)"
   ]
  },
  {
   "cell_type": "code",
   "execution_count": null,
   "metadata": {},
   "outputs": [],
   "source": []
  },
  {
   "cell_type": "code",
   "execution_count": 90,
   "metadata": {},
   "outputs": [],
   "source": [
    "r = requests.get('https://online-api.codingblocks.com/api/v2/something?exclude=ratings%2Cinstructors.*')"
   ]
  },
  {
   "cell_type": "code",
   "execution_count": 83,
   "metadata": {},
   "outputs": [
    {
     "data": {
      "text/plain": [
       "{'Last-Modified': 'Mon, 27 Nov 2017 17:21:51 GMT', 'x-haystack-needlechecksum': '1593265290', 'x-needle-checksum': '2842612581', 'Content-Type': 'image/jpeg', 'x-fb-config-version-olb-prod': '584', 'timing-allow-origin': '*', 'Access-Control-Allow-Origin': '*', 'Cache-Control': 'max-age=1209600, no-transform', 'x-enc-origin-hit-type': 'AcLYY6iyqCSPFhKTpBJ5DQU2HjJ4lCBwafpnmfZTj7sn959tkEsqVfFvWGYRanE', 'x-enc-origin-req-handler': 'AcKjNw463KbNJiQVUpYG7cEntDN6e0D--9Loex7UGJORMcbS78HHWhMIngGewt6mP20Uh-nquIHr_Eme', 'X-FB-Config-Version-ELB-PROD': '584', 'Date': 'Sat, 28 Sep 2019 04:58:33 GMT', 'X-FB-Edge-Debug': 'JrBy5g9G3n4yaRZJv0cnMa_mBwDtWeStG1klC7a-mf1EJ0MXIxtOni1H4mCqyNygrWZaVK2Bk8OqZraIS1nJqgaIK6hrcF20zcdmu71gMSk', 'Access-Control-Expose-Headers': 'X-FB-CEC-Video-Limit', 'Connection': 'keep-alive', 'Content-Length': '7374'}"
      ]
     },
     "execution_count": 83,
     "metadata": {},
     "output_type": "execute_result"
    }
   ],
   "source": [
    "r.headers"
   ]
  },
  {
   "cell_type": "code",
   "execution_count": 91,
   "metadata": {},
   "outputs": [
    {
     "data": {
      "text/plain": [
       "'{\"meta\":{\"pagination\":{\"count\":34,\"currentOffset\":0,\"currentPage\":1,\"nextOffset\":20,\"prevOffset\":null,\"totalPages\":2}},\"data\":[{\"type\":\"courses\",\"id\":\"43\",\"attributes\":{\"title\":\"Crux Offline\",\"subtitle\":\"Complete Course in Java \",\"logo\":\"https://minio.codingblocks.com/amoeba/d89ffb7f-8f27-4aad-b490-2d3b2653d11d.svg\",\"category-name\":null,\"category-id\":null,\"doubt-sub-category-id\":null,\"summary\":\"This is the supplementary course given along with our classroom offering. The DS-Algo in Java course will comprise over 200 recorded videos, 6 live webinars and 24*7 doubt support. One of our best selling courses, this course will enable you to understand the functioning of Java, while gaining proficiency in basic topics such as logic building, conditional statements, OOPs and recursion and also in advanced DS-Algo. Students with little/no background of coding will find this course very useful, as it\\'ll take you from a programming novice to a DS-Algo expert. On completion of the Java course, it\\'ll be easier for students to grasp web and app development concepts, and become exceptional devs.\\\\n\",\"promo-video\":\"https://www.youtube.com/embed/y76QfoySUWk?loop=1\",\"difficulty\":0,\"rating\":\"4.3\",\"slug\":null,\"unlisted\":true,\"review-count\":256,\"status\":\"published\",\"created-by\":null,\"reviewed-by\":null,\"published-by\":null,\"cover-image\":\"https://minio.codingblocks.com/amoeba/b7376df6-a43f-4fd8-9ce6-5249e95995a3.svg\",\"language\":\"English\",\"organization\":null,\"coursefeatures\":[{\"icon\":\"https://minio.codingblocks.com/amoeba/9877e511-8e27-478b-8387-dfb52c228e82.png\",\"text\":\"100+ lecture Video Content\"},{\"icon\":\"https://minio.codingblocks.com/amoeba/190cf445-18ed-46a2-94e8-c79a4bfa0ce2.png\",\"text\":\"Re-visit and Revise topics\"},{\"icon\":\"https://minio.codingblocks.com/amoeba/6624567e-8f6a-4b6a-9dd8-f3ebf42940c4.png\",\"text\":\"Certification of Completion\"},{\"icon\":\"https://minio.codingblocks.com/amoeba/fae1c1ec-4e24-475b-8bbf-fb07bdbd88cb.png\",\"text\":\"24x7 mentor support\"}],\"seo-meta\":\"This is the supplementary course given along with our classroom offering. The DS-Algo in Java course will comprise over 200 recorded videos, 6 live webinars and 24*7 doubt support. One of our best selling courses, this course will enable you to understand the functioning of Java, while gaining proficiency in basic topics such as logic building, conditional statements, OOPs and recursion and also in advanced DS-Algo. Students with little/no background of coding will find this course very useful, as it\\'ll take you from a programming novice to a DS-Algo expert. On completion of the Java course, it\\'ll be easier for students to grasp web and app development concepts, and become exceptional devs.\\\\n\",\"faq\":null,\"domains\":null},\"relationships\":{\"instructors\":{\"data\":[]},\"runs\":{\"data\":[{\"type\":\"runs\",\"id\":\"53\"},{\"type\":\"runs\",\"id\":\"35\"},{\"type\":\"runs\",\"id\":\"48\"},{\"type\":\"runs\",\"id\":\"104\"},{\"type\":\"runs\",\"id\":\"33\"},{\"type\":\"runs\",\"id\":\"34\"},{\"type\":\"runs\",\"id\":\"44\"},{\"type\":\"runs\",\"id\":\"81\"},{\"type\":\"runs\",\"id\":\"105\"},{\"type\":\"runs\",\"id\":\"102\"},{\"type\":\"runs\",\"id\":\"121\"},{\"type\":\"runs\",\"id\":\"77\"},{\"type\":\"runs\",\"id\":\"74\"},{\"type\":\"runs\",\"id\":\"117\"},{\"type\":\"runs\",\"id\":\"153\"},{\"type\":\"runs\",\"id\":\"152\"},{\"type\":\"runs\",\"id\":\"163\"},{\"type\":\"runs\",\"id\":\"281\"},{\"type\":\"runs\",\"id\":\"279\"},{\"type\":\"runs\",\"id\":\"280\"},{\"type\":\"runs\",\"id\":\"329\"},{\"type\":\"runs\",\"id\":\"334\"},{\"type\":\"runs\",\"id\":\"335\"}]},\"projects\":{\"data\":[]}}},{\"type\":\"courses\",\"id\":\"47\",\"attributes\":{\"title\":\"Git and GitHub\",\"subtitle\":\"Learn the world\\'s most popular version management system\",\"logo\":\"https://minio.codingblocks.com/amoeba/b07c95a2-637f-49a1-afdf-3f893b8d5dd7.svg\",\"category-name\":\"Git and Github\",\"category-id\":73,\"doubt-sub-category-id\":74,\"summary\":\"This course covers usage of the \\'GIT\\' version control system. Git was devised by Linus Torvalds, the creator of Linux kernel, when he found no other version control system suitable to handle the number of contributors to Linux kernel. \\\\n\\\\nGithub is the most popular website people use for sharing their software projects. About to become a part of Microsoft, Github is synonymous with a person\\'s \\\\\"open source profile\\\\\". Many companies look at Github profiles before making hires, and Github is a significant part of software developers\\' social fabric. \",\"promo-video\":\"https://www.youtube.com/embed/5DMhv7N2_Eo?loop=1\",\"difficulty\":0,\"rating\":\"4.8\",\"slug\":\"git-github\",\"unlisted\":true,\"review-count\":209,\"status\":\"published\",\"created-by\":{\"id\":1,\"firstname\":\"Arnav\",\"lastname\":\"Gupta\",\"username\":\"championswimmer-t\",\"email\":\"arnav@codingblocks.com\",\"verifiedemail\":\"arnav@codingblocks.com\",\"verifiedmobile\":\"+91-8800233266\",\"mobile\":\"+91-8800233266\",\"oneauth-id\":\"4\",\"last-read-notification\":\"0\",\"photo\":\"https://minio.codingblocks.com/oneauth-assets/user4_1538582498693.png\",\"college\":\"Delhi Technological University (New-Delhi)\",\"organization\":null,\"role-id\":1,\"created-at\":\"2017-04-03T07:15:51.705Z\",\"updated-at\":\"2019-09-12T04:02:48.563Z\"},\"reviewed-by\":{\"id\":1,\"firstname\":\"Arnav\",\"lastname\":\"Gupta\",\"username\":\"championswimmer-t\",\"email\":\"arnav@codingblocks.com\",\"verifiedemail\":\"arnav@codingblocks.com\",\"verifiedmobile\":\"+91-8800233266\",\"mobile\":\"+91-8800233266\",\"oneauth-id\":\"4\",\"last-read-notification\":\"0\",\"photo\":\"https://minio.codingblocks.com/oneauth-assets/user4_1538582498693.png\",\"college\":\"Delhi Technological University (New-Delhi)\",\"organization\":null,\"role-id\":1,\"created-at\":\"2017-04-03T07:15:51.705Z\",\"updated-at\":\"2019-09-12T04:02:48.563Z\"},\"published-by\":{\"id\":1,\"firstname\":\"Arnav\",\"lastname\":\"Gupta\",\"username\":\"championswimmer-t\",\"email\":\"arnav@codingblocks.com\",\"verifiedemail\":\"arnav@codingblocks.com\",\"verifiedmobile\":\"+91-8800233266\",\"mobile\":\"+91-8800233266\",\"oneauth-id\":\"4\",\"last-read-notification\":\"0\",\"photo\":\"https://minio.codingblocks.com/oneauth-assets/user4_1538582498693.png\",\"college\":\"Delhi Technological University (New-Delhi)\",\"organization\":null,\"role-id\":1,\"created-at\":\"2017-04-03T07:15:51.705Z\",\"updated-at\":\"2019-09-12T04:02:48.563Z\"},\"cover-image\":\"https://minio.codingblocks.com/amoeba/122e2f36-9a60-4704-bf41-74c6e2535179.svg\",\"language\":\"English\",\"organization\":null,\"coursefeatures\":[{\"icon\":\"https://minio.codingblocks.com/amoeba/9877e511-8e27-478b-8387-dfb52c228e82.png\",\"text\":\"100+ lecture Video Content\"},{\"icon\":\"https://minio.codingblocks.com/amoeba/190cf445-18ed-46a2-94e8-c79a4bfa0ce2.png\",\"text\":\"Re-visit and Revise topics\"},{\"icon\":\"https://minio.codingblocks.com/amoeba/6624567e-8f6a-4b6a-9dd8-f3ebf42940c4.png\",\"text\":\"Certification of Completion\"},{\"icon\":\"https://minio.codingblocks.com/amoeba/fae1c1ec-4e24-475b-8bbf-fb07bdbd88cb.png\",\"text\":\"24x7 mentor support\"}],\"seo-meta\":\"This course covers usage of the \\'GIT\\' version control system. Git was devised by Linus Torvalds, the creator of Linux kernel, when he found no other version control system suitable to handle the number of contributors to Linux kernel. \\\\n\\\\nGithub is the most popular website people use for sharing their software projects. About to become a part of Microsoft, Github is synonymous with a person\\'s \\\\\"open source profile\\\\\". Many companies look at Github profiles before making hires, and Github is a significant part of software developers\\' social fabric. \",\"faq\":null,\"domains\":null},\"relationships\":{\"instructors\":{\"data\":[{\"type\":\"instructors\",\"id\":\"6\"}]},\"runs\":{\"data\":[{\"type\":\"runs\",\"id\":\"95\"},{\"type\":\"runs\",\"id\":\"176\"},{\"type\":\"runs\",\"id\":\"227\"},{\"type\":\"runs\",\"id\":\"229\"},{\"type\":\"runs\",\"id\":\"228\"},{\"type\":\"runs\",\"id\":\"302\"}]},\"projects\":{\"data\":[]}}},{\"type\":\"courses\",\"id\":\"33\",\"attributes\":{\"title\":\"Interview Prep Bootcamp\",\"subtitle\":\"Gear up for Tech Interviews - Learn OS, DBMS, Networking & System Design. \",\"logo\":\"https://minio.codingblocks.com/amoeba/215fa6ed-14f3-4d1e-87d5-d9d71cf0d0dd.svg\",\"category-name\":\"Interview Bootcamp\",\"category-id\":37,\"doubt-sub-category-id\":38,\"summary\":\"Aspiring to get into a top IT firm?\\\\n\\\\nThe online coding Interview Bootcamp by Coding Blocks is the place for you. This fast-paced online Interview preparation course bridges the gap between the theoretical knowledge and the quick coding tricks and tips that the industry employers look for in their potential candidates. This online Bootcamp covers the topics such as Operating Systems, DBMS and System Design along with important coding questions asked in the interview process of companies like Google, Facebook, Amazon, Microsoft, Directi, Zomato etc. Along with the technical know-hows, non-technical aspects of programming interviews (such as Group Discussion, HR Round) will also be covered as a part of the curriculum. This course provides the students with a unique opportunity to opt for bundle sets for the bootcamp with either of the two- C++ or JAVA. This is meant for the students willing to strengthen their Data Structures and Algorithm concepts. These will be a combination of Interview Preparation and one complete course on Advanced Data Structures and Algorithm using C++ or Java.  The journey to get into your dream company starts here!\",\"promo-video\":\"https://www.youtube.com/embed/GLeuOVcevds?loop=1\",\"difficulty\":1,\"rating\":\"4.3\",\"slug\":\"coding-interview-preparation-online\",\"unlisted\":false,\"review-count\":223,\"status\":\"published\",\"created-by\":null,\"reviewed-by\":null,\"published-by\":null,\"cover-image\":\"https://minio.codingblocks.com/amoeba/2276540a-2f61-4259-b46c-0f5fc20fdb3e.svg\",\"language\":\"English\",\"organization\":null,\"coursefeatures\":[{\"icon\":\"https://minio.codingblocks.com/amoeba/9877e511-8e27-478b-8387-dfb52c228e82.png\",\"text\":\"40+ lecture Video Content\"},{\"icon\":\"https://minio.codingblocks.com/amoeba/190cf445-18ed-46a2-94e8-c79a4bfa0ce2.png\",\"text\":\"Re-visit and Revise topics\"},{\"icon\":\"https://minio.codingblocks.com/amoeba/6624567e-8f6a-4b6a-9dd8-f3ebf42940c4.png\",\"text\":\"Certification of Completion\"},{\"icon\":\"https://minio.codingblocks.com/amoeba/fae1c1ec-4e24-475b-8bbf-fb07bdbd88cb.png\",\"text\":\"Online notes\"}],\"seo-meta\":\"Aspiring to get into a top IT firm?\\\\n\\\\nThe online coding Interview Bootcamp by Coding Blocks is the place for you. This fast-paced online Interview preparation course bridges the gap between the theoretical knowledge and the quick coding tricks and tips that the industry employers look for in their potential candidates. This online Bootcamp covers the topics such as Operating Systems, DBMS and System Design along with important coding questions asked in the interview process of companies like Google, Facebook, Amazon, Microsoft, Directi, Zomato etc. Along with the technical know-hows, non-technical aspects of programming interviews (such as Group Discussion, HR Round) will also be covered as a part of the curriculum. This course provides the students with a unique opportunity to opt for bundle sets for the bootcamp with either of the two- C++ or JAVA. This is meant for the students willing to strengthen their Data Structures and Algorithm concepts. These will be a combination of Interview Preparation and one complete course on Advanced Data Structures and Algorithm using C++ or Java.  The journey to get into your dream company starts here!\",\"faq\":null,\"domains\":null},\"relationships\":{\"instructors\":{\"data\":[{\"type\":\"instructors\",\"id\":\"6\"}]},\"runs\":{\"data\":[{\"type\":\"runs\",\"id\":\"92\"},{\"type\":\"runs\",\"id\":\"58\"},{\"type\":\"runs\",\"id\":\"54\"},{\"type\":\"runs\",\"id\":\"116\"},{\"type\":\"runs\",\"id\":\"30\"},{\"type\":\"runs\",\"id\":\"68\"},{\"type\":\"runs\",\"id\":\"127\"},{\"type\":\"runs\",\"id\":\"146\"},{\"type\":\"runs\",\"id\":\"186\"},{\"type\":\"runs\",\"id\":\"172\"},{\"type\":\"runs\",\"id\":\"205\"},{\"type\":\"runs\",\"id\":\"204\"},{\"type\":\"runs\",\"id\":\"238\"},{\"type\":\"runs\",\"id\":\"274\"},{\"type\":\"runs\",\"id\":\"273\"},{\"type\":\"runs\",\"id\":\"275\"},{\"type\":\"runs\",\"id\":\"304\"},{\"type\":\"runs\",\"id\":\"324\"},{\"type\":\"runs\",\"id\":\"363\"},{\"type\":\"runs\",\"id\":\"364\"}]},\"projects\":{\"data\":[]}}},{\"type\":\"courses\",\"id\":\"25\",\"attributes\":{\"title\":\"Java Master Course | Crux\",\"subtitle\":\"Start from Basics, become a Java Master!\",\"logo\":\"https://minio.codingblocks.com/amoeba/d89ffb7f-8f27-4aad-b490-2d3b2653d11d.svg\",\"category-name\":\"Java DS\",\"category-id\":55,\"doubt-sub-category-id\":56,\"summary\":\"First of its kind, our Java online course for beginners is a uniquely designed online course in Data Structures and Algorithms to aid your journey right from the beginning to the very end in becoming the most skilled software engineers across the globe. Our online course in Java is not only in absolute coherence with our most sought after classroom program, but also provides you the comfort of learning at your home. With over 300 video lectures and several practice problems. Through these online classes, the students will not only become more efficient with their solutions by optimizing space and time but this course will also provide them a firm base to excel in all their programming interviews. The core focus of these Java classes for beginners is to maintain an equilibrium between theory and practical, thus providing the programmers with an ample amount of practice of questions based on Sorting, Searching, Greedy Algorithms, Divide and Conquer Algorithms, Dynamic Programming along with a comprehensive revision of data structures like linked-lists, Trees, Graphs, Heaps, Hashing etc. The user can opt for the complete bundle, or just the advanced part of the course. \\\\n\\\\n### Highlights\\\\n\\\\n• Extensive Data Structures & Algorithmic Coverage   \\\\n• 450+ Video Lectures and Code Challenges   \\\\n• Hint Videos for Complex Problems    \\\\n• Lifetime Assignment Access  \\\\n• Basics & Advanced Topics for Interviews  \\\\n• Expert Doubt Support  \\\\n\\\\n\\\\n### Pre-requisites\\\\nThere are no pre-requisites to join this course. Student familiar with Java Syntax can also look for the Algo.Java Course.\",\"promo-video\":\"https://www.youtube.com/embed/pt6U19z0aPU\",\"difficulty\":0,\"rating\":\"4.3\",\"slug\":\"complete-java-course-online\",\"unlisted\":false,\"review-count\":264,\"status\":\"published\",\"created-by\":null,\"reviewed-by\":null,\"published-by\":null,\"cover-image\":\"https://minio.codingblocks.com/amoeba/ccaf84b6-63df-40f8-b4df-f64b8b9ecd9e.svg\",\"language\":\"English\",\"organization\":null,\"coursefeatures\":[{\"icon\":\"https://minio.codingblocks.com/amoeba/2f168080-78f3-435b-bb68-5bd51ccb9711.png\",\"text\":\"300+ Expert Lessons\"},{\"icon\":\"https://minio.codingblocks.com/amoeba/1d18d777-8680-45c8-9849-0d10947ca91c.png\",\"text\":\"180 Coding Challenges\"},{\"icon\":\"https://minio.codingblocks.com/amoeba/f796b97f-a7b8-4c85-aa7c-1d6776af3c47.png\",\"text\":\"Ace Interviews\"},{\"icon\":\"https://minio.codingblocks.com/amoeba/c3be17f1-ff86-4224-89e0-e774a864b043.png\",\"text\":\"Code Pair & Doubt support\"}],\"seo-meta\":\"First of its kind, our Java online course for beginners is a uniquely designed online course in Data Structures and Algorithms to aid your journey right from the beginning to the very end in becoming the most skilled software engineers across the globe. Our online course in Java is not only in absolute coherence with our most sought after classroom program, but also provides you the comfort of learning at your home. With over 300 video lectures and several practice problems. Through these online classes, the students will not only become more efficient with their solutions by optimizing space and time but this course will also provide them a firm base to excel in all their programming interviews. The core focus of these Java classes for beginners is to maintain an equilibrium between theory and practical, thus providing the programmers with an ample amount of practice of questions based on Sorting, Searching, Greedy Algorithms, Divide and Conquer Algorithms, Dynamic Programming along with a comprehensive revision of data structures like linked-lists, Trees, Graphs, Heaps, Hashing etc. The user can opt for the complete bundle, or just the advanced part of the course. \\\\n\\\\n### Highlights\\\\n\\\\n• Extensive Data Structures & Algorithmic Coverage   \\\\n• 450+ Video Lectures and Code Challenges   \\\\n• Hint Videos for Complex Problems    \\\\n• Lifetime Assignment Access  \\\\n• Basics & Advanced Topics for Interviews  \\\\n• Expert Doubt Support  \\\\n\\\\n\\\\n### Pre-requisites\\\\nThere are no pre-requisites to join this course. Student familiar with Java Syntax can also look for the Algo.Java Course.\",\"faq\":\"\\\\n**Will I get a certificate after completion of the course?**\\\\n\\\\nYes, you will receive a  certificate from coding blocks on 90 % completion of Course.\\\\n\\\\n**How many days of access will I get to my video content?**\\\\n\\\\nYou will receive 10 months of access to video content.\\\\n\\\\n**How many days of access will I get to my doubt support?**\\\\n\\\\nYou will have 6 months access to doubt support.\\\\n  \\\\n**How will I ask my course doubts?**\\\\n\\\\n There will be an ask doubt button in your online portal on top right corner. There you can ask your query.\\\\n\\\\n**What if I miss Deadline of Any Section?**\\\\n\\\\n These are guidelines to get best out of the course. If you want to do it on your own pace, you can ignore it.\\\\n\\\\n**Can I reset the progress, I have made in a course?**\\\\n\\\\nYes, you will be able to track and reset your progress.\\\\n\\\\n **Can I extend my access period for course content?**\\\\n\\\\n Yes, you can buy the extension.\\\\n\\\\n**Will I get any goodies with the course?**\\\\n\\\\n Yes, you will get the access to wildcraft bag and java module.\\\\n\",\"domains\":null},\"relationships\":{\"instructors\":{\"data\":[{\"type\":\"instructors\",\"id\":\"9\"},{\"type\":\"instructors\",\"id\":\"10\"}]},\"runs\":{\"data\":[{\"type\":\"runs\",\"id\":\"107\"},{\"type\":\"runs\",\"id\":\"19\"},{\"type\":\"runs\",\"id\":\"32\"},{\"type\":\"runs\",\"id\":\"40\"},{\"type\":\"runs\",\"id\":\"70\"},{\"type\":\"runs\",\"id\":\"38\"},{\"type\":\"runs\",\"id\":\"142\"},{\"type\":\"runs\",\"id\":\"162\"},{\"type\":\"runs\",\"id\":\"157\"},{\"type\":\"runs\",\"id\":\"160\"},{\"type\":\"runs\",\"id\":\"137\"},{\"type\":\"runs\",\"id\":\"123\"},{\"type\":\"runs\",\"id\":\"179\"},{\"type\":\"runs\",\"id\":\"168\"},{\"type\":\"runs\",\"id\":\"60\"},{\"type\":\"runs\",\"id\":\"198\"},{\"type\":\"runs\",\"id\":\"252\"},{\"type\":\"runs\",\"id\":\"245\"},{\"type\":\"runs\",\"id\":\"277\"},{\"type\":\"runs\",\"id\":\"197\"},{\"type\":\"runs\",\"id\":\"264\"},{\"type\":\"runs\",\"id\":\"294\"},{\"type\":\"runs\",\"id\":\"314\"},{\"type\":\"runs\",\"id\":\"346\"},{\"type\":\"runs\",\"id\":\"83\"}]},\"projects\":{\"data\":[{\"type\":\"projects\",\"id\":\"30\"},{\"type\":\"projects\",\"id\":\"29\"},{\"type\":\"projects\",\"id\":\"28\"}]}}},{\"type\":\"courses\",\"id\":\"17\",\"attributes\":{\"title\":\"Competitive Programming Online\",\"subtitle\":\"Ace Every Race - Master competitive coding skills for ACM ICPC, Google Kickstart & more\",\"logo\":\"https://minio.codingblocks.com/amoeba/8cfd6647-e541-45fc-91bf-12a7fb703223.svg\",\"category-name\":\"Competitive Programming\",\"category-id\":49,\"doubt-sub-category-id\":50,\"summary\":\"The online Competitive Programming course by Coding Blocks is an ultimate online competitive coding training. With an aim to leverage and optimize the problem-solving skills of the young programmers, the course structure of this 8 weeks long online course is most extensively crafted to ensure their swift sail through the online coding challenges and code-athons. These online coding classes will cover concepts of Advanced Data Structures such as Segment Trees, Binary Index / Fenwick Trees. The students will be taught to construct algorithms involving Dynamic Programming, Bitmasking, Greedy Algorithms, and Divide & Conquer along with the essentials of advanced competitive programming topics. A good knowledge of basics (like sorting, searching, recursion ), data-structures and space-time complexity analysis on problems will definitely ensure nifty learning. With more than 100 recorded videos and 5 live webinars, along with 24x7 doubt clearing support to your aid, anyone on a binge to master the competitive coding tricks and techniques has absolutely no looking back!\",\"promo-video\":\"https://www.youtube.com/embed/GSX_c758DQc?loop=1\",\"difficulty\":2,\"rating\":\"4.2\",\"slug\":\"competitive-programming-course-online\",\"unlisted\":false,\"review-count\":278,\"status\":\"published\",\"created-by\":null,\"reviewed-by\":null,\"published-by\":null,\"cover-image\":\"https://minio.codingblocks.com/amoeba/1169418b-f4d8-45df-ac4a-899e6b649c41.svg\",\"language\":\"Hinglish\",\"organization\":null,\"coursefeatures\":[{\"icon\":\"https://minio.codingblocks.com/amoeba/9877e511-8e27-478b-8387-dfb52c228e82.png\",\"text\":\"150+ lectures\"},{\"icon\":\"https://minio.codingblocks.com/amoeba/190cf445-18ed-46a2-94e8-c79a4bfa0ce2.png\",\"text\":\"Ace ACM-ICPC, Google Kickstart\"},{\"icon\":\"https://minio.codingblocks.com/amoeba/6624567e-8f6a-4b6a-9dd8-f3ebf42940c4.png\",\"text\":\"Advanced Topics, Challenges & Quizzes\"},{\"icon\":\"https://minio.codingblocks.com/amoeba/fae1c1ec-4e24-475b-8bbf-fb07bdbd88cb.png\",\"text\":\"Doubt Support\"}],\"seo-meta\":\"The online Competitive Programming course by Coding Blocks is an ultimate online competitive coding training. With an aim to leverage and optimize the problem-solving skills of the young programmers, the course structure of this 8 weeks long online course is most extensively crafted to ensure their swift sail through the online coding challenges and code-athons. These online coding classes will cover concepts of Advanced Data Structures such as Segment Trees, Binary Index / Fenwick Trees. The students will be taught to construct algorithms involving Dynamic Programming, Bitmasking, Greedy Algorithms, and Divide & Conquer along with the essentials of advanced competitive programming topics. A good knowledge of basics (like sorting, searching, recursion ), data-structures and space-time complexity analysis on problems will definitely ensure nifty learning. With more than 100 recorded videos and 5 live webinars, along with 24x7 doubt clearing support to your aid, anyone on a binge to master the competitive coding tricks and techniques has absolutely no looking back!\",\"faq\":null,\"domains\":null},\"relationships\":{\"instructors\":{\"data\":[{\"type\":\"instructors\",\"id\":\"5\"},{\"type\":\"instructors\",\"id\":\"19\"}]},\"runs\":{\"data\":[{\"type\":\"runs\",\"id\":\"103\"},{\"type\":\"runs\",\"id\":\"87\"},{\"type\":\"runs\",\"id\":\"114\"},{\"type\":\"runs\",\"id\":\"24\"},{\"type\":\"runs\",\"id\":\"37\"},{\"type\":\"runs\",\"id\":\"13\"},{\"type\":\"runs\",\"id\":\"73\"},{\"type\":\"runs\",\"id\":\"57\"},{\"type\":\"runs\",\"id\":\"131\"},{\"type\":\"runs\",\"id\":\"173\"},{\"type\":\"runs\",\"id\":\"208\"},{\"type\":\"runs\",\"id\":\"209\"},{\"type\":\"runs\",\"id\":\"250\"},{\"type\":\"runs\",\"id\":\"271\"},{\"type\":\"runs\",\"id\":\"259\"},{\"type\":\"runs\",\"id\":\"298\"},{\"type\":\"runs\",\"id\":\"136\"},{\"type\":\"runs\",\"id\":\"286\"},{\"type\":\"runs\",\"id\":\"149\"},{\"type\":\"runs\",\"id\":\"320\"},{\"type\":\"runs\",\"id\":\"351\"},{\"type\":\"runs\",\"id\":\"369\"},{\"type\":\"runs\",\"id\":\"189\"}]},\"projects\":{\"data\":[]}}},{\"type\":\"courses\",\"id\":\"28\",\"attributes\":{\"title\":\"Tech Talks Sample Course\",\"subtitle\":\"Sample Course For Demonstration\",\"logo\":\"https://minio.codingblocks.com/amoeba/48704a87-4a16-4930-bc30-b8aae630fb90.SampleCoursepng\",\"category-name\":null,\"category-id\":null,\"doubt-sub-category-id\":null,\"summary\":\"Tech Talks India\\\\nGet Certified. Get Distinguished.\\\\nGet ahead in your career. Add an extra layer of confidence to your resume with India\\'s fastest growing technical employability and professional certification.\",\"promo-video\":\"https://www.youtube.com/embed/GLeuOVcevds?loop=1\",\"difficulty\":0,\"rating\":\"4.9\",\"slug\":null,\"unlisted\":true,\"review-count\":201,\"status\":\"published\",\"created-by\":null,\"reviewed-by\":null,\"published-by\":null,\"cover-image\":\"https://minio.codingblocks.com/amoeba/67f3b916-4149-448e-ae2e-e8854cad5714.svg\",\"language\":\"English\",\"organization\":null,\"coursefeatures\":[{\"icon\":\"https://minio.codingblocks.com/amoeba/9877e511-8e27-478b-8387-dfb52c228e82.png\",\"text\":\"100+ lecture Video Content\"},{\"icon\":\"https://minio.codingblocks.com/amoeba/190cf445-18ed-46a2-94e8-c79a4bfa0ce2.png\",\"text\":\"Re-visit and Revise topics\"},{\"icon\":\"https://minio.codingblocks.com/amoeba/6624567e-8f6a-4b6a-9dd8-f3ebf42940c4.png\",\"text\":\"Certification of Completion\"},{\"icon\":\"https://minio.codingblocks.com/amoeba/fae1c1ec-4e24-475b-8bbf-fb07bdbd88cb.png\",\"text\":\"24x7 mentor support\"}],\"seo-meta\":\"Tech Talks India\\\\nGet Certified. Get Distinguished.\\\\nGet ahead in your career. Add an extra layer of confidence to your resume with India\\'s fastest growing technical employability and professional certification.\",\"faq\":null,\"domains\":null},\"relationships\":{\"instructors\":{\"data\":[{\"type\":\"instructors\",\"id\":\"6\"}]},\"runs\":{\"data\":[{\"type\":\"runs\",\"id\":\"25\"}]},\"projects\":{\"data\":[]}}},{\"type\":\"courses\",\"id\":\"32\",\"attributes\":{\"title\":\"Tech Talks : Data Structures (SDA)\",\"subtitle\":\"Data structures course for Tech Talks SDA certification\",\"logo\":\"https://minio.codingblocks.com/amoeba/3de521f3-a4f7-4892-a927-fbea5e4e0f39.SampleCoursepng\",\"category-name\":\"Techtalks SDA\",\"category-id\":57,\"doubt-sub-category-id\":58,\"summary\":\"Tech Talks India\\\\nGet Certified. Get Distinguished.\\\\nGet ahead in your career. Add an extra layer of confidence to your resume with India\\'s fastest growing technical employability and professional certification.\",\"promo-video\":\"https://www.youtube.com/embed/GLeuOVcevds?loop=1\",\"difficulty\":0,\"rating\":\"4.4\",\"slug\":null,\"unlisted\":true,\"review-count\":205,\"status\":\"published\",\"created-by\":null,\"reviewed-by\":null,\"published-by\":null,\"cover-image\":\"https://minio.codingblocks.com/amoeba/67f3b916-4149-448e-ae2e-e8854cad5714.svg\",\"language\":\"English\",\"organization\":null,\"coursefeatures\":[{\"icon\":\"https://minio.codingblocks.com/amoeba/9877e511-8e27-478b-8387-dfb52c228e82.png\",\"text\":\"100+ lecture Video Content\"},{\"icon\":\"https://minio.codingblocks.com/amoeba/190cf445-18ed-46a2-94e8-c79a4bfa0ce2.png\",\"text\":\"Re-visit and Revise topics\"},{\"icon\":\"https://minio.codingblocks.com/amoeba/6624567e-8f6a-4b6a-9dd8-f3ebf42940c4.png\",\"text\":\"Certification of Completion\"},{\"icon\":\"https://minio.codingblocks.com/amoeba/fae1c1ec-4e24-475b-8bbf-fb07bdbd88cb.png\",\"text\":\"24x7 mentor support\"}],\"seo-meta\":\"Tech Talks India\\\\nGet Certified. Get Distinguished.\\\\nGet ahead in your career. Add an extra layer of confidence to your resume with India\\'s fastest growing technical employability and professional certification.\",\"faq\":null,\"domains\":null},\"relationships\":{\"instructors\":{\"data\":[{\"type\":\"instructors\",\"id\":\"11\"}]},\"runs\":{\"data\":[{\"type\":\"runs\",\"id\":\"29\"}]},\"projects\":{\"data\":[]}}},{\"type\":\"courses\",\"id\":\"85\",\"attributes\":{\"title\":\"Interview Preparation - Java\",\"subtitle\":\"Learn OS, DBMS, Networking & System Design and Data structures and algorithms with Java \",\"logo\":\"https://minio.codingblocks.com/amoeba/215fa6ed-14f3-4d1e-87d5-d9d71cf0d0dd.svg\",\"category-name\":\"interview-prep-course-java\",\"category-id\":121,\"doubt-sub-category-id\":122,\"summary\":\"Aspiring to get into a top Multi-National Company? Want a curriculum to give you a one-stop solution for all your programming interviews? \\\\n\\\\nThe online coding Interview Course by Coding Blocks is the place for you. This self-paced online Interview preparation course bridges the gap between the theoretical knowledge and the quick coding tricks and tips that the industry employers look for in their potential candidates. This online Bootcamp covers the topics such as Operating Systems, DBMS and System Design along with important coding questions asked in the interview process of companies like Google, Facebook, Amazon, Microsoft, Directi, Zomato, etc. Along with the technical know-how, non-technical aspects of programming interviews will also be covered as a part of the curriculum. This course provides the students with a unique opportunity to opt for bundle sets for the boot camp with either of the two- C++ or JAVA. With over 300 video lectures and several practice problems. Through these online classes, the students will not only become more efficient with their solutions by optimizing space and time but this course will also provide them a firm base to excel in all their programming interviews. This is meant for the students willing to strengthen their Data Structures and Algorithm concepts. These will be a combination of Interview Preparation and one complete course on Advanced Data Structures and Algorithm using C++ OR Java.  The journey to get into your dream company starts here!\\\\n\\\\n### Highlights\\\\n\\\\n• Extensive Data Structures & Algorithmic Coverage     \\\\n• In-depth Discussion on Important Computer Science Topics Like OS, DBMS etc  \\\\n• 500+ Video Lectures and Code Challenges   \\\\n• Hint Videos for Complex Problems    \\\\n• Lifetime Assignment Access  \\\\n• Intermediate & Advanced Topics for Interviews  \\\\n• Expert Doubt Support  \\\\n\\\\n\\\\n### Pre-requisites\\\\nBasic knowledge of fundamentals in any programming language either C++ or Java is required.\",\"promo-video\":\"https://www.youtube.com/embed/gDMO8VF0nIE?loop=1&rel=0\",\"difficulty\":2,\"rating\":\"4.6\",\"slug\":\"coding-interview-preparation-course-online-java\",\"unlisted\":false,\"review-count\":201,\"status\":\"published\",\"created-by\":{\"id\":2,\"firstname\":\"Abhishek\",\"lastname\":\"Gupta\",\"username\":\"abhishek97\",\"email\":\"zapper.awake@gmail.com\",\"verifiedemail\":\"zapper.awake@gmail.com\",\"verifiedmobile\":null,\"mobile\":\"+91-9654624247\",\"oneauth-id\":\"10\",\"last-read-notification\":\"0\",\"photo\":\"https://graph.facebook.com/1509942179038029/picture?type=large\",\"college\":\"0---OTHER / NOT LISTED / NO COLLEGE ---0\",\"organization\":null,\"role-id\":1,\"created-at\":\"2017-04-15T06:40:54.409Z\",\"updated-at\":\"2019-09-27T17:02:10.437Z\"},\"reviewed-by\":{\"id\":2,\"firstname\":\"Abhishek\",\"lastname\":\"Gupta\",\"username\":\"abhishek97\",\"email\":\"zapper.awake@gmail.com\",\"verifiedemail\":\"zapper.awake@gmail.com\",\"verifiedmobile\":null,\"mobile\":\"+91-9654624247\",\"oneauth-id\":\"10\",\"last-read-notification\":\"0\",\"photo\":\"https://graph.facebook.com/1509942179038029/picture?type=large\",\"college\":\"0---OTHER / NOT LISTED / NO COLLEGE ---0\",\"organization\":null,\"role-id\":1,\"created-at\":\"2017-04-15T06:40:54.409Z\",\"updated-at\":\"2019-09-27T17:02:10.437Z\"},\"published-by\":{\"id\":2,\"firstname\":\"Abhishek\",\"lastname\":\"Gupta\",\"username\":\"abhishek97\",\"email\":\"zapper.awake@gmail.com\",\"verifiedemail\":\"zapper.awake@gmail.com\",\"verifiedmobile\":null,\"mobile\":\"+91-9654624247\",\"oneauth-id\":\"10\",\"last-read-notification\":\"0\",\"photo\":\"https://graph.facebook.com/1509942179038029/picture?type=large\",\"college\":\"0---OTHER / NOT LISTED / NO COLLEGE ---0\",\"organization\":null,\"role-id\":1,\"created-at\":\"2017-04-15T06:40:54.409Z\",\"updated-at\":\"2019-09-27T17:02:10.437Z\"},\"cover-image\":\"https://minio.codingblocks.com/amoeba/71c7a59b-f715-4326-998a-319c77252686.svg\",\"language\":\"English\",\"organization\":null,\"coursefeatures\":[{\"icon\":\"https://minio.codingblocks.com/amoeba/9de40dac-3aa9-471d-ae7e-9ed7c3447dc7.png\",\"text\":\"300+ lecture Video Content\"},{\"icon\":\"https://minio.codingblocks.com/amoeba/de43959e-2ed9-4524-b05c-a1510116cc5d.png\",\"text\":\"Crack Coding & Tech Interviews\"},{\"icon\":\"https://minio.codingblocks.com/amoeba/9ae7ba7c-794b-4819-b33f-8d4659842371.png\",\"text\":\"Certification of Completion\"},{\"icon\":\"https://minio.codingblocks.com/amoeba/7ef89add-9569-4d0e-ab92-095a8cd35300.png\",\"text\":\"Code Pair & Doubt support\"}],\"seo-meta\":\"Aspiring to get into a top Multi-National Company? Want a curriculum to give you a one-stop solution for all your programming interviews? \\\\n\\\\nThe online coding Interview Course by Coding Blocks is the place for you. This self-paced online Interview preparation course bridges the gap between the theoretical knowledge and the quick coding tricks and tips that the industry employers look for in their potential candidates. This online Bootcamp covers the topics such as Operating Systems, DBMS and System Design along with important coding questions asked in the interview process of companies like Google, Facebook, Amazon, Microsoft, Directi, Zomato, etc. Along with the technical know-how, non-technical aspects of programming interviews will also be covered as a part of the curriculum. This course provides the students with a unique opportunity to opt for bundle sets for the boot camp with either of the two- C++ or JAVA. With over 300 video lectures and several practice problems. Through these online classes, the students will not only become more efficient with their solutions by optimizing space and time but this course will also provide them a firm base to excel in all their programming interviews. This is meant for the students willing to strengthen their Data Structures and Algorithm concepts. These will be a combination of Interview Preparation and one complete course on Advanced Data Structures and Algorithm using C++ OR Java.  The journey to get into your dream company starts here!\\\\n\\\\n### Highlights\\\\n\\\\n• Extensive Data Structures & Algorithmic Coverage     \\\\n• In-depth Discussion on Important Computer Science Topics Like OS, DBMS etc  \\\\n• 500+ Video Lectures and Code Challenges   \\\\n• Hint Videos for Complex Problems    \\\\n• Lifetime Assignment Access  \\\\n• Intermediate & Advanced Topics for Interviews  \\\\n• Expert Doubt Support  \\\\n\\\\n\\\\n### Pre-requisites\\\\nBasic knowledge of fundamentals in any programming language either C++ or Java is required.\",\"faq\":\"\\\\n**Will I get a certificate after completion of the course?**\\\\n\\\\nYes, you will receive a  certificate from coding blocks on 90 % completion of Course.\\\\n\\\\n**How many days of access will I get to my video content?**\\\\n\\\\nYou will receive 10 months of access to video content.\\\\n\\\\n**How many days of access will I get to my doubt support?**\\\\n\\\\nYou will have 6 months access to doubt support.\\\\n  \\\\n**How will I ask my course doubts?**\\\\n\\\\n There will be an ask doubt button in your online portal on top right corner. There you can ask your query.\\\\n\\\\n**What if I miss Deadline of Any Section?**\\\\n\\\\n These are guidelines to get best out of the course. If you want to do it on your own pace, you can ignore it.\\\\n\\\\n**Can I reset the progress, I have made in a course?**\\\\n\\\\nYes, you will be able to track and reset your progress.\\\\n\\\\n **Can I extend my access period for course content?**\\\\n\\\\n Yes, you can buy the extension.\\\\n\\\\n**Will I get any goodies with the course?**\\\\n\\\\n Yes, you will get the access to wildcraft bag and java module.\",\"domains\":null},\"relationships\":{\"instructors\":{\"data\":[{\"type\":\"instructors\",\"id\":\"6\"},{\"type\":\"instructors\",\"id\":\"9\"},{\"type\":\"instructors\",\"id\":\"10\"}]},\"runs\":{\"data\":[{\"type\":\"runs\",\"id\":\"111\"},{\"type\":\"runs\",\"id\":\"128\"},{\"type\":\"runs\",\"id\":\"63\"},{\"type\":\"runs\",\"id\":\"147\"},{\"type\":\"runs\",\"id\":\"174\"},{\"type\":\"runs\",\"id\":\"188\"},{\"type\":\"runs\",\"id\":\"233\"},{\"type\":\"runs\",\"id\":\"236\"},{\"type\":\"runs\",\"id\":\"260\"},{\"type\":\"runs\",\"id\":\"296\"},{\"type\":\"runs\",\"id\":\"350\"},{\"type\":\"runs\",\"id\":\"88\"},{\"type\":\"runs\",\"id\":\"321\"}]},\"projects\":{\"data\":[]}}},{\"type\":\"courses\",\"id\":\"40\",\"attributes\":{\"title\":\"Machine Learning Master Course\",\"subtitle\":\"Master Machine Learning techniques by building 20 mini projects!\",\"logo\":\"https://minio.codingblocks.com/amoeba/a4316dd5-972c-4a02-b0be-dc3b54d6739c.svg\",\"category-name\":\"Machine Learning Online\",\"category-id\":63,\"doubt-sub-category-id\":64,\"summary\":\"**Update** - We recently added a new major project in course on AI Caption Bot, which allows you make your own AI similar to Microsoft\\'s Caption Bot AI🤖!\\\\n\\\\n**Note** - Machine Learning course is now also a part of [**Data Science Master Course**](https://online.codingblocks.com/courses/data-science-online-course-python) which includes all Machine Learning topics with some extra topics and projects! If you are interested to master entire data pipeline, we recommend you take the **Data Science course**. Machine Learning course is more focused on modelling data using Machine Learning & Deep Learning techniques.\\\\n\\\\nThis online Machine Learning course by Coding Blocks is one of its kind. The course comprising of over 200 recorded tutorials and 20 mini projects for teaching, boasts of an all-exhaustive and highly comprehensive curriculum. The Machine Learning online course starts with the essentials of Python, gradually moving towards to concepts of advanced algorithms and finally into the cores of Machine Learning. With our key focus being the live projects, we dive deeper into the fundamentals of classical algorithms and deep neural networks enabling the students to work out optimizing solutions to the real-world problems. It is just a matter of weeks before the students actually begin building intelligent systems, working on AI algorithms and data crunching. As a part of these online Machine Learning classes, a detailed overview of the programming fundamentals and Python Basics would be covered with the students so as to make them grasp the concepts of Machine Learning quickly and effortlessly.\\\\n\\\\n### Course Highlights\\\\nThe course is broadly divided in 7 categories, and covers many topics from Coding Blocks Data Science & Deep Learning Course.\\\\n\\\\n• Introduction to Machine Learning  \\\\n• Supervised Learning Algorithms  \\\\n• Unsupervised Learning  \\\\n• Deep Learning  \\\\n• Deep Learning in Computer Vision  \\\\n• Deep Learning Natural Language Processing  \\\\n• Reinforcement Learning  \\\\n\\\\n### Course Duration  \\\\nYou may take anywhere between 6-8 months to complete this course.  \\\\nExpected time commitment is 8-10 hours per week.  \\\\n\\\\n### Pre-requisites   \\\\nPrior programming experience & OOPS concepts in any language is a must, knowledge of Python is recommended but not mandatory.\\\\nYou may try out out our **[Python for Developers](https://online.codingblocks.com/courses/python-for-beginners-developers)** course for strengthening your Python Concepts. You should be familiar with Git-Github basics.\",\"promo-video\":\"https://www.youtube.com/embed/-p-oB07vhGQ\",\"difficulty\":2,\"rating\":\"4.7\",\"slug\":\"machine-learning-course-online\",\"unlisted\":false,\"review-count\":335,\"status\":\"published\",\"created-by\":null,\"reviewed-by\":null,\"published-by\":null,\"cover-image\":\"https://minio.codingblocks.com/amoeba/6c820475-ae06-4f37-9899-16e50bc70532.svg\",\"language\":\"English\",\"organization\":null,\"coursefeatures\":[{\"icon\":\"https://minio.codingblocks.com/amoeba/de8a7e3a-acf2-4d04-a38e-eeb168d6f74c.svg\",\"text\":\"Maths + Theory + Code\"},{\"icon\":\"https://minio.codingblocks.com/amoeba/0add38e4-8e84-4a8a-932c-7650f6eb3aa7.svg\",\"text\":\"20 Mini Projects + Major Project on CaptionBot AI\"},{\"icon\":\"https://minio.codingblocks.com/amoeba/d2cc1843-cd60-40d8-a8de-f22971051bdf.svg\",\"text\":\"Quizzes + Kaggle Like Challenges\"},{\"icon\":\"https://minio.codingblocks.com/amoeba/cbd25462-bf76-4ee3-81a2-af5631084f59.svg\",\"text\":\"Ask Doubts, Get Certified\"}],\"seo-meta\":\"**Update** - We recently added a new major project in course on AI Caption Bot, which allows you make your own AI similar to Microsoft\\'s Caption Bot AI🤖!\\\\n**Note** - Machine Learning course is now also a part of [**Data Science Master Course**](https://online.codingblocks.com/courses/data-science-online-course-python) which includes all Machine Learning topics with some extra topics and projects! If you are interested to master entire data pipeline, we recommend you take the **Data Science course**. Machine Learning course is more focused on modelling data using Machine Learning & Deep Learning techniques.\\\\n\\\\nThis online Machine Learning course by Coding Blocks is one of its kind. The course comprising of over 200 recorded tutorials and 20 mini projects for teaching, boasts of an all-exhaustive and highly comprehensive curriculum. The Machine Learning online course starts with the essentials of Python, gradually moving towards to concepts of advanced algorithms and finally into the cores of Machine Learning. With our key focus being the live projects, we dive deeper into the fundamentals of classical algorithms and deep neural networks enabling the students to work out optimizing solutions to the real-world problems. It is just a matter of weeks before the students actually begin building intelligent systems, working on AI algorithms and data crunching. As a part of these online Machine Learning classes, a detailed overview of the programming fundamentals and Python Basics would be covered with the students so as to make them grasp the concepts of Machine Learning quickly and effortlessly.\\\\n\\\\n### Course Highlights\\\\nThe course is broadly divided in 7 categories, and covers many topics from Coding Blocks Data Science & Deep Learning Course.\\\\n\\\\n• Introduction to Machine Learning  \\\\n• Supervised Learning Algorithms  \\\\n• Unsupervised Learning  \\\\n• Deep Learning  \\\\n• Deep Learning in Computer Vision  \\\\n• Deep Learning Natural Language Processing  \\\\n• Reinforcement Learning  \\\\n\\\\n### Course Duration  \\\\nYou may take anywhere between 6-8 months to complete this course.  \\\\nExpected time commitment is 8-10 hours per week.  \\\\n\\\\n### Pre-requisites   \\\\nPrior programming experience & OOPS concepts in any language is a must, knowledge of Python is recommended but not mandatory.\\\\nYou may try out out our **[Python for Developers](https://online.codingblocks.com/courses/python-for-beginners-developers)** course for strengthening your Python Concepts. You should be familiar with Git-Github basics.\",\"faq\":null,\"domains\":[\"hellointern\"]},\"relationships\":{\"instructors\":{\"data\":[{\"type\":\"instructors\",\"id\":\"5\"}]},\"runs\":{\"data\":[{\"type\":\"runs\",\"id\":\"47\"},{\"type\":\"runs\",\"id\":\"138\"},{\"type\":\"runs\",\"id\":\"190\"},{\"type\":\"runs\",\"id\":\"164\"},{\"type\":\"runs\",\"id\":\"231\"},{\"type\":\"runs\",\"id\":\"249\"},{\"type\":\"runs\",\"id\":\"232\"},{\"type\":\"runs\",\"id\":\"258\"},{\"type\":\"runs\",\"id\":\"282\"},{\"type\":\"runs\",\"id\":\"297\"},{\"type\":\"runs\",\"id\":\"289\"},{\"type\":\"runs\",\"id\":\"270\"},{\"type\":\"runs\",\"id\":\"319\"},{\"type\":\"runs\",\"id\":\"342\"},{\"type\":\"runs\",\"id\":\"338\"},{\"type\":\"runs\",\"id\":\"354\"},{\"type\":\"runs\",\"id\":\"366\"}]},\"projects\":{\"data\":[{\"type\":\"projects\",\"id\":\"4\"},{\"type\":\"projects\",\"id\":\"12\"},{\"type\":\"projects\",\"id\":\"11\"},{\"type\":\"projects\",\"id\":\"10\"},{\"type\":\"projects\",\"id\":\"9\"},{\"type\":\"projects\",\"id\":\"8\"},{\"type\":\"projects\",\"id\":\"7\"},{\"type\":\"projects\",\"id\":\"6\"},{\"type\":\"projects\",\"id\":\"5\"}]}}},{\"type\":\"courses\",\"id\":\"30\",\"attributes\":{\"title\":\"Tech Talks : Basics of Computing & Programming Fundamentals\",\"subtitle\":\"Foundational Programming Course\",\"logo\":\"https://minio.codingblocks.com/amoeba/940c5536-e67f-411a-9920-24a05775685e.SampleCoursepng\",\"category-name\":\"techtalks BOC\",\"category-id\":47,\"doubt-sub-category-id\":48,\"summary\":\"Tech Talks India\\\\nGet Certified. Get Distinguished.\\\\nGet ahead in your career. Add an extra layer of confidence to your resume with India\\'s fastest growing technical employability and professional certification.\",\"promo-video\":\"https://www.youtube.com/embed/GLeuOVcevds?loop=1\",\"difficulty\":0,\"rating\":\"4.6\",\"slug\":null,\"unlisted\":true,\"review-count\":203,\"status\":\"published\",\"created-by\":null,\"reviewed-by\":null,\"published-by\":null,\"cover-image\":\"https://minio.codingblocks.com/amoeba/eaf40da7-8047-499c-9100-8b90f6b5fc79.svg\",\"language\":\"English\",\"organization\":null,\"coursefeatures\":[{\"icon\":\"https://minio.codingblocks.com/amoeba/9877e511-8e27-478b-8387-dfb52c228e82.png\",\"text\":\"100+ lecture Video Content\"},{\"icon\":\"https://minio.codingblocks.com/amoeba/190cf445-18ed-46a2-94e8-c79a4bfa0ce2.png\",\"text\":\"Re-visit and Revise topics\"},{\"icon\":\"https://minio.codingblocks.com/amoeba/6624567e-8f6a-4b6a-9dd8-f3ebf42940c4.png\",\"text\":\"Certification of Completion\"},{\"icon\":\"https://minio.codingblocks.com/amoeba/fae1c1ec-4e24-475b-8bbf-fb07bdbd88cb.png\",\"text\":\"24x7 mentor support\"}],\"seo-meta\":\"Tech Talks India\\\\nGet Certified. Get Distinguished.\\\\nGet ahead in your career. Add an extra layer of confidence to your resume with India\\'s fastest growing technical employability and professional certification.\",\"faq\":null,\"domains\":null},\"relationships\":{\"instructors\":{\"data\":[{\"type\":\"instructors\",\"id\":\"11\"}]},\"runs\":{\"data\":[{\"type\":\"runs\",\"id\":\"27\"}]},\"projects\":{\"data\":[]}}},{\"type\":\"courses\",\"id\":\"45\",\"attributes\":{\"title\":\"C++ Master Course | Launchpad\",\"subtitle\":\"Start from Basics, become a C++ Master!\",\"logo\":\"https://minio.codingblocks.com/amoeba/1008db10-135f-4b2b-a65a-5eee36be2171.svg\",\"category-name\":\"complete-cpp\",\"category-id\":65,\"doubt-sub-category-id\":66,\"summary\":\"First of its kind, our C++ online course for beginners is a uniquely designed online course in Data Structures and Algorithms to aid your journey right from the beginning to the very end in becoming the most skilled software engineers across the globe. Our online course in C++ is not only in absolute coherence with our most sought after classroom program, but also provides you the comfort of learning at your home. With over 300 video lectures and several practice problems. Through these online classes, the students will not only become more efficient with their solutions by optimizing space and time but this course will also provide them a firm base to excel in all their programming interviews. The core focus of these C++ classes for beginners is to maintain an equilibrium between theory and practical, thus providing the programmers with an ample amount of practice of questions based on Sorting, Searching, Greedy Algorithms, Divide and Conquer Algorithms, Dynamic Programming along with a comprehensive revision of data structures like linked-lists, Trees, Graphs, Heaps, Hashing etc. The user can opt for the complete bundle, or just the advanced part of the course. \\\\n\\\\n### Highlights\\\\n\\\\n• Extensive Data Structures & Algorithmic Coverage   \\\\n• 500+ Video Lectures and Code Challenges   \\\\n• Hint Videos for Complex Problems    \\\\n• Lifetime Assignment Access  \\\\n• Basics & Advanced Topics for Interviews  \\\\n• Expert Doubt Support  \\\\n\\\\n\\\\n### Pre-requisites\\\\nThere are no pre-requisites to join this course. Student familiar with C++ Syntax can also look for the Algo++ Course.\",\"promo-video\":\"https://www.youtube.com/embed/R_qdEmb-fNU\",\"difficulty\":0,\"rating\":\"4.8\",\"slug\":\"c-plus-plus-online-course-for-beginners\",\"unlisted\":false,\"review-count\":334,\"status\":\"published\",\"created-by\":null,\"reviewed-by\":null,\"published-by\":null,\"cover-image\":\"https://minio.codingblocks.com/amoeba/031dc421-b191-4627-8478-91d7dd76a62e.svg\",\"language\":\"Hinglish\",\"organization\":null,\"coursefeatures\":[{\"icon\":\"https://minio.codingblocks.com/amoeba/9c9f82a4-e829-4528-bd88-3f1cd6564f50.svg\",\"text\":\"300+ Expert Lessons\"},{\"icon\":\"https://minio.codingblocks.com/amoeba/b18e8e30-c532-4385-b543-74824a9c589f.svg\",\"text\":\"200+ Coding Challenges\"},{\"icon\":\"https://minio.codingblocks.com/amoeba/040fe980-0fbd-4ac7-9803-ae851b083a26.svg\",\"text\":\"Ace Interviews\"},{\"icon\":\"https://minio.codingblocks.com/amoeba/59ac54e9-7506-4da4-961e-5b0181f3f1e3.svg\",\"text\":\"Code Pair & Doubt support\"}],\"seo-meta\":\"Master C++ (\\\\\"C plus plus\\\\\") language from basics to advanced, with online detailed videos by industry experts. \",\"faq\":\"\\\\n\\\\n### Will I get a certificate after completion of the course?\\\\n\\\\nYes, you will receive a  certificate from Coding Blocks after completion of Course.\\\\n\\\\n  \\\\n\\\\n**How many days of access will I get to my study material?**\\\\n\\\\nYou will receive 10 months of access to your study material.\\\\n\\\\n  \\\\n\\\\n**How will I ask my Course Doubt?**\\\\n\\\\n There will be a Button in your portal. There you can ask your query.\\\\n\\\\n  \\\\n\\\\n**Can I reset the progress, I have made in a course?**\\\\n\\\\nYes, you will be able to track and reset your progress.\\\\n\\\\n  \\\\n\\\\n**Can I extend my access period for Study Material?**\\\\n\\\\n You can buy the extension.\\\\n\\\\n  \\\\n\",\"domains\":[\"hellointern\"]},\"relationships\":{\"instructors\":{\"data\":[{\"type\":\"instructors\",\"id\":\"19\"},{\"type\":\"instructors\",\"id\":\"5\"}]},\"runs\":{\"data\":[{\"type\":\"runs\",\"id\":\"64\"},{\"type\":\"runs\",\"id\":\"71\"},{\"type\":\"runs\",\"id\":\"156\"},{\"type\":\"runs\",\"id\":\"132\"},{\"type\":\"runs\",\"id\":\"141\"},{\"type\":\"runs\",\"id\":\"167\"},{\"type\":\"runs\",\"id\":\"180\"},{\"type\":\"runs\",\"id\":\"196\"},{\"type\":\"runs\",\"id\":\"243\"},{\"type\":\"runs\",\"id\":\"90\"},{\"type\":\"runs\",\"id\":\"101\"},{\"type\":\"runs\",\"id\":\"276\"},{\"type\":\"runs\",\"id\":\"106\"},{\"type\":\"runs\",\"id\":\"195\"},{\"type\":\"runs\",\"id\":\"122\"},{\"type\":\"runs\",\"id\":\"251\"},{\"type\":\"runs\",\"id\":\"159\"},{\"type\":\"runs\",\"id\":\"291\"},{\"type\":\"runs\",\"id\":\"288\"},{\"type\":\"runs\",\"id\":\"161\"},{\"type\":\"runs\",\"id\":\"330\"},{\"type\":\"runs\",\"id\":\"332\"},{\"type\":\"runs\",\"id\":\"345\"},{\"type\":\"runs\",\"id\":\"341\"},{\"type\":\"runs\",\"id\":\"333\"},{\"type\":\"runs\",\"id\":\"313\"},{\"type\":\"runs\",\"id\":\"263\"}]},\"projects\":{\"data\":[{\"type\":\"projects\",\"id\":\"13\"},{\"type\":\"projects\",\"id\":\"14\"},{\"type\":\"projects\",\"id\":\"15\"},{\"type\":\"projects\",\"id\":\"16\"},{\"type\":\"projects\",\"id\":\"17\"},{\"type\":\"projects\",\"id\":\"18\"}]}}},{\"type\":\"courses\",\"id\":\"74\",\"attributes\":{\"title\":\"Algo.Java Online\",\"subtitle\":\"Master Data Structures and Algorithms in Java. Crack Coding Interviews\",\"logo\":\"https://minio.codingblocks.com/amoeba/aa93f0f8-5edb-4623-8464-9544ec150aae.svg\",\"category-name\":\"Java Algo\",\"category-id\":82,\"doubt-sub-category-id\":83,\"summary\":\"This online course for Data Structures & Algorithms by Coding Blocks is a complete package for all the budding programmers who aspire to gain expertise in DS and Algo or are appearing for their internship/placement interviews. Through this online Data structures and algorithm course, the students will not only become more efficient with their solutions by optimizing space and time but this course will also provide them a firm base to excel in all their programming interviews. The classes start with a basic revision of recursion and Arrays. Advanced topics such as OOP(s), Complexity Analysis, Data Structures & Algorithms will be covered in the following classes. As all our courses, online or offline, are practical-oriented, this course in Data structures and Algorithms too involves thorough practice of questions based on Sorting, Searching, Greedy Algorithms, Divide and Conquer Algorithms, Dynamic Programming along with a comprehensive revision of data structures like linked-lists, Trees, Graphs, Heaps, Hashing etc. Anyone and everyone with a prior experience in Java and a good hands-on practice of data structures like arrays, stacks and queues is all set!\",\"promo-video\":\"https://www.youtube.com/embed/gE7pKxRm3zU?loop=1\",\"difficulty\":1,\"rating\":\"4.8\",\"slug\":\"data-structures-and-algorithms-online-course-java-algo\",\"unlisted\":false,\"review-count\":203,\"status\":\"published\",\"created-by\":{\"id\":2,\"firstname\":\"Abhishek\",\"lastname\":\"Gupta\",\"username\":\"abhishek97\",\"email\":\"zapper.awake@gmail.com\",\"verifiedemail\":\"zapper.awake@gmail.com\",\"verifiedmobile\":null,\"mobile\":\"+91-9654624247\",\"oneauth-id\":\"10\",\"last-read-notification\":\"0\",\"photo\":\"https://graph.facebook.com/1509942179038029/picture?type=large\",\"college\":\"0---OTHER / NOT LISTED / NO COLLEGE ---0\",\"organization\":null,\"role-id\":1,\"created-at\":\"2017-04-15T06:40:54.409Z\",\"updated-at\":\"2019-09-27T17:02:10.437Z\"},\"reviewed-by\":{\"id\":13,\"firstname\":\"Rishab\",\"lastname\":\"Kapoor\",\"username\":\"Rishab-Kapoor-1417799338262878\",\"email\":\"rishab.kapoor.29@gmail.com\",\"verifiedemail\":\"rishab.kapoor.29@gmail.com\",\"verifiedmobile\":null,\"mobile\":\"+91-9915882443\",\"oneauth-id\":\"347\",\"last-read-notification\":\"0\",\"photo\":\"https://graph.facebook.com/1417799338262878/picture?type=large\",\"college\":\"0---OTHER / NOT LISTED / NO COLLEGE ---0\",\"organization\":null,\"role-id\":1,\"created-at\":\"2017-05-24T06:50:16.451Z\",\"updated-at\":\"2019-09-16T17:21:19.451Z\"},\"published-by\":{\"id\":13,\"firstname\":\"Rishab\",\"lastname\":\"Kapoor\",\"username\":\"Rishab-Kapoor-1417799338262878\",\"email\":\"rishab.kapoor.29@gmail.com\",\"verifiedemail\":\"rishab.kapoor.29@gmail.com\",\"verifiedmobile\":null,\"mobile\":\"+91-9915882443\",\"oneauth-id\":\"347\",\"last-read-notification\":\"0\",\"photo\":\"https://graph.facebook.com/1417799338262878/picture?type=large\",\"college\":\"0---OTHER / NOT LISTED / NO COLLEGE ---0\",\"organization\":null,\"role-id\":1,\"created-at\":\"2017-05-24T06:50:16.451Z\",\"updated-at\":\"2019-09-16T17:21:19.451Z\"},\"cover-image\":\"https://minio.codingblocks.com/amoeba/bdb18ec7-1f6d-4c7d-a4e0-88cefd557dec.svg\",\"language\":\"English\",\"organization\":null,\"coursefeatures\":[{\"icon\":\"https://minio.codingblocks.com/amoeba/ed15d205-bd2c-4ab1-be0b-d4f39a74069a.png\",\"text\":\"200+ Expert Lessons\"},{\"icon\":\"https://minio.codingblocks.com/amoeba/7695ec96-eb9b-4347-be6a-00ccd1f12446.png\",\"text\":\"180 Coding Challenges\"},{\"icon\":\"https://minio.codingblocks.com/amoeba/93d3b6ff-2f1e-48c3-a9cd-8f4be486f63d.png\",\"text\":\"Ace Interviews\"},{\"icon\":\"https://minio.codingblocks.com/amoeba/8546a75d-f6b5-4e5d-af66-421dce9207c3.png\",\"text\":\"Code Pair & Doubt support\"}],\"seo-meta\":\"This online course for Data Structures & Algorithms by Coding Blocks is a complete package for all the budding programmers who aspire to gain expertise in DS and Algo or are appearing for their internship/placement interviews. Through this online Data structures and algorithm course, the students will not only become more efficient with their solutions by optimizing space and time but this course will also provide them a firm base to excel in all their programming interviews. The classes start with a basic revision of recursion and Arrays. Advanced topics such as OOP(s), Complexity Analysis, Data Structures & Algorithms will be covered in the following classes. As all our courses, online or offline, are practical-oriented, this course in Data structures and Algorithms too involves thorough practice of questions based on Sorting, Searching, Greedy Algorithms, Divide and Conquer Algorithms, Dynamic Programming along with a comprehensive revision of data structures like linked-lists, Trees, Graphs, Heaps, Hashing etc. Anyone and everyone with a prior experience in Java and a good hands-on practice of data structures like arrays, stacks and queues is all set!\",\"faq\":\"\\\\n**Will I get a certificate after completion of the course?**\\\\n\\\\nYes, you will receive a  certificate from coding blocks on 90 % completion of Course.\\\\n\\\\n**How many days of access will I get to my video content?**\\\\n\\\\nYou will receive 10 months of access to video content.\\\\n\\\\n**How many days of access will I get to my doubt support?**\\\\n\\\\nYou will have 6 months access to doubt support.\\\\n  \\\\n**How will I ask my course doubts?**\\\\n\\\\n There will be an ask doubt button in your online portal on top right corner. There you can ask your query.\\\\n\\\\n**What if I miss Deadline of Any Section?**\\\\n\\\\n These are guidelines to get best out of the course. If you want to do it on your own pace, you can ignore it.\\\\n\\\\n**Can I reset the progress, I have made in a course?**\\\\n\\\\nYes, you will be able to track and reset your progress.\\\\n\\\\n **Can I extend my access period for course content?**\\\\n\\\\n Yes, you can buy the extension.\\\\n\\\\n**Will I get any goodies with the course?**\\\\n\\\\n Yes, you will get the access to wildcraft bag and java module.\",\"domains\":null},\"relationships\":{\"instructors\":{\"data\":[{\"type\":\"instructors\",\"id\":\"9\"},{\"type\":\"instructors\",\"id\":\"10\"}]},\"runs\":{\"data\":[{\"type\":\"runs\",\"id\":\"151\"},{\"type\":\"runs\",\"id\":\"183\"},{\"type\":\"runs\",\"id\":\"225\"},{\"type\":\"runs\",\"id\":\"246\"},{\"type\":\"runs\",\"id\":\"255\"},{\"type\":\"runs\",\"id\":\"226\"},{\"type\":\"runs\",\"id\":\"284\"},{\"type\":\"runs\",\"id\":\"267\"},{\"type\":\"runs\",\"id\":\"295\"},{\"type\":\"runs\",\"id\":\"353\"},{\"type\":\"runs\",\"id\":\"370\"},{\"type\":\"runs\",\"id\":\"317\"}]},\"projects\":{\"data\":[]}}},{\"type\":\"courses\",\"id\":\"78\",\"attributes\":{\"title\":\"Build Desktop Apps with Electron\",\"subtitle\":\"Learn to Build Ship and Maintain Cross Platform Desktop Applications using Web Technologies like HTML,JavaScript & CSS\",\"logo\":\"https://minio.codingblocks.com/amoeba/30fb6de3-197a-4dc7-9531-6b1f9e581e3b.png\",\"category-name\":\"Build Desktop Apps with Electron\",\"category-id\":110,\"doubt-sub-category-id\":111,\"summary\":\"Electron is the most popular way to build Desktop apps in today\\'s day and age. Electron is a Chrome runtime with NodeJS bindings, which means without delving into C# and .NET or Swift and Objective-C, you can quickly apply your existing web development skills and NodeJS knowledge to build exemplary desktop apps that run on Windows, Mac and Linux all three platforms. \\\\n\\\\nIn this course, Piyush will take you through the process of getting started with Electron, and building multiple desktop-specific features like custom right-click context menus, running apps in background, keeping apps in notification tray and finally packaging and distributing your apps so people can download and run it on any Operating System they wish to. \\\\n\\\\nThere is a **Capstone Project** which involves making a desktop based expense manager. \",\"promo-video\":\"https://www.youtube.com/embed/7exgOGnbp3M\",\"difficulty\":1,\"rating\":\"4.4\",\"slug\":\"build-desktop-apps-with-electron\",\"unlisted\":true,\"review-count\":201,\"status\":\"published\",\"created-by\":{\"id\":21817,\"firstname\":\"Asif\",\"lastname\":\"Khan\",\"username\":\"Asif_Khan\",\"email\":\"asif.khan@codingblocks.com\",\"verifiedemail\":\"asif.khan@codingblocks.com\",\"verifiedmobile\":\"+91-9899870106\",\"mobile\":\"+91-9899870106\",\"oneauth-id\":\"13987\",\"last-read-notification\":\"0\",\"photo\":\"https://minio.codingblocks.com/img/avatar-19.svg\",\"college\":\"Maharaja Agresen Institute Of Technology\",\"organization\":null,\"role-id\":1,\"created-at\":\"2018-08-02T07:17:56.721Z\",\"updated-at\":\"2019-09-27T14:06:10.460Z\"},\"reviewed-by\":{\"id\":21817,\"firstname\":\"Asif\",\"lastname\":\"Khan\",\"username\":\"Asif_Khan\",\"email\":\"asif.khan@codingblocks.com\",\"verifiedemail\":\"asif.khan@codingblocks.com\",\"verifiedmobile\":\"+91-9899870106\",\"mobile\":\"+91-9899870106\",\"oneauth-id\":\"13987\",\"last-read-notification\":\"0\",\"photo\":\"https://minio.codingblocks.com/img/avatar-19.svg\",\"college\":\"Maharaja Agresen Institute Of Technology\",\"organization\":null,\"role-id\":1,\"created-at\":\"2018-08-02T07:17:56.721Z\",\"updated-at\":\"2019-09-27T14:06:10.460Z\"},\"published-by\":{\"id\":21817,\"firstname\":\"Asif\",\"lastname\":\"Khan\",\"username\":\"Asif_Khan\",\"email\":\"asif.khan@codingblocks.com\",\"verifiedemail\":\"asif.khan@codingblocks.com\",\"verifiedmobile\":\"+91-9899870106\",\"mobile\":\"+91-9899870106\",\"oneauth-id\":\"13987\",\"last-read-notification\":\"0\",\"photo\":\"https://minio.codingblocks.com/img/avatar-19.svg\",\"college\":\"Maharaja Agresen Institute Of Technology\",\"organization\":null,\"role-id\":1,\"created-at\":\"2018-08-02T07:17:56.721Z\",\"updated-at\":\"2019-09-27T14:06:10.460Z\"},\"cover-image\":\"https://minio.codingblocks.com/amoeba/c72fa7e4-ae05-4853-a390-557af8a5529c.png\",\"language\":\"Hinglish\",\"organization\":null,\"coursefeatures\":[{\"icon\":\"https://minio.codingblocks.com/amoeba/9877e511-8e27-478b-8387-dfb52c228e82.png\",\"text\":\"100+ lecture Video Content\"},{\"icon\":\"https://minio.codingblocks.com/amoeba/190cf445-18ed-46a2-94e8-c79a4bfa0ce2.png\",\"text\":\"Re-visit and Revise topics\"},{\"icon\":\"https://minio.codingblocks.com/amoeba/6624567e-8f6a-4b6a-9dd8-f3ebf42940c4.png\",\"text\":\"Certification of Completion\"},{\"icon\":\"https://minio.codingblocks.com/amoeba/fae1c1ec-4e24-475b-8bbf-fb07bdbd88cb.png\",\"text\":\"24x7 mentor support\"}],\"seo-meta\":\"Electron is the most popular way to build Desktop apps in today\\'s day and age. Electron is a Chrome runtime with NodeJS bindings, which means without delving into C# and .NET or Swift and Objective-C, you can quickly apply your existing web development skills and NodeJS knowledge to build exemplary desktop apps that run on Windows, Mac and Linux all three platforms. \\\\n\\\\nIn this course, Piyush will take you through the process of getting started with Electron, and building multiple desktop-specific features like custom right-click context menus, running apps in background, keeping apps in notification tray and finally packaging and distributing your apps so people can download and run it on any Operating System they wish to. \\\\n\\\\nThere is a **Capstone Project** which involves making a desktop based expense manager. \",\"faq\":null,\"domains\":null},\"relationships\":{\"instructors\":{\"data\":[{\"type\":\"instructors\",\"id\":\"22\"}]},\"runs\":{\"data\":[{\"type\":\"runs\",\"id\":\"191\"},{\"type\":\"runs\",\"id\":\"215\"},{\"type\":\"runs\",\"id\":\"214\"},{\"type\":\"runs\",\"id\":\"213\"},{\"type\":\"runs\",\"id\":\"305\"}]},\"projects\":{\"data\":[]}}},{\"type\":\"courses\",\"id\":\"76\",\"attributes\":{\"title\":\"Complete Angular Course: Beginner to Advanced\",\"subtitle\":\"Speed up your web development with Angular\",\"logo\":\"https://minio.codingblocks.com/amoeba/9f6b8dc0-439b-493f-b632-01f3a88020ce.png\",\"category-name\":\"angular course\",\"category-id\":88,\"doubt-sub-category-id\":89,\"summary\":\"The online course for Angular by Coding Blocks is deftly designed with an aim to help the students and professionals with the hands-on experience on the fundamentals of the popular Angular framework. As a part of these online Angular Course classes, the students will be able to grasp the basic fundamentals which will help them in writing efficient, cleaner and powerful frontend code. The course will start with basic topics such as tooling using angular-cli and then dive into the components. Throughout the course, the students will be mentored in a manner that they develop proficiency with Angular which will update them with the latest Javascript standards. Anyone with a good command of basic Javascript concepts is good to go!\",\"promo-video\":\"https://www.youtube.com/embed/TxVhUM17sMQ\",\"difficulty\":1,\"rating\":\"4.6\",\"slug\":\"angular-node-js\",\"unlisted\":true,\"review-count\":204,\"status\":\"published\",\"created-by\":{\"id\":21817,\"firstname\":\"Asif\",\"lastname\":\"Khan\",\"username\":\"Asif_Khan\",\"email\":\"asif.khan@codingblocks.com\",\"verifiedemail\":\"asif.khan@codingblocks.com\",\"verifiedmobile\":\"+91-9899870106\",\"mobile\":\"+91-9899870106\",\"oneauth-id\":\"13987\",\"last-read-notification\":\"0\",\"photo\":\"https://minio.codingblocks.com/img/avatar-19.svg\",\"college\":\"Maharaja Agresen Institute Of Technology\",\"organization\":null,\"role-id\":1,\"created-at\":\"2018-08-02T07:17:56.721Z\",\"updated-at\":\"2019-09-27T14:06:10.460Z\"},\"reviewed-by\":{\"id\":21817,\"firstname\":\"Asif\",\"lastname\":\"Khan\",\"username\":\"Asif_Khan\",\"email\":\"asif.khan@codingblocks.com\",\"verifiedemail\":\"asif.khan@codingblocks.com\",\"verifiedmobile\":\"+91-9899870106\",\"mobile\":\"+91-9899870106\",\"oneauth-id\":\"13987\",\"last-read-notification\":\"0\",\"photo\":\"https://minio.codingblocks.com/img/avatar-19.svg\",\"college\":\"Maharaja Agresen Institute Of Technology\",\"organization\":null,\"role-id\":1,\"created-at\":\"2018-08-02T07:17:56.721Z\",\"updated-at\":\"2019-09-27T14:06:10.460Z\"},\"published-by\":{\"id\":21817,\"firstname\":\"Asif\",\"lastname\":\"Khan\",\"username\":\"Asif_Khan\",\"email\":\"asif.khan@codingblocks.com\",\"verifiedemail\":\"asif.khan@codingblocks.com\",\"verifiedmobile\":\"+91-9899870106\",\"mobile\":\"+91-9899870106\",\"oneauth-id\":\"13987\",\"last-read-notification\":\"0\",\"photo\":\"https://minio.codingblocks.com/img/avatar-19.svg\",\"college\":\"Maharaja Agresen Institute Of Technology\",\"organization\":null,\"role-id\":1,\"created-at\":\"2018-08-02T07:17:56.721Z\",\"updated-at\":\"2019-09-27T14:06:10.460Z\"},\"cover-image\":\"https://minio.codingblocks.com/amoeba/da22de62-351d-4f2a-afa2-bccfede3638a.png\",\"language\":\"English\",\"organization\":null,\"coursefeatures\":[{\"icon\":\"https://minio.codingblocks.com/amoeba/9877e511-8e27-478b-8387-dfb52c228e82.png\",\"text\":\"100+ lecture Video Content\"},{\"icon\":\"https://minio.codingblocks.com/amoeba/190cf445-18ed-46a2-94e8-c79a4bfa0ce2.png\",\"text\":\"Re-visit and Revise topics\"},{\"icon\":\"https://minio.codingblocks.com/amoeba/6624567e-8f6a-4b6a-9dd8-f3ebf42940c4.png\",\"text\":\"Certification of Completion\"},{\"icon\":\"https://minio.codingblocks.com/amoeba/fae1c1ec-4e24-475b-8bbf-fb07bdbd88cb.png\",\"text\":\"24x7 mentor support\"}],\"seo-meta\":\"The online course for Angular by Coding Blocks is deftly designed with an aim to help the students and professionals with the hands-on experience on the fundamentals of the popular Angular framework. As a part of these online Angular Course classes, the students will be able to grasp the basic fundamentals which will help them in writing efficient, cleaner and powerful frontend code. The course will start with basic topics such as tooling using angular-cli and then dive into the components. Throughout the course, the students will be mentored in a manner that they develop proficiency with Angular which will update them with the latest Javascript standards. Anyone with a good command of basic Javascript concepts is good to go!\",\"faq\":null,\"domains\":null},\"relationships\":{\"instructors\":{\"data\":[{\"type\":\"instructors\",\"id\":\"12\"}]},\"runs\":{\"data\":[{\"type\":\"runs\",\"id\":\"166\"},{\"type\":\"runs\",\"id\":\"222\"},{\"type\":\"runs\",\"id\":\"224\"},{\"type\":\"runs\",\"id\":\"223\"},{\"type\":\"runs\",\"id\":\"303\"}]},\"projects\":{\"data\":[]}}},{\"type\":\"courses\",\"id\":\"79\",\"attributes\":{\"title\":\"C++ for Class XII\",\"subtitle\":\"Kickstart C/C++, Ace CBSE Computer Science Board Exams!\",\"logo\":\"https://minio.codingblocks.com/amoeba/ef1ec91f-ced1-4cd8-9c1b-e8ceaa299fb6.svg\",\"category-name\":null,\"category-id\":null,\"doubt-sub-category-id\":null,\"summary\":\"This course is designed for students in Class XII of CBSE affiliated schools and covers the entire syllabus of the exam. The course is taught by Kartik bhaiya, who is a B.Tech (CS) from NSIT, Delhi and has worked with companies like DRDO and BEL.\\\\nEach section describes the topic using theory and then picks up relevant examples to reinforce the understanding. The course also helps students understand how they can score high in boards by following different techniques.\",\"promo-video\":\"https://www.youtube.com/embed/HoWfJ2ha2O0?loop=1&rel=0\",\"difficulty\":0,\"rating\":\"4.3\",\"slug\":\"c-plus-plus-class-twelfth-boards\",\"unlisted\":false,\"review-count\":201,\"status\":\"published\",\"created-by\":{\"id\":21817,\"firstname\":\"Asif\",\"lastname\":\"Khan\",\"username\":\"Asif_Khan\",\"email\":\"asif.khan@codingblocks.com\",\"verifiedemail\":\"asif.khan@codingblocks.com\",\"verifiedmobile\":\"+91-9899870106\",\"mobile\":\"+91-9899870106\",\"oneauth-id\":\"13987\",\"last-read-notification\":\"0\",\"photo\":\"https://minio.codingblocks.com/img/avatar-19.svg\",\"college\":\"Maharaja Agresen Institute Of Technology\",\"organization\":null,\"role-id\":1,\"created-at\":\"2018-08-02T07:17:56.721Z\",\"updated-at\":\"2019-09-27T14:06:10.460Z\"},\"reviewed-by\":{\"id\":21817,\"firstname\":\"Asif\",\"lastname\":\"Khan\",\"username\":\"Asif_Khan\",\"email\":\"asif.khan@codingblocks.com\",\"verifiedemail\":\"asif.khan@codingblocks.com\",\"verifiedmobile\":\"+91-9899870106\",\"mobile\":\"+91-9899870106\",\"oneauth-id\":\"13987\",\"last-read-notification\":\"0\",\"photo\":\"https://minio.codingblocks.com/img/avatar-19.svg\",\"college\":\"Maharaja Agresen Institute Of Technology\",\"organization\":null,\"role-id\":1,\"created-at\":\"2018-08-02T07:17:56.721Z\",\"updated-at\":\"2019-09-27T14:06:10.460Z\"},\"published-by\":{\"id\":21817,\"firstname\":\"Asif\",\"lastname\":\"Khan\",\"username\":\"Asif_Khan\",\"email\":\"asif.khan@codingblocks.com\",\"verifiedemail\":\"asif.khan@codingblocks.com\",\"verifiedmobile\":\"+91-9899870106\",\"mobile\":\"+91-9899870106\",\"oneauth-id\":\"13987\",\"last-read-notification\":\"0\",\"photo\":\"https://minio.codingblocks.com/img/avatar-19.svg\",\"college\":\"Maharaja Agresen Institute Of Technology\",\"organization\":null,\"role-id\":1,\"created-at\":\"2018-08-02T07:17:56.721Z\",\"updated-at\":\"2019-09-27T14:06:10.460Z\"},\"cover-image\":\"https://minio.codingblocks.com/amoeba/21247eb9-b5ca-42ce-86ee-0f265bd81c88.svg\",\"language\":\"Hinglish\",\"organization\":null,\"coursefeatures\":[{\"icon\":\"https://minio.codingblocks.com/amoeba/9877e511-8e27-478b-8387-dfb52c228e82.png\",\"text\":\"100+ lecture Video Content\"},{\"icon\":\"https://minio.codingblocks.com/amoeba/190cf445-18ed-46a2-94e8-c79a4bfa0ce2.png\",\"text\":\"Re-visit and Revise topics\"},{\"icon\":\"https://minio.codingblocks.com/amoeba/6624567e-8f6a-4b6a-9dd8-f3ebf42940c4.png\",\"text\":\"Certification of Completion\"},{\"icon\":\"https://minio.codingblocks.com/amoeba/fae1c1ec-4e24-475b-8bbf-fb07bdbd88cb.png\",\"text\":\"24x7 mentor support\"}],\"seo-meta\":\"This course is designed for students in Class XII of CBSE affiliated schools and covers the entire syllabus of the exam. The course is taught by Kartik bhaiya, who is a B.Tech (CS) from NSIT, Delhi and has worked with companies like DRDO and BEL.\\\\nEach section describes the topic using theory and then picks up relevant examples to reinforce the understanding. The course also helps students understand how they can score high in boards by following different techniques.\",\"faq\":null,\"domains\":null},\"relationships\":{\"instructors\":{\"data\":[{\"type\":\"instructors\",\"id\":\"21\"}]},\"runs\":{\"data\":[{\"type\":\"runs\",\"id\":\"192\"},{\"type\":\"runs\",\"id\":\"220\"},{\"type\":\"runs\",\"id\":\"221\"},{\"type\":\"runs\",\"id\":\"219\"},{\"type\":\"runs\",\"id\":\"306\"},{\"type\":\"runs\",\"id\":\"327\"},{\"type\":\"runs\",\"id\":\"358\"},{\"type\":\"runs\",\"id\":\"359\"}]},\"projects\":{\"data\":[]}}},{\"type\":\"courses\",\"id\":\"53\",\"attributes\":{\"title\":\"Web Development with Python-Django\",\"subtitle\":\"Create web apps quickly and efficiently with less code!\",\"logo\":\"https://minio.codingblocks.com/amoeba/8d22fc34-2747-4a93-94cd-e3148b58840f.svg\",\"category-name\":\"Python-Django\",\"category-id\":106,\"doubt-sub-category-id\":107,\"summary\":\"Django is a high-level Python web framework that encourages rapid development and clean, pragmatic design. Built by experienced developers, it takes care of much of the hassle of Web development, so you can focus on writing your app without needing to reinvent the wheel. It’s free and open source. Django was designed to help developers take applications from concept to completion as quickly as possible. It takes security seriously and helps developers avoid many common security mistakes. The most important advantage is its scalability. Some of the busiest sites on the Web leverage Django’s ability to quickly and flexibly scale.\\\\n\\\\n\\\\nThis course takes you on an exciting journey of building Web Apps using Python-Django. Starting from Python basics, it introduces you to web terminologies covering all aspects of Django Framework in great detail. You master these skills by building 5 uber cool projects.\\\\n\\\\n## Highlights\\\\n\\\\n- • Extensive coverage of framework components\\\\n- • Project-Based Learning Approach\\\\n- • Lessons on Deploying your Application\\\\n- • Basics & Advanced Topics for Interviews\\\\n- • Expert Doubt Support\\\\n\\\\n## Pre-requisites\\\\n\\\\nBasic Knowledge of Programming concepts is required. We recommend these courses <a href=\\\\\"https://online.codingblocks.com/courses/c-plus-plus-online-course-for-beginners\\\\\"> Launchpad (C++) </a> or <a href=\\\\\"https://online.codingblocks.com/courses/complete-java-course-online\\\\\"> Crux (JAVA) </a>\",\"promo-video\":\"https://www.youtube.com/embed/w5paEhjL-R4\",\"difficulty\":1,\"rating\":\"4.2\",\"slug\":\"python-django\",\"unlisted\":false,\"review-count\":207,\"status\":\"published\",\"created-by\":{\"id\":21457,\"firstname\":\"Jatin\",\"lastname\":\"Katyal\",\"username\":\"jatinkatyal13\",\"email\":\"jatin.katyal13@gmail.com\",\"verifiedemail\":\"jatin.katyal13@gmail.com\",\"verifiedmobile\":\"+91-9818590425\",\"mobile\":\"+91-9818590425\",\"oneauth-id\":\"6613\",\"last-read-notification\":\"0\",\"photo\":\"https://avatars1.githubusercontent.com/u/18536540?v=4\",\"college\":\"IIT, Delhi (Delhi)\",\"organization\":null,\"role-id\":1,\"created-at\":\"2018-08-01T08:34:04.951Z\",\"updated-at\":\"2019-09-18T07:16:48.482Z\"},\"reviewed-by\":{\"id\":21457,\"firstname\":\"Jatin\",\"lastname\":\"Katyal\",\"username\":\"jatinkatyal13\",\"email\":\"jatin.katyal13@gmail.com\",\"verifiedemail\":\"jatin.katyal13@gmail.com\",\"verifiedmobile\":\"+91-9818590425\",\"mobile\":\"+91-9818590425\",\"oneauth-id\":\"6613\",\"last-read-notification\":\"0\",\"photo\":\"https://avatars1.githubusercontent.com/u/18536540?v=4\",\"college\":\"IIT, Delhi (Delhi)\",\"organization\":null,\"role-id\":1,\"created-at\":\"2018-08-01T08:34:04.951Z\",\"updated-at\":\"2019-09-18T07:16:48.482Z\"},\"published-by\":{\"id\":21817,\"firstname\":\"Asif\",\"lastname\":\"Khan\",\"username\":\"Asif_Khan\",\"email\":\"asif.khan@codingblocks.com\",\"verifiedemail\":\"asif.khan@codingblocks.com\",\"verifiedmobile\":\"+91-9899870106\",\"mobile\":\"+91-9899870106\",\"oneauth-id\":\"13987\",\"last-read-notification\":\"0\",\"photo\":\"https://minio.codingblocks.com/img/avatar-19.svg\",\"college\":\"Maharaja Agresen Institute Of Technology\",\"organization\":null,\"role-id\":1,\"created-at\":\"2018-08-02T07:17:56.721Z\",\"updated-at\":\"2019-09-27T14:06:10.460Z\"},\"cover-image\":\"https://minio.codingblocks.com/amoeba/2c53d1da-9060-436a-a6cb-f11f49c56a8b.svg\",\"language\":\"English\",\"organization\":null,\"coursefeatures\":[{\"icon\":\"https://minio.codingblocks.com/amoeba/9877e511-8e27-478b-8387-dfb52c228e82.png\",\"text\":\"High Quality Lectures\"},{\"icon\":\"https://minio.codingblocks.com/amoeba/190cf445-18ed-46a2-94e8-c79a4bfa0ce2.png\",\"text\":\"Re-visit and Revise topics\"},{\"icon\":\"https://minio.codingblocks.com/amoeba/6624567e-8f6a-4b6a-9dd8-f3ebf42940c4.png\",\"text\":\"Certification of Completion\"},{\"icon\":\"https://minio.codingblocks.com/amoeba/fae1c1ec-4e24-475b-8bbf-fb07bdbd88cb.png\",\"text\":\"Project Based Learning\"}],\"seo-meta\":\"Django is a high-level Python web framework that encourages rapid development and clean, pragmatic design. Built by experienced developers, it takes care of much of the hassle of Web development, so you can focus on writing your app without needing to reinvent the wheel. It’s free and open source. Django was designed to help developers take applications from concept to completion as quickly as possible. It takes security seriously and helps developers avoid many common security mistakes. The most important advantage is its scalability. Some of the busiest sites on the Web leverage Django’s ability to quickly and flexibly scale.\\\\n\\\\n\\\\nThis course takes you on an exciting journey of building Web Apps using Python-Django. Starting from Python basics, it introduces you to web terminologies covering all aspects of Django Framework in great detail. You master these skills by building 5 uber cool projects.\\\\n\\\\n## Highlights\\\\n\\\\n- • Extensive coverage of framework components\\\\n- • Project-Based Learning Approach\\\\n- • Lessons on Deploying your Application\\\\n- • Basics & Advanced Topics for Interviews\\\\n- • Expert Doubt Support\\\\n\\\\n## Pre-requisites\\\\n\\\\nBasic Knowledge of Programming concepts is required. We recommend these courses <a href=\\\\\"https://online.codingblocks.com/courses/c-plus-plus-online-course-for-beginners\\\\\"> Launchpad (C++) </a> or <a href=\\\\\"https://online.codingblocks.com/courses/complete-java-course-online\\\\\"> Crux (JAVA) </a>\",\"faq\":null,\"domains\":null},\"relationships\":{\"instructors\":{\"data\":[{\"type\":\"instructors\",\"id\":\"16\"},{\"type\":\"instructors\",\"id\":\"5\"}]},\"runs\":{\"data\":[{\"type\":\"runs\",\"id\":\"212\"},{\"type\":\"runs\",\"id\":\"210\"},{\"type\":\"runs\",\"id\":\"140\"},{\"type\":\"runs\",\"id\":\"272\"},{\"type\":\"runs\",\"id\":\"262\"},{\"type\":\"runs\",\"id\":\"300\"},{\"type\":\"runs\",\"id\":\"211\"},{\"type\":\"runs\",\"id\":\"348\"},{\"type\":\"runs\",\"id\":\"323\"}]},\"projects\":{\"data\":[]}}},{\"type\":\"courses\",\"id\":\"77\",\"attributes\":{\"title\":\"Coding Challenges\",\"subtitle\":\"Free Youtube Series for everyone! Ace Interview Questions | Win Goodies!\",\"logo\":\"https://minio.codingblocks.com/amoeba/ebb61ac2-6f42-4377-a040-81b67bd98c47.svg\",\"category-name\":\"youtube-coding-challenges-projects\",\"category-id\":119,\"doubt-sub-category-id\":120,\"summary\":\"Ace interview with free webinar series for all the coders out there. This is a 8 week series, you will be given one interview problem every week on Coding Blocks Youtube Channel (http://cb.lk/yt). During the series there will be few practice problems which you can practice and win goodies at the end of the series.  \",\"promo-video\":\"https://www.youtube.com/embed/GLeuOVcevds?loop=1&rel=0\",\"difficulty\":0,\"rating\":\"5\",\"slug\":\"interview-prep-youtube-series\",\"unlisted\":true,\"review-count\":200,\"status\":\"published\",\"created-by\":{\"id\":21817,\"firstname\":\"Asif\",\"lastname\":\"Khan\",\"username\":\"Asif_Khan\",\"email\":\"asif.khan@codingblocks.com\",\"verifiedemail\":\"asif.khan@codingblocks.com\",\"verifiedmobile\":\"+91-9899870106\",\"mobile\":\"+91-9899870106\",\"oneauth-id\":\"13987\",\"last-read-notification\":\"0\",\"photo\":\"https://minio.codingblocks.com/img/avatar-19.svg\",\"college\":\"Maharaja Agresen Institute Of Technology\",\"organization\":null,\"role-id\":1,\"created-at\":\"2018-08-02T07:17:56.721Z\",\"updated-at\":\"2019-09-27T14:06:10.460Z\"},\"reviewed-by\":{\"id\":21817,\"firstname\":\"Asif\",\"lastname\":\"Khan\",\"username\":\"Asif_Khan\",\"email\":\"asif.khan@codingblocks.com\",\"verifiedemail\":\"asif.khan@codingblocks.com\",\"verifiedmobile\":\"+91-9899870106\",\"mobile\":\"+91-9899870106\",\"oneauth-id\":\"13987\",\"last-read-notification\":\"0\",\"photo\":\"https://minio.codingblocks.com/img/avatar-19.svg\",\"college\":\"Maharaja Agresen Institute Of Technology\",\"organization\":null,\"role-id\":1,\"created-at\":\"2018-08-02T07:17:56.721Z\",\"updated-at\":\"2019-09-27T14:06:10.460Z\"},\"published-by\":{\"id\":21817,\"firstname\":\"Asif\",\"lastname\":\"Khan\",\"username\":\"Asif_Khan\",\"email\":\"asif.khan@codingblocks.com\",\"verifiedemail\":\"asif.khan@codingblocks.com\",\"verifiedmobile\":\"+91-9899870106\",\"mobile\":\"+91-9899870106\",\"oneauth-id\":\"13987\",\"last-read-notification\":\"0\",\"photo\":\"https://minio.codingblocks.com/img/avatar-19.svg\",\"college\":\"Maharaja Agresen Institute Of Technology\",\"organization\":null,\"role-id\":1,\"created-at\":\"2018-08-02T07:17:56.721Z\",\"updated-at\":\"2019-09-27T14:06:10.460Z\"},\"cover-image\":\"https://minio.codingblocks.com/amoeba/c31690af-6206-44ac-a1cd-80adca5cdf18.svg\",\"language\":\"English\",\"organization\":null,\"coursefeatures\":[{\"icon\":\"https://minio.codingblocks.com/amoeba/9877e511-8e27-478b-8387-dfb52c228e82.png\",\"text\":\"100+ lecture Video Content\"},{\"icon\":\"https://minio.codingblocks.com/amoeba/190cf445-18ed-46a2-94e8-c79a4bfa0ce2.png\",\"text\":\"Re-visit and Revise topics\"},{\"icon\":\"https://minio.codingblocks.com/amoeba/6624567e-8f6a-4b6a-9dd8-f3ebf42940c4.png\",\"text\":\"Certification of Completion\"},{\"icon\":\"https://minio.codingblocks.com/amoeba/fae1c1ec-4e24-475b-8bbf-fb07bdbd88cb.png\",\"text\":\"24x7 mentor support\"}],\"seo-meta\":\"Ace interview with free webinar series for all the coders out there. This is a 8 week series, you will be given one interview problem every week on Coding Blocks Youtube Channel (http://cb.lk/yt). During the series there will be few practice problems which you can practice and win goodies at the end of the series.  \",\"faq\":null,\"domains\":null},\"relationships\":{\"instructors\":{\"data\":[{\"type\":\"instructors\",\"id\":\"5\"}]},\"runs\":{\"data\":[{\"type\":\"runs\",\"id\":\"178\"}]},\"projects\":{\"data\":[]}}},{\"type\":\"courses\",\"id\":\"82\",\"attributes\":{\"title\":\"DS and Algo in C++ for Shiv Nadar University\",\"subtitle\":\"Master Data Structures and Algorithms in C++. Crack Coding Interviews.\",\"logo\":\"https://minio.codingblocks.com/amoeba/1008db10-135f-4b2b-a65a-5eee36be2171.svg\",\"category-name\":\"dsalgo snu\",\"category-id\":108,\"doubt-sub-category-id\":109,\"summary\":\"First of its kind, our C++ online course for beginners is a uniquely designed online course in Data Structures and Algorithms to aid your journey right from the beginning to the very end in becoming the most skilled software engineers across the globe. Our online course in C++ is not only in absolute coherence with our most sought after classroom program, but also provides you the comfort of learning at your home. With over 30 video lectures and several live sessions, all our doubt classes will also be held live on our own online platform so as to provide the students with the most effective doubt solving, in a one-to-one conversational format.\\\\nThis online training in C++ includes basic programming fundamentals, object oriented programming (OOPs) and in-depth coverage of data structures and algorithms. Through these online classes, the students will not only become more efficient with their solutions by optimizing space and time but this course will also provide them a firm base to excel in all their programming interviews. The core focus of these C++ classes for beginners is to maintain an equilibrium between theory and practical, thus providing the programmers with an ample amount of practice of questions based on Sorting, Searching, Greedy Algorithms, Divide and Conquer Algorithms, Dynamic Programming along with a comprehensive revision of data structures like linked-lists, Trees, Graphs, Heaps, Hashing etc. The user can opt for the complete bundle, or just the advanced part of the course. \",\"promo-video\":\"https://www.youtube.com/embed/GLeuOVcevds?loop=1&rel=0\",\"difficulty\":2,\"rating\":\"5\",\"slug\":\"ds-algo-cpp-snu\",\"unlisted\":true,\"review-count\":200,\"status\":\"published\",\"created-by\":{\"id\":487,\"firstname\":\"Varun\",\"lastname\":\"Hasija\",\"username\":\"witty123\",\"email\":\"warunhasija@gmail.com\",\"verifiedemail\":\"warunhasija@gmail.com\",\"verifiedmobile\":null,\"mobile\":\"+91-8882829955\",\"oneauth-id\":\"6920\",\"last-read-notification\":\"0\",\"photo\":\"https://minio.codingblocks.com/img/avatar-11.svg\",\"college\":\"Delhi Technological University (New-Delhi)\",\"organization\":null,\"role-id\":1,\"created-at\":\"2017-11-22T13:51:32.637Z\",\"updated-at\":\"2019-09-26T15:13:49.382Z\"},\"reviewed-by\":{\"id\":487,\"firstname\":\"Varun\",\"lastname\":\"Hasija\",\"username\":\"witty123\",\"email\":\"warunhasija@gmail.com\",\"verifiedemail\":\"warunhasija@gmail.com\",\"verifiedmobile\":null,\"mobile\":\"+91-8882829955\",\"oneauth-id\":\"6920\",\"last-read-notification\":\"0\",\"photo\":\"https://minio.codingblocks.com/img/avatar-11.svg\",\"college\":\"Delhi Technological University (New-Delhi)\",\"organization\":null,\"role-id\":1,\"created-at\":\"2017-11-22T13:51:32.637Z\",\"updated-at\":\"2019-09-26T15:13:49.382Z\"},\"published-by\":{\"id\":487,\"firstname\":\"Varun\",\"lastname\":\"Hasija\",\"username\":\"witty123\",\"email\":\"warunhasija@gmail.com\",\"verifiedemail\":\"warunhasija@gmail.com\",\"verifiedmobile\":null,\"mobile\":\"+91-8882829955\",\"oneauth-id\":\"6920\",\"last-read-notification\":\"0\",\"photo\":\"https://minio.codingblocks.com/img/avatar-11.svg\",\"college\":\"Delhi Technological University (New-Delhi)\",\"organization\":null,\"role-id\":1,\"created-at\":\"2017-11-22T13:51:32.637Z\",\"updated-at\":\"2019-09-26T15:13:49.382Z\"},\"cover-image\":null,\"language\":\"Hinglish\",\"organization\":null,\"coursefeatures\":[{\"icon\":\"https://minio.codingblocks.com/amoeba/9877e511-8e27-478b-8387-dfb52c228e82.png\",\"text\":\"200+ lectures,100 MCQs\"},{\"icon\":\"https://minio.codingblocks.com/amoeba/190cf445-18ed-46a2-94e8-c79a4bfa0ce2.png\",\"text\":\"180 Coding Challenges\"},{\"icon\":\"https://minio.codingblocks.com/amoeba/6624567e-8f6a-4b6a-9dd8-f3ebf42940c4.png\",\"text\":\"Ace Interviews\"},{\"icon\":\"https://minio.codingblocks.com/amoeba/fae1c1ec-4e24-475b-8bbf-fb07bdbd88cb.png\",\"text\":\"Code Pair & Doubt support\"}],\"seo-meta\":\"First of its kind, our C++ online course for beginners is a uniquely designed online course in Data Structures and Algorithms to aid your journey right from the beginning to the very end in becoming the most skilled software engineers across the globe. Our online course in C++ is not only in absolute coherence with our most sought after classroom program, but also provides you the comfort of learning at your home. With over 30 video lectures and several live sessions, all our doubt classes will also be held live on our own online platform so as to provide the students with the most effective doubt solving, in a one-to-one conversational format.\\\\nThis online training in C++ includes basic programming fundamentals, object oriented programming (OOPs) and in-depth coverage of data structures and algorithms. Through these online classes, the students will not only become more efficient with their solutions by optimizing space and time but this course will also provide them a firm base to excel in all their programming interviews. The core focus of these C++ classes for beginners is to maintain an equilibrium between theory and practical, thus providing the programmers with an ample amount of practice of questions based on Sorting, Searching, Greedy Algorithms, Divide and Conquer Algorithms, Dynamic Programming along with a comprehensive revision of data structures like linked-lists, Trees, Graphs, Heaps, Hashing etc. The user can opt for the complete bundle, or just the advanced part of the course. \",\"faq\":null,\"domains\":null},\"relationships\":{\"instructors\":{\"data\":[{\"type\":\"instructors\",\"id\":\"21\"},{\"type\":\"instructors\",\"id\":\"5\"}]},\"runs\":{\"data\":[{\"type\":\"runs\",\"id\":\"240\"}]},\"projects\":{\"data\":[]}}},{\"type\":\"courses\",\"id\":\"83\",\"attributes\":{\"title\":\"Data Science Master Course\",\"subtitle\":\"Start from basics, become a industry ready data scientist! \",\"logo\":\"https://minio.codingblocks.com/amoeba/0ee7474c-de3c-44d7-a704-646491c702e8.svg\",\"category-name\":\"data-science-online-python\",\"category-id\":117,\"doubt-sub-category-id\":118,\"summary\":\"\\\\n**Note** - Data Science Master Course also includes [Machine Learning Master Course](https://online.codingblocks.com/courses/machine-learning-course-online). \\\\n\\\\nData Science is one of the hottest fields of the 21st century. It is in high demand across the globe with bigwigs like Amazon, Google, Microsoft paying handsome salaries and perks to data scientists. This course provides you with a great kick-start in your data science journey by starting with Python Basics, Data Visualization, Data Scraping, Building Web Scrappers using Scrapy, Data Cleaning and applying various machine learning algorithms like Linear Regression, Logistic Regression, Decision Trees, Naive Bayes, Principal Component Analysis, Feature Engineering, T-SNE Visualizations, Deep Learning & Reinforcement Learning for video games. The complete course is very practical and makes sure you do sufficient hands-on practice on the concepts taught by solving assignments and challenges.\\\\n\\\\n### Course Highlights\\\\n\\\\n- Python Basics\\\\n- Data Science Pipeline  \\\\n- Data Acquisition & Analysis  \\\\n- Web Scrapping, Google API, FacebookAPI  \\\\n- Scrapy, Beautiful Soup  \\\\n- Data Cleaning & Visualization  \\\\n-  Machine Learning from scratch    \\\\n- Supervised Learning  \\\\n- Unsupervised Learning    \\\\n- Deep Learning for Vision    \\\\n- Deep Learning for NLP    \\\\n- Frameworks - Numpy, Pandas, Sci-kit, Keras, Matplotlib, Scrapy, BeautifulSoup etc.\\\\n\\\\n**Bonus** - Reinforcement Learning for Video Games\\\\n\\\\n\\\\n### Course Pre-requisites\\\\nThere are no pre-requisites to join the course. Familiarity and ability to write code in any programming language is a must.\\\\n\\\\n### Career Aspects\\\\nAfter completing this course, you can apply for the following roles -\\\\n- Data Science Engineer\\\\n- Data Analysis Engineer\\\\n- Machine Learning Engineer\\\\n- Deep Learning Engineer\\\\n- Data Scientist\",\"promo-video\":\"https://www.youtube.com/embed/JgSZP9GeRt4\",\"difficulty\":1,\"rating\":\"4.8\",\"slug\":\"data-science-online-course-python\",\"unlisted\":false,\"review-count\":215,\"status\":\"published\",\"created-by\":{\"id\":12,\"firstname\":\"Prateek\",\"lastname\":\"Narang\",\"username\":\"Prateek-Narang-10209158320224419\",\"email\":\"prateeknarang27@yahoo.co.in\",\"verifiedemail\":\"prateeknarang27@yahoo.co.in\",\"verifiedmobile\":null,\"mobile\":\"+91-9718694389\",\"oneauth-id\":\"328\",\"last-read-notification\":\"0\",\"photo\":\"https://graph.facebook.com/10209158320224419/picture?type=large\",\"college\":\"Delhi Technological University (New-Delhi)\",\"organization\":null,\"role-id\":1,\"created-at\":\"2017-05-21T19:04:23.044Z\",\"updated-at\":\"2019-09-25T17:27:54.170Z\"},\"reviewed-by\":{\"id\":12,\"firstname\":\"Prateek\",\"lastname\":\"Narang\",\"username\":\"Prateek-Narang-10209158320224419\",\"email\":\"prateeknarang27@yahoo.co.in\",\"verifiedemail\":\"prateeknarang27@yahoo.co.in\",\"verifiedmobile\":null,\"mobile\":\"+91-9718694389\",\"oneauth-id\":\"328\",\"last-read-notification\":\"0\",\"photo\":\"https://graph.facebook.com/10209158320224419/picture?type=large\",\"college\":\"Delhi Technological University (New-Delhi)\",\"organization\":null,\"role-id\":1,\"created-at\":\"2017-05-21T19:04:23.044Z\",\"updated-at\":\"2019-09-25T17:27:54.170Z\"},\"published-by\":{\"id\":12,\"firstname\":\"Prateek\",\"lastname\":\"Narang\",\"username\":\"Prateek-Narang-10209158320224419\",\"email\":\"prateeknarang27@yahoo.co.in\",\"verifiedemail\":\"prateeknarang27@yahoo.co.in\",\"verifiedmobile\":null,\"mobile\":\"+91-9718694389\",\"oneauth-id\":\"328\",\"last-read-notification\":\"0\",\"photo\":\"https://graph.facebook.com/10209158320224419/picture?type=large\",\"college\":\"Delhi Technological University (New-Delhi)\",\"organization\":null,\"role-id\":1,\"created-at\":\"2017-05-21T19:04:23.044Z\",\"updated-at\":\"2019-09-25T17:27:54.170Z\"},\"cover-image\":\"https://minio.codingblocks.com/amoeba/f1ff7a56-1e5e-4250-8a93-494741fcc2c1.svg\",\"language\":\"English\",\"organization\":null,\"coursefeatures\":[{\"icon\":\"https://minio.codingblocks.com/amoeba/5feffc1e-5862-45a0-a2b4-6212f72d277e.svg\",\"text\":\"200+ Expert Lessons, Solve Challenges\"},{\"icon\":\"https://minio.codingblocks.com/amoeba/c1ac9ca0-581f-4a3c-b8e5-839839ed6831.svg\",\"text\":\"Kick-start  Machine & Deep Learning\"},{\"icon\":\"https://minio.codingblocks.com/amoeba/53142137-6801-46b4-86e7-ea8b3ef92fc0.svg\",\"text\":\"Build 15+ Mini Projects, Get Certified\"},{\"icon\":\"https://minio.codingblocks.com/amoeba/e441d72b-8074-447f-804e-be6ab150e979.svg\",\"text\":\"Ask Doubts, Strengthen Concepts\"}],\"seo-meta\":\"\\\\n**Note** - Data Science Master Course also includes [Machine Learning Master Course](https://online.codingblocks.com/courses/machine-learning-course-online). \\\\n\\\\nData Science is one of the hottest fields of the 21st century. It is in high demand across the globe with bigwigs like Amazon, Google, Microsoft paying handsome salaries and perks to data scientists. This course provides you with a great kick-start in your data science journey by starting with Python Basics, Data Visualization, Data Scraping, Building Web Scrappers using Scrapy, Data Cleaning and applying various machine learning algorithms like Linear Regression, Logistic Regression, Decision Trees, Naive Bayes, Principal Component Analysis, Feature Engineering, T-SNE Visualizations, Deep Learning & Reinforcement Learning for video games. The complete course is very practical and makes sure you do sufficient hands-on practice on the concepts taught by solving assignments and challenges.\\\\n\\\\n### Course Highlights\\\\n\\\\n- Python Basics\\\\n- Data Science Pipeline  \\\\n- Data Acquisition & Analysis  \\\\n- Web Scrapping, Google API, FacebookAPI  \\\\n- Scrapy, Beautiful Soup  \\\\n- Data Cleaning & Visualization  \\\\n-  Machine Learning from scratch    \\\\n- Supervised Learning  \\\\n- Unsupervised Learning    \\\\n- Deep Learning for Vision    \\\\n- Deep Learning for NLP    \\\\n- Frameworks - Numpy, Pandas, Sci-kit, Keras, Matplotlib, Scrapy, BeautifulSoup etc.\\\\n\\\\n**Bonus** - Reinforcement Learning for Video Games\\\\n\\\\n\\\\n### Course Pre-requisites\\\\nThere are no pre-requisites to join the course. Familiarity and ability to write code in any programming language is a must.\\\\n\\\\n### Career Aspects\\\\nAfter completing this course, you can apply for the following roles -\\\\n- Data Science Engineer\\\\n- Data Analysis Engineer\\\\n- Machine Learning Engineer\\\\n- Deep Learning Engineer\\\\n- Data Scientist\",\"faq\":null,\"domains\":null},\"relationships\":{\"instructors\":{\"data\":[{\"type\":\"instructors\",\"id\":\"5\"}]},\"runs\":{\"data\":[{\"type\":\"runs\",\"id\":\"241\"},{\"type\":\"runs\",\"id\":\"310\"},{\"type\":\"runs\",\"id\":\"290\"},{\"type\":\"runs\",\"id\":\"355\"},{\"type\":\"runs\",\"id\":\"368\"},{\"type\":\"runs\",\"id\":\"325\"}]},\"projects\":{\"data\":[{\"type\":\"projects\",\"id\":\"42\"},{\"type\":\"projects\",\"id\":\"41\"},{\"type\":\"projects\",\"id\":\"40\"},{\"type\":\"projects\",\"id\":\"36\"},{\"type\":\"projects\",\"id\":\"39\"},{\"type\":\"projects\",\"id\":\"38\"},{\"type\":\"projects\",\"id\":\"37\"},{\"type\":\"projects\",\"id\":\"35\"},{\"type\":\"projects\",\"id\":\"34\"},{\"type\":\"projects\",\"id\":\"33\"},{\"type\":\"projects\",\"id\":\"31\"},{\"type\":\"projects\",\"id\":\"32\"}]}}},{\"type\":\"courses\",\"id\":\"86\",\"attributes\":{\"title\":\"Dynamic Programming Master Course\",\"subtitle\":\"Become a DP Champion!\",\"logo\":\"https://minio.codingblocks.com/amoeba/bcbc38ad-abc5-4fc5-a27d-3b455130da51.svg\",\"category-name\":\"dynamic-programming-online\",\"category-id\":124,\"doubt-sub-category-id\":125,\"summary\":\"**Preorder Now**\\\\nWe are happy to announce our newest offering Dynamic Programming Master Course which comprises of all Dynamic Programming topics and is first of its kind. The course is taught by our expert mentors Sanyam Garg, who is ace Competitive Programmer and works at Google along with Prateek Narang Bhayia, who is highly popular among students for his teaching methods. The course is expected to hit completion by 25th September.\\\\n\\\\n**Course Update as on 10th September** - The following sections of the course have been completed - \\\\n\\\\n- Introduction to DP\\\\n- DP Introduction Challenges\\\\n- Digit DP\\\\n- DP on Bitmasking \\\\n- SOS DP\\\\n\\\\n\\\\nOther sections are under development and will be complete by 25th September. \",\"promo-video\":\"https://www.youtube.com/embed/U6066ZnHT-g\",\"difficulty\":2,\"rating\":\"4.5\",\"slug\":\"learn-dynamic-programming-online-course\",\"unlisted\":false,\"review-count\":205,\"status\":\"published\",\"created-by\":{\"id\":12,\"firstname\":\"Prateek\",\"lastname\":\"Narang\",\"username\":\"Prateek-Narang-10209158320224419\",\"email\":\"prateeknarang27@yahoo.co.in\",\"verifiedemail\":\"prateeknarang27@yahoo.co.in\",\"verifiedmobile\":null,\"mobile\":\"+91-9718694389\",\"oneauth-id\":\"328\",\"last-read-notification\":\"0\",\"photo\":\"https://graph.facebook.com/10209158320224419/picture?type=large\",\"college\":\"Delhi Technological University (New-Delhi)\",\"organization\":null,\"role-id\":1,\"created-at\":\"2017-05-21T19:04:23.044Z\",\"updated-at\":\"2019-09-25T17:27:54.170Z\"},\"reviewed-by\":{\"id\":12,\"firstname\":\"Prateek\",\"lastname\":\"Narang\",\"username\":\"Prateek-Narang-10209158320224419\",\"email\":\"prateeknarang27@yahoo.co.in\",\"verifiedemail\":\"prateeknarang27@yahoo.co.in\",\"verifiedmobile\":null,\"mobile\":\"+91-9718694389\",\"oneauth-id\":\"328\",\"last-read-notification\":\"0\",\"photo\":\"https://graph.facebook.com/10209158320224419/picture?type=large\",\"college\":\"Delhi Technological University (New-Delhi)\",\"organization\":null,\"role-id\":1,\"created-at\":\"2017-05-21T19:04:23.044Z\",\"updated-at\":\"2019-09-25T17:27:54.170Z\"},\"published-by\":{\"id\":12,\"firstname\":\"Prateek\",\"lastname\":\"Narang\",\"username\":\"Prateek-Narang-10209158320224419\",\"email\":\"prateeknarang27@yahoo.co.in\",\"verifiedemail\":\"prateeknarang27@yahoo.co.in\",\"verifiedmobile\":null,\"mobile\":\"+91-9718694389\",\"oneauth-id\":\"328\",\"last-read-notification\":\"0\",\"photo\":\"https://graph.facebook.com/10209158320224419/picture?type=large\",\"college\":\"Delhi Technological University (New-Delhi)\",\"organization\":null,\"role-id\":1,\"created-at\":\"2017-05-21T19:04:23.044Z\",\"updated-at\":\"2019-09-25T17:27:54.170Z\"},\"cover-image\":\"https://minio.codingblocks.com/amoeba/f58810e3-6b7a-494d-8efb-c0c35de1ebd5.svg\",\"language\":\"English\",\"organization\":null,\"coursefeatures\":[{\"icon\":\"https://minio.codingblocks.com/amoeba/582a05e4-4d7b-4727-9ffb-469b939d7826.svg\",\"text\":\"Learn all DP Tricks\"},{\"icon\":\"https://minio.codingblocks.com/amoeba/a5bd7091-2993-46b5-9245-c365aace9369.svg\",\"text\":\"DP on Trees, Graphs\"},{\"icon\":\"https://minio.codingblocks.com/amoeba/f9ef6bae-4848-4436-a51e-4df8f6688372.svg\",\"text\":\"Bitmasks, Digit & SOS DP\"},{\"icon\":\"https://minio.codingblocks.com/amoeba/782aed51-9a90-4b06-b731-e925ff97349d.svg\",\"text\":\"Solve 100+ DP Challenges\"}],\"seo-meta\":\"\",\"faq\":\"\",\"domains\":null},\"relationships\":{\"instructors\":{\"data\":[{\"type\":\"instructors\",\"id\":\"23\"},{\"type\":\"instructors\",\"id\":\"5\"}]},\"runs\":{\"data\":[{\"type\":\"runs\",\"id\":\"331\"},{\"type\":\"runs\",\"id\":\"365\"}]},\"projects\":{\"data\":[]}}}]}'"
      ]
     },
     "execution_count": 91,
     "metadata": {},
     "output_type": "execute_result"
    }
   ],
   "source": [
    "r.content.decode('utf-8')"
   ]
  },
  {
   "cell_type": "code",
   "execution_count": null,
   "metadata": {},
   "outputs": [],
   "source": []
  },
  {
   "cell_type": "code",
   "execution_count": null,
   "metadata": {},
   "outputs": [],
   "source": []
  },
  {
   "cell_type": "code",
   "execution_count": null,
   "metadata": {},
   "outputs": [],
   "source": []
  },
  {
   "cell_type": "code",
   "execution_count": null,
   "metadata": {},
   "outputs": [],
   "source": []
  },
  {
   "cell_type": "markdown",
   "metadata": {},
   "source": [
    "![](http://i.imgur.com/gRvt4lV.png)"
   ]
  },
  {
   "cell_type": "markdown",
   "metadata": {},
   "source": [
    "### Example 2\n",
    "\n",
    "[Google maps geocoding API](https://developers.google.com/maps/documentation/geocoding/intro)"
   ]
  },
  {
   "cell_type": "markdown",
   "metadata": {},
   "source": [
    "## POST request\n",
    "\n",
    "![](https://www.safaribooksonline.com/library/view/head-first-servlets/9780596516680/httpatomoreillycomsourceoreillyimages1377910.png.jpg)"
   ]
  },
  {
   "cell_type": "markdown",
   "metadata": {},
   "source": [
    "### Example 1\n",
    "\n",
    "[Pastebin API](https://pastebin.com/api)"
   ]
  },
  {
   "cell_type": "code",
   "execution_count": 93,
   "metadata": {},
   "outputs": [],
   "source": [
    "url = \"https://pastebin.com/api/api_post.php\"\n",
    "key = \"e7d82892722c4597a57091897f2a449f\""
   ]
  },
  {
   "cell_type": "code",
   "execution_count": 104,
   "metadata": {},
   "outputs": [],
   "source": [
    "body = {\n",
    "    \"api_dev_key\": key,\n",
    "    \"api_option\": \"paste\",\n",
    "    \"api_paste_format\": \"c++\",\n",
    "    \"api_paste_code\": open('code.cpp', 'r').read()\n",
    "}"
   ]
  },
  {
   "cell_type": "code",
   "execution_count": 105,
   "metadata": {},
   "outputs": [],
   "source": [
    "headers = {\n",
    "    \n",
    "}"
   ]
  },
  {
   "cell_type": "code",
   "execution_count": 106,
   "metadata": {},
   "outputs": [],
   "source": [
    "params = {\n",
    "    \"a\": \"x asd asdaf <>\"\n",
    "}"
   ]
  },
  {
   "cell_type": "code",
   "execution_count": 107,
   "metadata": {},
   "outputs": [],
   "source": [
    "r = requests.post(url, data = body, params = params, headers=headers)"
   ]
  },
  {
   "cell_type": "code",
   "execution_count": 103,
   "metadata": {},
   "outputs": [
    {
     "data": {
      "text/plain": [
       "'https://pastebin.com/api/api_post.php?a=x+asd+asdaf+%3C%3E'"
      ]
     },
     "execution_count": 103,
     "metadata": {},
     "output_type": "execute_result"
    }
   ],
   "source": [
    "r.url"
   ]
  },
  {
   "cell_type": "code",
   "execution_count": 108,
   "metadata": {},
   "outputs": [
    {
     "data": {
      "text/plain": [
       "b'https://pastebin.com/Ghdsrr6v'"
      ]
     },
     "execution_count": 108,
     "metadata": {},
     "output_type": "execute_result"
    }
   ],
   "source": [
    "r.content"
   ]
  },
  {
   "cell_type": "markdown",
   "metadata": {},
   "source": [
    "### Example 2\n",
    "\n",
    "https://m.me/mycodebot\n",
    "\n",
    "[HackeRank code checker API](https://www.hackerrank.com/api/docs)"
   ]
  },
  {
   "cell_type": "markdown",
   "metadata": {},
   "source": [
    "# 2. Downloading files\n",
    "\n",
    "![](http://noclone.net/images/file-types-s.png)\n",
    "\n",
    "Downloading large files in chunks!"
   ]
  },
  {
   "cell_type": "code",
   "execution_count": 113,
   "metadata": {},
   "outputs": [],
   "source": [
    "import requests"
   ]
  },
  {
   "cell_type": "code",
   "execution_count": 127,
   "metadata": {},
   "outputs": [],
   "source": [
    "url = \"http://graph.facebook.com/4/picture?type=large\"\n",
    "r = requests.get(url)"
   ]
  },
  {
   "cell_type": "code",
   "execution_count": null,
   "metadata": {},
   "outputs": [],
   "source": [
    "r.headers"
   ]
  },
  {
   "cell_type": "code",
   "execution_count": 125,
   "metadata": {},
   "outputs": [],
   "source": [
    "chunk_size = 256"
   ]
  },
  {
   "cell_type": "code",
   "execution_count": 132,
   "metadata": {},
   "outputs": [
    {
     "name": "stdout",
     "output_type": "stream",
     "text": [
      "Requirement already satisfied: tqdm in /Users/jatinkatyal/miniconda3/lib/python3.7/site-packages (4.28.1)\n",
      "\u001b[33mWARNING: You are using pip version 19.1.1, however version 19.2.3 is available.\n",
      "You should consider upgrading via the 'pip install --upgrade pip' command.\u001b[0m\n"
     ]
    }
   ],
   "source": [
    "!pip install tqdm"
   ]
  },
  {
   "cell_type": "code",
   "execution_count": 128,
   "metadata": {},
   "outputs": [],
   "source": [
    "from tqdm import tqdm"
   ]
  },
  {
   "cell_type": "code",
   "execution_count": 130,
   "metadata": {},
   "outputs": [],
   "source": [
    "import time"
   ]
  },
  {
   "cell_type": "code",
   "execution_count": 131,
   "metadata": {},
   "outputs": [
    {
     "name": "stderr",
     "output_type": "stream",
     "text": [
      "100%|██████████| 10/10 [00:10<00:00,  1.01s/it]\n"
     ]
    }
   ],
   "source": [
    "for i in tqdm(range(10)):\n",
    "    time.sleep(1)\n",
    "    pass"
   ]
  },
  {
   "cell_type": "code",
   "execution_count": 152,
   "metadata": {},
   "outputs": [
    {
     "data": {
      "text/plain": [
       "{'Date': 'Sun, 29 Sep 2019 04:36:12 GMT', 'Server': 'Apache', 'Strict-Transport-Security': 'max-age=63072000; includeSubdomains; preload', 'X-Content-Type-Options': 'nosniff', 'X-Frame-Options': 'SAMEORIGIN', 'Last-Modified': 'Sun, 19 May 2002 14:49:00 GMT', 'Accept-Ranges': 'bytes', 'Content-Length': '20702285', 'Keep-Alive': 'timeout=15, max=100', 'Connection': 'Keep-Alive', 'Content-Type': 'application/pdf'}"
      ]
     },
     "execution_count": 152,
     "metadata": {},
     "output_type": "execute_result"
    }
   ],
   "source": [
    "# pdf_url = \"http://www.africau.edu/images/default/sample.pdf\"\n",
    "pdf_url = \"https://www.hq.nasa.gov/alsj/a17/A17_FlightPlan.pdf\"\n",
    "r = requests.get(pdf_url, stream=True)\n",
    "r.headers"
   ]
  },
  {
   "cell_type": "code",
   "execution_count": 147,
   "metadata": {},
   "outputs": [],
   "source": [
    "import math"
   ]
  },
  {
   "cell_type": "code",
   "execution_count": 159,
   "metadata": {},
   "outputs": [],
   "source": [
    "iterations = math.ceil(int(r.headers['Content-Length']) / chunk_size)\n",
    "extension = mimetypes.guess_extension(r.headers['Content-Type'])"
   ]
  },
  {
   "cell_type": "code",
   "execution_count": 153,
   "metadata": {},
   "outputs": [
    {
     "name": "stderr",
     "output_type": "stream",
     "text": [
      "100%|██████████| 80869/80869 [01:47<00:00, 752.43it/s] \n"
     ]
    }
   ],
   "source": [
    "with open('file' + extension, 'wb') as file:\n",
    "    for chunk in tqdm(r.iter_content(chunk_size=chunk_size), total=iterations):\n",
    "        file.write(chunk)"
   ]
  },
  {
   "cell_type": "code",
   "execution_count": 155,
   "metadata": {},
   "outputs": [],
   "source": [
    "import mimetypes"
   ]
  },
  {
   "cell_type": "code",
   "execution_count": 166,
   "metadata": {},
   "outputs": [
    {
     "data": {
      "text/plain": [
       "'.png'"
      ]
     },
     "execution_count": 166,
     "metadata": {},
     "output_type": "execute_result"
    }
   ],
   "source": [
    "mimetypes.guess_extension('image/png')"
   ]
  },
  {
   "cell_type": "code",
   "execution_count": null,
   "metadata": {},
   "outputs": [],
   "source": []
  },
  {
   "cell_type": "code",
   "execution_count": null,
   "metadata": {},
   "outputs": [],
   "source": []
  },
  {
   "cell_type": "code",
   "execution_count": null,
   "metadata": {},
   "outputs": [],
   "source": []
  },
  {
   "cell_type": "code",
   "execution_count": null,
   "metadata": {},
   "outputs": [],
   "source": []
  },
  {
   "cell_type": "code",
   "execution_count": null,
   "metadata": {},
   "outputs": [],
   "source": []
  },
  {
   "cell_type": "markdown",
   "metadata": {},
   "source": [
    "# 3. Web scraping\n",
    "\n",
    "![](https://cdn-images-1.medium.com/max/1600/0*yxxFwUEPQU3lAz4W.png)"
   ]
  },
  {
   "cell_type": "markdown",
   "metadata": {},
   "source": [
    "![](https://image.slidesharecdn.com/scrapingtotherescue-160713133749/95/getting-started-with-web-scraping-in-python-9-638.jpg?cb=1468417631)"
   ]
  },
  {
   "cell_type": "markdown",
   "metadata": {},
   "source": [
    "## [Beautiful Soup](https://www.crummy.com/software/BeautifulSoup/bs4/doc/)\n",
    "\n",
    ">Beautiful Soup is a Python library for pulling data out of HTML and XML files. It works with your favorite parser to provide idiomatic ways of navigating, searching, and modifying the parse tree. It commonly saves programmers hours or days of work.\n",
    "\n",
    "### Installation\n",
    "\n",
    "```\n",
    "pip install bs4\n",
    "```\n",
    "\n",
    "**Bonus:**\n",
    "```\n",
    "pip install html5lib\n",
    "```"
   ]
  },
  {
   "cell_type": "markdown",
   "metadata": {},
   "source": [
    "https://www.values.com/inspirational-quotes"
   ]
  },
  {
   "cell_type": "code",
   "execution_count": 178,
   "metadata": {},
   "outputs": [],
   "source": [
    "html_string = '''\n",
    "<html>\n",
    "    <body>\n",
    "        <h1> Hello </h1>\n",
    "        <ul>\n",
    "            <li> a </li>\n",
    "            <li class=\"imp\"> b </li>\n",
    "            <li class=\"imp\"> c </li>\n",
    "        </ul>\n",
    "    </body>\n",
    "</html>\n",
    "\n",
    "'''"
   ]
  },
  {
   "cell_type": "code",
   "execution_count": 179,
   "metadata": {},
   "outputs": [],
   "source": [
    "soup = BeautifulSoup(html_string)"
   ]
  },
  {
   "cell_type": "code",
   "execution_count": 180,
   "metadata": {},
   "outputs": [
    {
     "data": {
      "text/plain": [
       "[<li class=\"imp\"> b </li>, <li class=\"imp\"> c </li>]"
      ]
     },
     "execution_count": 180,
     "metadata": {},
     "output_type": "execute_result"
    }
   ],
   "source": [
    "soup.findAll('li', attrs = {\"class\": \"imp\"})"
   ]
  },
  {
   "cell_type": "code",
   "execution_count": null,
   "metadata": {},
   "outputs": [],
   "source": []
  },
  {
   "cell_type": "code",
   "execution_count": 167,
   "metadata": {},
   "outputs": [],
   "source": [
    "import requests\n",
    "from bs4 import BeautifulSoup"
   ]
  },
  {
   "cell_type": "code",
   "execution_count": 168,
   "metadata": {},
   "outputs": [],
   "source": [
    "url = \"https://www.passiton.com/inspirational-quotes\""
   ]
  },
  {
   "cell_type": "markdown",
   "metadata": {},
   "source": [
    "### step 1 - fetch the content"
   ]
  },
  {
   "cell_type": "code",
   "execution_count": 169,
   "metadata": {},
   "outputs": [],
   "source": [
    "r = requests.get(url)"
   ]
  },
  {
   "cell_type": "markdown",
   "metadata": {},
   "source": [
    "### step 2 - parse the content"
   ]
  },
  {
   "cell_type": "code",
   "execution_count": 181,
   "metadata": {},
   "outputs": [],
   "source": [
    "soup = BeautifulSoup(r.content)"
   ]
  },
  {
   "cell_type": "markdown",
   "metadata": {},
   "source": [
    "### step 3 - find patterns"
   ]
  },
  {
   "cell_type": "code",
   "execution_count": 186,
   "metadata": {},
   "outputs": [],
   "source": [
    "parent = soup.find('div', attrs = {\"id\": \"all_quotes\"})"
   ]
  },
  {
   "cell_type": "code",
   "execution_count": 187,
   "metadata": {},
   "outputs": [],
   "source": [
    "quotes = list(parent.children)"
   ]
  },
  {
   "cell_type": "code",
   "execution_count": 188,
   "metadata": {},
   "outputs": [
    {
     "data": {
      "text/plain": [
       "34"
      ]
     },
     "execution_count": 188,
     "metadata": {},
     "output_type": "execute_result"
    }
   ],
   "source": [
    "len(quotes)"
   ]
  },
  {
   "cell_type": "code",
   "execution_count": 196,
   "metadata": {},
   "outputs": [
    {
     "name": "stdout",
     "output_type": "stream",
     "text": [
      "Whatever you can do or dream you can, begin it. Boldness has genius, power, and magic in it. #<Author:0x00007fb49b301798>\n",
      "https://assets.passiton.com/quotes/quote_artwork/6881/medium/20190927_friday_quote.jpg?1569022621\n",
      "Every great dream begins with a dreamer. Always remember you have within you the strength, the patience and the passion to reach for the stars, to change the world. #<Author:0x00007fb49b338900>\n",
      "https://assets.passiton.com/quotes/quote_artwork/7065/medium/20190926_thursday_quote.jpg?1569022585\n",
      "Make no small plans for they have no power to stir the soul. #<Author:0x00007fb49b38f0c0>\n",
      "https://assets.passiton.com/quotes/quote_artwork/4386/medium/20190925_wednesday_quote.jpg?1569022553\n",
      "So many of our dreams at first seem impossible, then they seem improbable, and then, when we summon the will, they soon become inevitable.  #<Author:0x00007fb49b3bdda8>\n",
      "https://assets.passiton.com/quotes/quote_artwork/6420/medium/20190924_tuesday_quote.jpg?1569022530\n",
      "We are designed with a dreaming brain and a hopeful spirit; it is our nature to envision the life of our dreams. And while dreaming comes easy to us, we must never forget that it takes strength, dedication, and courageous action to bring that dream to life. #<Author:0x00007fb49b3e7e00>\n",
      "https://assets.passiton.com/quotes/quote_artwork/6923/medium/20190923_monday_quote.jpg?1569022506\n",
      "Failure is often that early morning hour of darkness which precedes the dawning of the day of success. #<Author:0x00007fb49b415e68>\n",
      "https://assets.passiton.com/quotes/quote_artwork/7984/medium/20190920_friday_quote.jpg?1568408574\n",
      "Success is no accident. It is hard work, perseverance, learning, studying, sacrifice and most of all, love of what you are doing or leading to do. #<Author:0x00007fb49b45f720>\n",
      "https://assets.passiton.com/quotes/quote_artwork/7985/medium/20190919_thursday_quote_alternate2.jpg?1568417133\n",
      "Permanence, perseverance and persistence in spite of all obstacles, discouragements, and impossibilities: It is this that in all things distinguishes the strong soul from the weak. #<Author:0x00007fb49b4a57c0>\n",
      "https://assets.passiton.com/quotes/quote_artwork/3195/medium/20190918_wednesday_quote.jpg?1568408536\n",
      "When obstacles arise, you change your direction to reach your goal, you do not change your decision to get there. #<Author:0x00007fb49b4ddff8>\n",
      "https://assets.passiton.com/quotes/quote_artwork/4804/medium/20190917_tuesday_quote.jpg?1568408515\n",
      "Effort only fully releases its reward after a person refuses to quit. #<Author:0x00007fb49b504540>\n",
      "https://assets.passiton.com/quotes/quote_artwork/3575/medium/20190916_monday_quote.jpg?1568408490\n",
      "Few things leave a deeper mark on the reader, than the first book that finds its way to her heart. #<Author:0x00007fb49b4220c8>\n",
      "https://assets.passiton.com/quotes/quote_artwork/7983/medium/20190913_friday_quote.jpg?1567805769\n",
      "life, seek the company of a friendly book… from the reading of ‘good books’ there comes a richness of life that can be obtained in no other way. #<Author:0x00007fb49b5b0250>\n",
      "https://assets.passiton.com/quotes/quote_artwork/7982/medium/20190912_thursday_quote.jpg?1567805308\n",
      "She read books as one would breathe air, to fill up and live. #<Author:0x00007fb49b5f3280>\n",
      "https://assets.passiton.com/quotes/quote_artwork/7981/medium/20190911_wednesday_quote.jpg?1567805235\n",
      "The more that you read, the more things you will know. The more that you learn, the more places you'll go. #<Author:0x00007fb49b643208>\n",
      "https://assets.passiton.com/quotes/quote_artwork/7533/medium/20190910_tuesday_quote.jpg?1567805212\n",
      "In the case of good books, the point is not to see how many of them you can get through, but rather how many can get through to you.  #<Author:0x00007fb49b674948>\n",
      "https://assets.passiton.com/quotes/quote_artwork/7980/medium/20190909_monday_quote.jpg?1567805176\n",
      "Between stimulus and response there is a space. In that space is our power to choose our response. In our response lies our growth and our freedom. #<Author:0x00007fb49b76c558>\n",
      "https://assets.passiton.com/quotes/quote_artwork/7979/medium/20190906_friday_quote.jpg?1567121868\n",
      "How you look at it is pretty much how you’ll see it. #<Author:0x00007fb49b7cda10>\n",
      "https://assets.passiton.com/quotes/quote_artwork/7978/medium/20190905_thursday_quote.jpg?1567121845\n",
      "“What day is it?” asked Pooh. “It’s today,” squeaked Piglet. “My favorite day,” said Pooh. #<Author:0x00007fb49b806f90>\n",
      "https://assets.passiton.com/quotes/quote_artwork/7977/medium/20190904_wednesday_quote.jpg?1567121822\n",
      "Whatever the present moment contains, accept it as if you had chosen it. Always work with it, not against it. #<Author:0x00007fb49b8405b0>\n",
      "https://assets.passiton.com/quotes/quote_artwork/7976/medium/20190903_tuesday_quote.jpg?1567121779\n",
      "Mindfulness is simply being aware of what is happening right now without wishing it were different; enjoying the pleasant without holding on when it changes (which it will); being with the unpleasant without fearing it will always be this way (which it won’t). #<Author:0x00007fb49b8ab248>\n",
      "https://assets.passiton.com/quotes/quote_artwork/7975/medium/20190902_monday_quote.jpg?1567121753\n",
      "They say a person needs just three things to be truly happy in this world: someone to love, something to do, and something to hope for. #<Author:0x00007fb49b9118e0>\n",
      "https://assets.passiton.com/quotes/quote_artwork/7564/medium/20190830_friday_quote.jpg?1566582836\n",
      "Chance is always powerful. Let your hook be always cast; in the pool where you least expect it, there will be a fish. #<Author:0x00007fb49b954118>\n",
      "https://assets.passiton.com/quotes/quote_artwork/7974/medium/20190829_thursday_quote.jpg?1566582807\n",
      "The best way to not feel hopeless is to get up and do something. Don’t wait for good things to happen to you. If you go out and make some good things happen, you will fill the world with hope, you will fill yourself with hope. #<Author:0x00007fb49b9b0918>\n",
      "https://assets.passiton.com/quotes/quote_artwork/7973/medium/20190828_wednesday_quote.jpg?1566582774\n",
      "We must accept finite disappointment, but we must never lose infinite hope. #<Author:0x00007fb49ba068e0>\n",
      "https://assets.passiton.com/quotes/quote_artwork/5224/medium/20190827_tuesday_quote.jpg?1566582744\n",
      "Hope can be a powerful force. Maybe there's no actual magic in it, but when you know what you hope for most and hold it like a light within you, you can make things happen, almost like magic. #<Author:0x00007fb49ba4d1a0>\n",
      "https://assets.passiton.com/quotes/quote_artwork/7561/medium/20190826_monday_quote.jpg?1566582711\n",
      "Most people are like you and me, or the people across the street or around the world from you and me. Just like you and me, their hearts tell them that somewhere, somehow, they can make a positive difference in the world.  #<Author:0x00007fb49ba9bdf0>\n",
      "https://assets.passiton.com/quotes/quote_artwork/6469/medium/20190823_friday_quote.jpg?1565804805\n",
      "Aim to make a difference in someone’s life every single day, including your own. #<Author:0x00007fb49bb13990>\n",
      "https://assets.passiton.com/quotes/quote_artwork/7972/medium/20190822_thursday_quote.jpg?1565803891\n",
      "It takes each of us to make a difference for all of us. #<Author:0x00007fb49bb73a48>\n",
      "https://assets.passiton.com/quotes/quote_artwork/6231/medium/20190821_wednesday_quote.jpg?1565803837\n",
      "Never underestimate the valuable and important difference you make in every life you touch for the impact you make today has a powerful rippling effect on every tomorrow. #<Author:0x00007fb49bbbe598>\n",
      "https://assets.passiton.com/quotes/quote_artwork/7971/medium/20190820_tuesday_quote_alternate2.jpg?1565818529\n",
      "What you do makes a difference and you have to decide what kind of a difference you want to make. #<Author:0x00007fb49bbecd08>\n",
      "https://assets.passiton.com/quotes/quote_artwork/7970/medium/20190819_monday_quote.jpg?1565803764\n",
      "I believe in the spirit of equality and the spirit of this country as one of love and compassion and kindness. #<Author:0x00007fb49bca42f0>\n",
      "https://assets.passiton.com/quotes/quote_artwork/7969/medium/20190816_friday_quote.jpg?1565389117\n",
      "We all came in on different ships, but we're all in the same boat now. #<Author:0x00007fb49bd94430>\n",
      "https://assets.passiton.com/quotes/quote_artwork/7966/medium/20190815_thursday_quote.jpg?1565373426\n"
     ]
    }
   ],
   "source": [
    "for q in quotes:\n",
    "    img = q.find('img')\n",
    "    if img != -1:\n",
    "        print(img.attrs['alt'])\n",
    "        print(img.attrs['src'])"
   ]
  },
  {
   "cell_type": "code",
   "execution_count": null,
   "metadata": {},
   "outputs": [],
   "source": []
  },
  {
   "cell_type": "code",
   "execution_count": 200,
   "metadata": {},
   "outputs": [],
   "source": [
    "url = \"https://www.snapdeal.com/search\"\n",
    "params = {\n",
    "    \"keyword\": \"iphone\"\n",
    "}"
   ]
  },
  {
   "cell_type": "code",
   "execution_count": 201,
   "metadata": {},
   "outputs": [],
   "source": [
    "r = requests.get(url, params=params)"
   ]
  },
  {
   "cell_type": "code",
   "execution_count": 202,
   "metadata": {},
   "outputs": [
    {
     "data": {
      "text/plain": [
       "'https://www.snapdeal.com/search?keyword=iphone'"
      ]
     },
     "execution_count": 202,
     "metadata": {},
     "output_type": "execute_result"
    }
   ],
   "source": [
    "r.url"
   ]
  },
  {
   "cell_type": "code",
   "execution_count": 204,
   "metadata": {},
   "outputs": [],
   "source": [
    "soup = BeautifulSoup(r.content)"
   ]
  },
  {
   "cell_type": "code",
   "execution_count": 205,
   "metadata": {},
   "outputs": [],
   "source": [
    "products = soup.findAll('div', attrs = {\"class\": \"product-tuple-listing\"})"
   ]
  },
  {
   "cell_type": "code",
   "execution_count": null,
   "metadata": {},
   "outputs": [],
   "source": []
  },
  {
   "cell_type": "code",
   "execution_count": 220,
   "metadata": {},
   "outputs": [
    {
     "name": "stdout",
     "output_type": "stream",
     "text": [
      "https://n3.sdlcdn.com/imgs/i/d/c/230X258_sharpened/iPhone-6S-Soft-Silicon-Cases-SDL630344797-1-3e781.jpg\n",
      "https://n4.sdlcdn.com/imgs/d/p/x/230X258_sharpened/Apple-iPhone-6s-32GB-Rose-SDL781162450-1-1a57e.jpg\n",
      "https://n3.sdlcdn.com/imgs/d/p/x/230X258_sharpened/Apple-iPhone-6s-32GB-Space-SDL744303941-1-35c0c.jpg\n",
      "https://n4.sdlcdn.com/imgs/d/p/x/230X258_sharpened/Apple-iPhone-6s-32GB-Gold-SDL777465166-1-883ac.jpg\n",
      "https://n1.sdlcdn.com/imgs/d/p/x/230X258_sharpened/Apple-iPhone-6s-32GB-Silver-SDL770488775-1-4409b.jpg\n",
      "https://n3.sdlcdn.com/imgs/c/2/9/230X258_sharpened/Apple-iPhone-7-32GB-Rose-SDL842963556-1-bf1ed.jpg\n",
      "https://n3.sdlcdn.com/imgs/c/2/9/230X258_sharpened/Apple-iPhone-7-32GB-Gold-SDL835665783-1-9ae14.jpg\n",
      "https://n3.sdlcdn.com/imgs/d/3/h/230X258_sharpened/Apple-iPhone-6-Cover-by-SDL727118303-1-c5c22.jpg\n",
      "https://n2.sdlcdn.com/imgs/c/2/9/230X258_sharpened/Apple-iPhone-7-32GB-Black-SDL820775791-1-93e75.jpg\n",
      "https://n3.sdlcdn.com/imgs/f/z/n/230X258_sharpened/Apple-iPhone-6S-Plus-Plain-SDL454529517-1-6649d.jpg\n",
      "https://n3.sdlcdn.com/imgs/h/p/8/230X258_sharpened/1_e2685-4a1a0.jpg\n",
      "https://n1.sdlcdn.com/imgs/h/3/e/230X258_sharpened/apple-iphone-2-1A-Wall-SDL804780957-1-5e6e2.jpeg\n",
      "https://n3.sdlcdn.com/imgs/i/o/d/230X258_sharpened/Being-Desi-Great-Sound-Bass-SDL426827457-1-c16b6.jpeg\n",
      "https://n3.sdlcdn.com/imgs/h/0/k/230X258_sharpened/Apple-iPhone-6-Plus-Bumper-SDL909356565-1-1cb36.jpeg\n",
      "https://n1.sdlcdn.com/imgs/i/d/c/230X258_sharpened/iPhone-6S-Soft-Silicon-Cases-SDL661854398-1-5682d.jpg\n",
      "https://n4.sdlcdn.com/imgs/i/s/g/230X258_sharpened/Westore-Earphone-In-ear-Piston-SDL225325823-1-50071.jpeg\n",
      "https://n2.sdlcdn.com/imgs/h/t/t/230X258_sharpened/WOKIT-Smartwatch-Suited-Apple-iPhone-SDL342437442-1-519f6.jpeg\n",
      "https://n1.sdlcdn.com/imgs/h/h/p/230X258_sharpened/DreamShop-2-1A-Wall-Charger-SDL716904310-1-d4f9e.jpeg\n",
      "https://n1.sdlcdn.com/imgs/e/w/7/230X258_sharpened/Apple-iPhone-6-Bumper-Cases-SDL948596126-1-1659b.jpg\n",
      "https://n1.sdlcdn.com/imgs/i/b/s/230X258_sharpened/Ultra-thin-Mirror-Transparent-TPU-SDL325455552-1-a3625.JPEG\n"
     ]
    }
   ],
   "source": [
    "for product in products:\n",
    "#     if 'src' in \n",
    "    img = product.find('img')\n",
    "    if 'src' in img.attrs:\n",
    "        print(img.attrs['src'])\n",
    "    else:\n",
    "        print(img.attrs['data-src'])"
   ]
  },
  {
   "cell_type": "code",
   "execution_count": 210,
   "metadata": {},
   "outputs": [
    {
     "data": {
      "text/plain": [
       "'iPhone 6S Soft Silicon Cases O4U - Blue Plain Cover'"
      ]
     },
     "execution_count": 210,
     "metadata": {},
     "output_type": "execute_result"
    }
   ],
   "source": [
    "products[0].find('p', attrs={\"class\": \"product-title\"}).text"
   ]
  },
  {
   "cell_type": "code",
   "execution_count": 221,
   "metadata": {},
   "outputs": [
    {
     "name": "stdout",
     "output_type": "stream",
     "text": [
      "iPhone 6S Soft Silicon Cases O4U - Blue Plain Cover\n",
      "https://n3.sdlcdn.com/imgs/i/d/c/230X258_sharpened/iPhone-6S-Soft-Silicon-Cases-SDL630344797-1-3e781.jpg\n",
      "Apple iPhone 6s ( 32GB , 2 GB ) Rose Gold\n",
      "https://n4.sdlcdn.com/imgs/d/p/x/230X258_sharpened/Apple-iPhone-6s-32GB-Rose-SDL781162450-1-1a57e.jpg\n",
      "Apple iPhone 6s ( 32GB , 2 GB ) Space Grey\n",
      "https://n3.sdlcdn.com/imgs/d/p/x/230X258_sharpened/Apple-iPhone-6s-32GB-Space-SDL744303941-1-35c0c.jpg\n",
      "Apple iPhone 6s ( 32GB , 2 GB ) Gold\n",
      "https://n4.sdlcdn.com/imgs/d/p/x/230X258_sharpened/Apple-iPhone-6s-32GB-Gold-SDL777465166-1-883ac.jpg\n",
      "Apple iPhone 6s ( 32GB , 2 GB ) Silver\n",
      "https://n1.sdlcdn.com/imgs/d/p/x/230X258_sharpened/Apple-iPhone-6s-32GB-Silver-SDL770488775-1-4409b.jpg\n",
      "Apple iPhone 7 ( 32GB , 2 GB ) Rose Gold\n",
      "https://n3.sdlcdn.com/imgs/c/2/9/230X258_sharpened/Apple-iPhone-7-32GB-Rose-SDL842963556-1-bf1ed.jpg\n",
      "Apple iPhone 7 ( 32GB , 2 GB ) Gold\n",
      "https://n3.sdlcdn.com/imgs/c/2/9/230X258_sharpened/Apple-iPhone-7-32GB-Gold-SDL835665783-1-9ae14.jpg\n",
      "Apple iPhone 6 Plain Cases Wow Imagine - Black\n",
      "https://n3.sdlcdn.com/imgs/d/3/h/230X258_sharpened/Apple-iPhone-6-Cover-by-SDL727118303-1-c5c22.jpg\n",
      "Apple iPhone 7 ( 32GB , 2 GB ) Black\n",
      "https://n2.sdlcdn.com/imgs/c/2/9/230X258_sharpened/Apple-iPhone-7-32GB-Black-SDL820775791-1-93e75.jpg\n",
      "Apple iPhone 6S Plus Plain Cases KolorFish - Black\n",
      "https://n3.sdlcdn.com/imgs/f/z/n/230X258_sharpened/Apple-iPhone-6S-Plus-Plain-SDL454529517-1-6649d.jpg\n",
      "Terabyte Anycast 1080P Full HDMI Dongle Wireless Display For Android Smartphones/Iphone/Ipad/Windows/Tablets to LED/Projector(Mirrors Your Smartphone/Tablet/IPAD to your Big Screen TV,LED with HDMI Port)\n",
      "https://n3.sdlcdn.com/imgs/h/p/8/230X258_sharpened/1_e2685-4a1a0.jpg\n",
      "apple iphone 2.1A Wall Charger\n",
      "https://n1.sdlcdn.com/imgs/h/3/e/230X258_sharpened/apple-iphone-2-1A-Wall-SDL804780957-1-5e6e2.jpeg\n",
      "Being Desi Great Sound Bass Iphone X,Xr,Xs In Ear Wired Earphones With Mic\n",
      "https://n3.sdlcdn.com/imgs/i/o/d/230X258_sharpened/Being-Desi-Great-Sound-Bass-SDL426827457-1-c16b6.jpeg\n",
      "Apple iPhone 6 Plus Bumper Cases Aircase - Grey Bumper Case\n",
      "https://n3.sdlcdn.com/imgs/h/0/k/230X258_sharpened/Apple-iPhone-6-Plus-Bumper-SDL909356565-1-1cb36.jpeg\n",
      "iPhone 6S Soft Silicon Cases O4U - Red Plain Cover\n",
      "https://n1.sdlcdn.com/imgs/i/d/c/230X258_sharpened/iPhone-6S-Soft-Silicon-Cases-SDL661854398-1-5682d.jpg\n",
      "Westore Earphone In-ear Piston Binaural Stereo Earphone Headset with Earbud Listening Music for iPhone HTC Smartphone MP3\n",
      "https://n4.sdlcdn.com/imgs/i/s/g/230X258_sharpened/Westore-Earphone-In-ear-Piston-SDL225325823-1-50071.jpeg\n",
      "WOKIT Smartwatch Suited Apple iPhone 3G A1 Golden Smart Watches\n",
      "https://n2.sdlcdn.com/imgs/h/t/t/230X258_sharpened/WOKIT-Smartwatch-Suited-Apple-iPhone-SDL342437442-1-519f6.jpeg\n",
      "DreamShop 2.1A Wall Charger Original Premium Iphone 5,5S,6,6S,6+,7,7+,8,8+,X\n",
      "https://n1.sdlcdn.com/imgs/h/h/p/230X258_sharpened/DreamShop-2-1A-Wall-Charger-SDL716904310-1-d4f9e.jpeg\n",
      "Apple iPhone 6 Bumper Cases BIGZOOK - Blue\n",
      "https://n1.sdlcdn.com/imgs/e/w/7/230X258_sharpened/Apple-iPhone-6-Bumper-Cases-SDL948596126-1-1659b.jpg\n",
      "Ultra-thin Mirror Transparent TPU Rhinestone Case Cover for iPhone 5 5S 6 6 Plus\n",
      "https://n1.sdlcdn.com/imgs/i/b/s/230X258_sharpened/Ultra-thin-Mirror-Transparent-TPU-SDL325455552-1-a3625.JPEG\n"
     ]
    }
   ],
   "source": [
    "for product in products:\n",
    "    print(product.find('p', attrs={\"class\": \"product-title\"}).text)\n",
    "    img = product.find('img')\n",
    "    if 'src' in img.attrs:\n",
    "        print(img.attrs['src'])\n",
    "    else:\n",
    "        print(img.attrs['data-src'])"
   ]
  },
  {
   "cell_type": "code",
   "execution_count": null,
   "metadata": {},
   "outputs": [],
   "source": []
  },
  {
   "cell_type": "code",
   "execution_count": null,
   "metadata": {},
   "outputs": [],
   "source": []
  },
  {
   "cell_type": "code",
   "execution_count": null,
   "metadata": {},
   "outputs": [],
   "source": []
  },
  {
   "cell_type": "markdown",
   "metadata": {},
   "source": [
    "## 4. Sending Email\n",
    "\n",
    "![](https://camo.githubusercontent.com/ee342ab0ad69e2615876732e43e301980315359b/68747470733a2f2f6265636f6d65746865736f6c7574696f6e2e636f6d2f696d616765732f65617379626c6f675f696d616765732f3431342f736d74702d6c6f676f2e6a7067)\n",
    "\n",
    "\n",
    "**An Internet standard for electronic mail (email) transmission.**\n",
    "\n",
    "![](data:image/jpeg;base64,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)\n",
    "\n",
    "### smtplib\n",
    "\n",
    "The smtplib module defines an SMTP client session object that can be used to send mail to any Internet machine with an SMTP or ESMTP listener."
   ]
  },
  {
   "cell_type": "code",
   "execution_count": null,
   "metadata": {},
   "outputs": [],
   "source": [
    "import smtplib"
   ]
  },
  {
   "cell_type": "markdown",
   "metadata": {},
   "source": [
    "## For sending proper Email\n",
    "\n",
    "**Multipurpose Internet Mail Extensions (MIME)** is an Internet standard that extends the format of email to support:\n",
    "- Text in character sets other than ASCII\n",
    "- Non-text attachments: audio, video, images, application programs etc.\n",
    "- Message bodies with multiple parts\n",
    "- Header information in non-ASCII character sets"
   ]
  },
  {
   "cell_type": "code",
   "execution_count": null,
   "metadata": {},
   "outputs": [],
   "source": [
    "from email.mime.multipart import MIMEMultipart\n",
    "from email.mime.text import MIMEText\n",
    "from email.mime.application import MIMEApplication"
   ]
  },
  {
   "cell_type": "markdown",
   "metadata": {},
   "source": [
    "# 5. Web automation\n",
    "\n",
    "\n",
    "**Task:** Automatically submit the code for a problem on [codechef](https://www.codechef.com/).\n",
    "\n",
    "### [Selenium](http://selenium-python.readthedocs.io/) : Web automation and testing\n",
    "\n",
    "![](https://udemy-images.udemy.com/course/750x422/482754_7146_4.jpg)\n",
    "\n",
    "\n",
    "#### Installation\n",
    "\n",
    "```\n",
    "pip install selenium\n",
    "```\n",
    "\n",
    "#### To start a browser session\n",
    "```python\n",
    "from selenium import webdriver\n",
    "browser = webdriver.Firefox()\n",
    "```\n",
    "\n",
    "#### To open a webpage\n",
    "```python\n",
    "browser.get('https://www.codechef.com')\n",
    "```\n",
    "\n",
    "#### To select an element by its id\n",
    "```python\n",
    "browser.find_element_by_id(<id>)\n",
    "```\n",
    "\n",
    "#### Input value in element\n",
    "```python\n",
    "element.send_keys()\n",
    "```\n",
    "\n",
    "#### Click on an element\n",
    "```python\n",
    "element.click()\n",
    "```"
   ]
  }
 ],
 "metadata": {
  "kernelspec": {
   "display_name": "Python 3",
   "language": "python",
   "name": "python3"
  },
  "language_info": {
   "codemirror_mode": {
    "name": "ipython",
    "version": 3
   },
   "file_extension": ".py",
   "mimetype": "text/x-python",
   "name": "python",
   "nbconvert_exporter": "python",
   "pygments_lexer": "ipython3",
   "version": "3.7.0"
  }
 },
 "nbformat": 4,
 "nbformat_minor": 2
}
