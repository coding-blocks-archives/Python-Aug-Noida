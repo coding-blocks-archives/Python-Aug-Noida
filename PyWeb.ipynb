{
 "cells": [
  {
   "cell_type": "code",
   "execution_count": 2,
   "metadata": {},
   "outputs": [
    {
     "name": "stdout",
     "output_type": "stream",
     "text": [
      "Requirement already satisfied: requests in /Users/jatinkatyal/miniconda3/lib/python3.7/site-packages (2.20.0)\n",
      "Requirement already satisfied: urllib3<1.25,>=1.21.1 in /Users/jatinkatyal/miniconda3/lib/python3.7/site-packages (from requests) (1.23)\n",
      "Requirement already satisfied: certifi>=2017.4.17 in /Users/jatinkatyal/miniconda3/lib/python3.7/site-packages (from requests) (2018.8.24)\n",
      "Requirement already satisfied: chardet<3.1.0,>=3.0.2 in /Users/jatinkatyal/miniconda3/lib/python3.7/site-packages (from requests) (3.0.4)\n",
      "Requirement already satisfied: idna<2.8,>=2.5 in /Users/jatinkatyal/miniconda3/lib/python3.7/site-packages (from requests) (2.7)\n",
      "\u001b[33mWARNING: You are using pip version 19.1.1, however version 19.2.3 is available.\n",
      "You should consider upgrading via the 'pip install --upgrade pip' command.\u001b[0m\n"
     ]
    }
   ],
   "source": [
    "!pip install requests"
   ]
  },
  {
   "cell_type": "markdown",
   "metadata": {},
   "source": [
    "# <p style=\"text-align:center;font-size:70px;background-color:#0ad61b;color:white;font-style:italic;\">Python for web</p>\n",
    "\n",
    "![](http://www.blog.skytopper.com/wp-content/uploads/2015/06/Global-computer-network.jpg)\n",
    "\n",
    "This bootcamp is all about interacting with **web** using Python programming language!\n",
    "\n",
    "In this bootcamp, we will learn:\n",
    "\n",
    "- to work with web APIs\n",
    "- to download content from web\n",
    "- web scraping\n",
    "- web automation\n",
    "\n",
    "using simple python scripts!"
   ]
  },
  {
   "cell_type": "code",
   "execution_count": null,
   "metadata": {},
   "outputs": [],
   "source": [
    "https://abc.com/something/a.html?a=10"
   ]
  },
  {
   "cell_type": "markdown",
   "metadata": {},
   "source": [
    "# 1. Working with web APIs\n",
    "\n",
    "- **What is API?**<br>\n",
    "    API is a set of routines, protocols, and tools for building software applications. An API specifies how software components should interact. \n",
    "![](https://www.retriever.nl/wp-content/uploads/2016/11/api-321x250.png)\n",
    "-------------\n",
    "\n",
    "- **What is web API?**<br>\n",
    "    Web API is a framework for building HTTP services that can be consumed by a broad range of clients including browsers, mobiles, iphone and tablets.\n",
    "![](http://dselva.co.in/blog/wp-content/uploads/2017/09/Web-APIs.png)\n",
    "-----------------\n",
    "- **Some examples of public web APIs:**\n",
    "    - [Facebook Graph API](https://developers.facebook.com/docs/graph-api)\n",
    "    - [Twitter API](https://dev.twitter.com/rest/public)\n",
    "    - [Google API explorer](https://developers.google.com/apis-explorer/#p/)\n",
    "--------------\n",
    "\n",
    "- **What is REST?**<br>\n",
    "    REST is an architectural style followed by web services, in which, they allow requesting systems to access and manipulate their Web resources using a uniform and predefined set of **stateless operations**.\n",
    "    \n",
    "    >In computing, a stateless protocol is a communications protocol in which no information is retained by either sender or receiver. The sender transmits a packet to the receiver and does not expect an acknowledgment of receipt. There is nothing saved that has to be remembered by the next transaction. The server must be able to completely understand the client request without using any server context or server session state. \n",
    "    \n",
    "   Advantages of REST:\n",
    "   - As the transactions are stateless, we can direct them to any instance of the web service. (As no sessions are involved). Hence, the web service can scale to accommodate load changes.\n",
    "   - Binding to a service through an API is a matter of controlling how the URL is decoded.\n",
    "\n",
    "-----------------\n",
    "- **Types of HTTP requests**\n",
    "    - GET\n",
    "    - POST\n",
    "    - DELETE\n",
    "    - PUT\n",
    "    - PATCH, etc.\n",
    "    \n",
    "![](http://lotsofthing.com/wp-content/uploads/2017/11/rest-api-1.jpg)"
   ]
  },
  {
   "cell_type": "markdown",
   "metadata": {},
   "source": [
    "### HTTP  for humans: [requests](http://docs.python-requests.org/en/master/)\n",
    "\n",
    "![](http://docs.python-requests.org/en/master/_static/requests-sidebar.png)\n",
    "\n",
    "\n",
    "- Requests is one of the most downloaded Python packages of all time, pulling in over 7,000,000 downloads every month.All the cool kids are doing it\n",
    "\n",
    "- Recreational use of other HTTP libraries may result in dangerous side-effects, including: security vulnerabilities, verbose code, reinventing the wheel, constantly reading documentation, depression, headaches, or even death. Requests is the only Non-GMO HTTP library for Python, safe for human consumption.\n",
    "\n",
    "- Python HTTP: When in doubt, or when not in doubt, use Requests. Beautiful, simple, Pythonic.\n",
    "\n",
    "***Everybody loves it!***\n",
    "\n",
    "#### Installation\n",
    "\n",
    "```\n",
    "pip install requests\n",
    "```"
   ]
  },
  {
   "cell_type": "code",
   "execution_count": 1,
   "metadata": {},
   "outputs": [],
   "source": [
    "import requests"
   ]
  },
  {
   "cell_type": "code",
   "execution_count": null,
   "metadata": {},
   "outputs": [],
   "source": []
  },
  {
   "cell_type": "code",
   "execution_count": null,
   "metadata": {},
   "outputs": [],
   "source": [
    "https://www.facebook.com/photo.php?fbid=1843529895724434&set=a.102696846474423&type=3&source=11&referrer_profile_id=100002023231822"
   ]
  },
  {
   "cell_type": "markdown",
   "metadata": {},
   "source": [
    "![](http://graph.facebook.com/100002023231820/picture?type=large)"
   ]
  },
  {
   "cell_type": "markdown",
   "metadata": {},
   "source": [
    "## GET request\n",
    "\n",
    "### Example 1\n",
    "\n",
    "http://graph.facebook.com/4/picture?type=large\n",
    "\n",
    "![](http://graph.facebook.com/4/picture?type=large)"
   ]
  },
  {
   "cell_type": "code",
   "execution_count": 3,
   "metadata": {},
   "outputs": [],
   "source": [
    "import requests"
   ]
  },
  {
   "cell_type": "code",
   "execution_count": 69,
   "metadata": {},
   "outputs": [],
   "source": [
    "url = \"http://graph.facebook.com/4/picture?type=large\"\n",
    "r = requests.get(url)"
   ]
  },
  {
   "cell_type": "code",
   "execution_count": 74,
   "metadata": {},
   "outputs": [
    {
     "data": {
      "text/plain": [
       "'image/jpeg'"
      ]
     },
     "execution_count": 74,
     "metadata": {},
     "output_type": "execute_result"
    }
   ],
   "source": [
    "r.headers['Content-Type']"
   ]
  },
  {
   "cell_type": "code",
   "execution_count": 75,
   "metadata": {},
   "outputs": [],
   "source": [
    "with open('marky.jpg', 'wb') as file:\n",
    "    file.write(r.content)"
   ]
  },
  {
   "cell_type": "code",
   "execution_count": null,
   "metadata": {},
   "outputs": [],
   "source": []
  },
  {
   "cell_type": "code",
   "execution_count": 77,
   "metadata": {},
   "outputs": [],
   "source": [
    "url = \"http://graph.facebook.com/{}/picture?type=large\""
   ]
  },
  {
   "cell_type": "code",
   "execution_count": 79,
   "metadata": {},
   "outputs": [],
   "source": [
    "open?"
   ]
  },
  {
   "cell_type": "code",
   "execution_count": 81,
   "metadata": {},
   "outputs": [
    {
     "name": "stdout",
     "output_type": "stream",
     "text": [
      "b'\\xff\\xd8\\xff\\xe0\\x00\\x10JFIF\\x00\\x01\\x02\\x00\\x00\\x01\\x00\\x01\\x00\\x00\\xff\\xed\\x00\\x9cPhotoshop 3.0\\x008BIM\\x04\\x04\\x00\\x00\\x00\\x00\\x00\\x80\\x1c\\x02g\\x00\\x14EijAN2tIMJ-3dRhxQN6D\\x1c\\x02(\\x00bFBMD01000ac0030000dc060000890b0000fe0c0000600e00001e1100005f1600000f17000066180000a619000065220000\\xff\\xe2\\x02\\x1cICC_PROFILE\\x00\\x01\\x01\\x00\\x00\\x02\\x0clcms\\x02\\x10\\x00\\x00mntrRGB XYZ \\x07\\xdc\\x00\\x01\\x00\\x19\\x00\\x03\\x00)\\x009acspAPPL\\x00\\x00\\x00\\x00\\x00\\x00\\x00\\x00\\x00\\x00\\x00\\x00\\x00\\x00\\x00\\x00\\x00\\x00\\x00\\x00\\x00\\x00\\x00\\x00\\x00\\x00\\xf6\\xd6\\x00\\x01\\x00\\x00\\x00\\x00\\xd3-lcms\\x00\\x00\\x00\\x00\\x00\\x00\\x00\\x00\\x00\\x00\\x00\\x00\\x00\\x00\\x00\\x00\\x00\\x00\\x00\\x00\\x00\\x00\\x00\\x00\\x00\\x00\\x00\\x00\\x00\\x00\\x00\\x00\\x00\\x00\\x00\\x00\\x00\\x00\\x00\\x00\\x00\\x00\\x00\\x00\\x00\\x00\\x00\\ndesc\\x00\\x00\\x00\\xfc\\x00\\x00\\x00^cprt\\x00\\x00\\x01\\\\\\x00\\x00\\x00\\x0bwtpt\\x00\\x00\\x01h\\x00\\x00\\x00\\x14bkpt\\x00\\x00\\x01|\\x00\\x00\\x00\\x14rXYZ\\x00\\x00\\x01\\x90\\x00\\x00\\x00\\x14gXYZ\\x00\\x00\\x01\\xa4\\x00\\x00\\x00\\x14bXYZ\\x00\\x00\\x01\\xb8\\x00\\x00\\x00\\x14rTRC\\x00\\x00\\x01\\xcc\\x00\\x00\\x00@gTRC\\x00\\x00\\x01\\xcc\\x00\\x00\\x00@bTRC\\x00\\x00\\x01\\xcc\\x00\\x00\\x00@desc\\x00\\x00\\x00\\x00\\x00\\x00\\x00\\x03c2\\x00\\x00\\x00\\x00\\x00\\x00\\x00\\x00\\x00\\x00\\x00\\x00\\x00\\x00\\x00\\x00\\x00\\x00\\x00\\x00\\x00\\x00\\x00\\x00\\x00\\x00\\x00\\x00\\x00\\x00\\x00\\x00\\x00\\x00\\x00\\x00\\x00\\x00\\x00\\x00\\x00\\x00\\x00\\x00\\x00\\x00\\x00\\x00\\x00\\x00\\x00\\x00\\x00\\x00\\x00\\x00\\x00\\x00\\x00\\x00\\x00\\x00\\x00\\x00\\x00\\x00\\x00\\x00\\x00\\x00\\x00\\x00\\x00\\x00\\x00\\x00\\x00\\x00\\x00\\x00\\x00\\x00text\\x00\\x00\\x00\\x00FB\\x00\\x00XYZ \\x00\\x00\\x00\\x00\\x00\\x00\\xf6\\xd6\\x00\\x01\\x00\\x00\\x00\\x00\\xd3-XYZ \\x00\\x00\\x00\\x00\\x00\\x00\\x03\\x16\\x00\\x00\\x033\\x00\\x00\\x02\\xa4XYZ \\x00\\x00\\x00\\x00\\x00\\x00o\\xa2\\x00\\x008\\xf5\\x00\\x00\\x03\\x90XYZ \\x00\\x00\\x00\\x00\\x00\\x00b\\x99\\x00\\x00\\xb7\\x85\\x00\\x00\\x18\\xdaXYZ \\x00\\x00\\x00\\x00\\x00\\x00$\\xa0\\x00\\x00\\x0f\\x84\\x00\\x00\\xb6\\xcfcurv\\x00\\x00\\x00\\x00\\x00\\x00\\x00\\x1a\\x00\\x00\\x00\\xcb\\x01\\xc9\\x03c\\x05\\x92\\x08k\\x0b\\xf6\\x10?\\x15Q\\x1b4!\\xf1)\\x902\\x18;\\x92F\\x05Qw]\\xedkpz\\x05\\x89\\xb1\\x9a|\\xaci\\xbf}\\xd3\\xc3\\xe90\\xff\\xff\\xff\\xdb\\x00C\\x00\\x06\\x04\\x05\\x06\\x05\\x04\\x06\\x06\\x05\\x06\\x07\\x07\\x06\\x08\\n\\x10\\n\\n\\t\\t\\n\\x14\\x0e\\x0f\\x0c\\x10\\x17\\x14\\x18\\x18\\x17\\x14\\x16\\x16\\x1a\\x1d%\\x1f\\x1a\\x1b#\\x1c\\x16\\x16 , #&\\')*)\\x19\\x1f-0-(0%()(\\xff\\xdb\\x00C\\x01\\x07\\x07\\x07\\n\\x08\\n\\x13\\n\\n\\x13(\\x1a\\x16\\x1a((((((((((((((((((((((((((((((((((((((((((((((((((\\xff\\xc2\\x00\\x11\\x08\\x00\\xc8\\x00\\xc8\\x03\\x00\"\\x00\\x01\\x11\\x01\\x02\\x11\\x01\\xff\\xc4\\x00\\x1b\\x00\\x00\\x01\\x05\\x01\\x01\\x00\\x00\\x00\\x00\\x00\\x00\\x00\\x00\\x00\\x00\\x00\\x05\\x00\\x02\\x03\\x04\\x06\\x01\\x07\\xff\\xc4\\x00\\x19\\x01\\x00\\x02\\x03\\x01\\x00\\x00\\x00\\x00\\x00\\x00\\x00\\x00\\x00\\x00\\x00\\x00\\x00\\x01\\x02\\x03\\x04\\x05\\xff\\xc4\\x00\\x19\\x01\\x00\\x02\\x03\\x01\\x00\\x00\\x00\\x00\\x00\\x00\\x00\\x00\\x00\\x00\\x00\\x00\\x00\\x01\\x02\\x03\\x04\\x05\\xff\\xda\\x00\\x0c\\x03\\x00\\x00\\x01\\x11\\x02\\x11\\x00\\x00\\x01\\xf3\\xdew\\x9b\\xb2vXe\"\\xd6\\xf5\\xc0\\xb8\\x9a\\x123\\x9c\\x1b\\xb8\\x93\\x12\\xeaO\\x89&\\x92H|]\\xe0$\\x90$\\x90$\\x92;\\xc5\\xd0RD\\x85#8\\x81$\\x9bR\\xad\\x0ek\\xc5\\xd8\\x96l\\x1a\\xd9D\\xfbj\\xb8K$e\\x954qG\\xddH>H\\xce\\x96.$\\x98\\x97x\\t$\\t$\\x84\\x92b]A\\xce\\xab\\xd0\\x95\\x82P\\xedx\\xfdH\\x8d=\\xf5j\\x96\\x95\\x84\\xd6J\\xb6\\xca\\xaa~h\\'\\xd10\\xd6\\xe7\\xa2\\x98\\xfe\\x9f7\\x9d\\xeftQ\\xc4\\xba\\x1c\\xe3\\xba\\x11\\xa4\\x93Iu\\x89$\\x08\\xf0-\\x06M\\x16\\xb7\\xd8}\\xaf3\\xa9fj\\x93\\x13\\x9a(-5N\\xa5\\xf8ah\\xe1\\x07\\x00%\\x82}\\xdb\\xfd>@N\\xe9\\xe5\\xbe\\x9c\\xb4\\xbaX@C\\xee\\xb0 \\x92H\"\\xe5\\xe40\\xb4U\\xf2\\xd3\\xaa\\xdbA\\xf5D\\xf3\\xeb\\xcf\\xee\\xb3z\\x8c\\xdaF\\xe7\\xb6\\x02\\xa6U>,\\xbce\\x9e\\x8ce\\x96[\\x04\\xda\\xae\\xb0\\xd7\\x02h\\xf6`Df\\x92Q\\xadH\\xacaA\\xcc\\xades\\xde\\xa6\\xc8J\\xfc0\\xd8\\x8c\\x9d\\x15;\\xcdj\\x8a\\xe4\\xf7yw\\x85.>\\xf5\\x17:8bn\\xe38\\xd8\\x99\\x03\\x01\\xcf\\x92\\xcc\\x86\\xde\\xe2l\\xab\\'\\xb0\\xcc\\xe8\\xb6\\xf3\\xa3\\xb5bI t\\xceKeT\\xadJ\\xd8N\\x95\\xca3\\xa7=q\\x96\\xa5\\x0e\\xdf\\xafv3\\xad\\xe9\\x1eY$,\\xf4.\\xf5\\xf8:`\\xb4 \\xacI\\xdb\\xc6\\xedA\\x06;\\xd02E\\x93\\'\\xe7\\xba\\x8c-\\x95I\\xa6\\xcd\\x90\\xdd\\xcc\\xd0\\x02\"A,\\xc1\\xe9\\xba\\xc0\\x02\\xf4\\xd1]LE3\\xdd\\xaeF(\\x07-(\\x94\\xa66\\x90j\\x99\\x9e\\xd2B\\xcd\\x95\\xe1\\x85y\\x9d~y\\xff\\x00\\xa3Ad|\\xca\\xd6\\xb38\\xdew\\xd0\\xc7X\\xaeY\\x00\\xd3\\xd7\\xd9\\x84\\xed\\xcc\\xaf6`\\xd2R\\x10\\xa4\\xac25ew\\xa6\\x16\\xa2\\xd3\\xb8\\x88\\xf3\\xa9\\xc2\\xb3\\x06\\x88-v\\xd5\\xd9\\xe3}\\x02\\xbbMYp\\xceW`\\xe5WI 8](\\xc5d8\\xf9\\xc1\\xd9Ak/\\x01\\xd1\\xe5FO\\xba)C\\r\\xd2Eg\\x1c\\xc3\\xe4\\xd0\\xc9f\\x1eX\\xf4%\\x911^\\xe5r\\xe4\\x02\\xcd)u48\\x1f\\xd2fv\\x99\\xb5\\x95\\x12n\\x0c\\xba\\xf2\\xd4\\xc9\\xe4\\xd4\\xca\\xe7Ui\\xc2\\x06\\xae\\xe9\\xcb\\xa5\\xb1\\x9e\\xd2h\\xc9\\x97\\xd2gt\\xb2\\x86C[\\x9d\\xd1\\xb3/\\xa6\\xadr.\\xa1l\\xd9\\xe8\\xcc\\x01<\\xcd\\xbb*%%w\\xd7>\\t\\x8fId&\\xdeQ\\'\\xcb\\xea\\xcc\\xf8^\\xa4\\xc1\\x05@\\xa9\\xe0Fo^<CM\\xe6te\\xd1\\xd4\\x14\\xde\\x8f3\\xb7\\xe8r\\xda\\xee\\xb2\\xaaN\\xfcU\\x90\\xba\\xe6)&\\x15\\xaef\\x8b\\xab[7>[\\xeb\\xca\\xeeUm\\xbd6\\x14\\xd5v\\x9b\\xeb\\xe3\\xafEq\\xa4\\x1f\\x1b(P\\xba\\x051\\x01\\xca\\xd7\\xd1\\x8a\\xabn\\xba\\xec\\xe1xr=Y\\xc3r\\xf5=\\x14\\xc8\\x97]q\\'\\xb1\\xcb\\xd1\\x93\\x99\\xc7\\xe9\\xb9\\xb3\\xc6\\x0c\\xe3\\x9a\\x1c\\x18P<\\x80\\x1b\\x1f9\\xa2\\x9f\\xb5W\\xc7\\xa52\\xf5\\xa1\\xbd(W\\x8ehZN\\xafq(\\xe4\\x95\\xe9\\xd7\\x8e\\xc3D n\\xab=\\xb3\\x1c\\x0cz\\xd5\\x9b\\xff\\xc4\\x00-\\x10\\x00\\x02\\x02\\x02\\x01\\x03\\x02\\x05\\x03\\x05\\x01\\x00\\x00\\x00\\x00\\x00\\x01\\x02\\x00\\x03\\x04\\x11\\x12\\x05\\x13!\\x10\"\\x14#013 2C\\x06$4@A\\x15\\xff\\xda\\x00\\x08\\x01\\x00\\x00\\x01\\x05\\x02\\xf4\\x1e\\x9b\\xff\\x00gS_\\xaf_\\xe8\\xeeo\\xf4%l\\xf11\\x1c\\xca\\xe9\\xd9pD`T\\xea\\x8b\\'n\\x98\\xd4)\\x8c\\xba?^\\xb5\\xe4\\xdc\\x99\\x17{\\x15\\xd7e\\xa7\\xff\\x00*\\xd6\\x03\\x00\\xac\\xc8\\x16!\\xad\\xc0\\x9c\\xb6md\\xe2\\xc3G\\xebc\\xa1I\\xc7\\xbe\\xd8\\xdd9+Z\\xaaD\\x9e%\\xb4Wdn\\x98C=\\n%\\xb4\\xb2Gr\\xd1[\\x7f[\\x15\\x01e\\xdd\\x8d\\xd3\\xf1\\x85\\x15\\x0fS7\\x1fFfVJ_\\x8e\\xd5\\x92\\x7fI\\xfa4{qq+?\\x11\\x16\\t\\xa8cC\\x1ee dd)o\\xdf\\xd7\\x83AK\\x98\\xb8\\xad\\xf4\\x13MF\\x05\\x9c\\xd8~\\xd5\\xe4c\\x07\\x01l;:a\\x18\\x08\\xe2e\\xb6\\x97,{\\xf1hSWf\\xb1\\x16\\xa4\\x8d\\xc1!\\xbe\\xb1\\x0eZ\\xc1\\x87>\\x0e\\x1c@\\x02c,\\x18\\xab>\\x1d\\x04J\\x15\\x9b.\\xbb1\\xed\\xe8\\xd5\\xeeks##\\xb72\\xba\\x9d\\x94>>WxT<_\\x91\\xc2\\xceVY>r\\x0c\\xd7\\xe42_\\xd9\\x8e\\x8e\\xd4\\xf6,\\x98\\xf5\\x94\\x97\\xd3\\xdc\\x9f\\x06\\'\\xc2\\xa4\\xbb \\xabw\\xec\\x86\\xcbHW\\xb4\\x9a9q\\xbdl\\'\\xa4c\\x1e\\x1dO\\rl\\xc4\\xe9@\\x00\\x9eAP\\xb3#\\x1d,8\\xd4\\x00\\xe7\\xf6\\x94\\xe7\\x91o:\\xb1\\xf1\\xfa\\x97)\\x9e}\\xf6\\x9d\\x9cgaR\\x18\\xae\\tw\\x0b\\x1b\\xdf,\\xae\\xc9\\xad\\xdc\\xfc\\x12/\\x16Z\\x80\\xe7e\\xa1\\t\\xbat\\x8b\\x05\\x94\\\\Z\\xc9EK\\\\A\\xe1\\xc4\\x03\\xd2\\xcf\\x15\\xaf\\xe6$\\x99\\x97M|r\\xb7\\xdbOu\\xa1\\xd2\\xa4\\xee\\x9b\\x8dI\\xda\\x99\\x96\\x86\\x95\\xdc\\xeb+\\xcb\\x9f\\xcd\\x9f\\xfbp\\xbf\\x1d_\\xbf\\'\\xf2\\xba\\x8e\\xcf@oz\\xfbkO\\xba\\xb6\\xa5\\xd7\\xe9kb\\xc1\\x1d\\x18\\xde@O\\xe7Q\\xe2\\xcf\\x03\\xa9[\\xe3\\x19y\\xdf\\xf0\\x9b\\x94\\xd2+\\x96\\x00\\xd3\\xb1\\\\Z+\\x86\\xa4Y\\xfc\\xd6\\xa8h8\\xd6\\xb47\\'\\xc9\\xfc\\xaf\\xf8z]\\xa6\\x9bV\\xd4z\\x97\\xec[IO,\\x8b\\x15N\\xaf\\xa4k7.\\xca\\xa5YV\\x13\\x8e\\xfc\\xab\\xb9\\xbcg\\xb7\\'\\xa4\\xf6\\xdf\\x15\\x99\\xe5\\xdb\\xd3\\x0b\\xe7\\xce&\\x85(\\xb9\\x97\\x12\\xdf\\xcf\\x94HP\\xb6Y(\\xf9E\\xbec\\xd8\\xbf.\\x9d\\xd3)\\xb7\\x9em\\x7fg_\\x97h\\xb6\\x9cL<l\\x97W[\\xeb\\x197\\x88x\\x16\\xc5c\\xbc\\xeb\\xb8\\xad\\xc7qQ\\x88\\xa9\\xadY[\\xbc\\x1eC\\x14\\x13\\x9a\\xb0lex\\xab\\xca\\xe6\\x03E\\xd5a\\xa8\\xda\\xe8\\xa2\\xb0\\xd9@8+`\\xc6\\xa0\\x0c\\xfaO\\x9f\\xf8\\xa9\\xf2s0rj\\x95uN\\xa1\\x86\\x07[[\\xa65v\\xdfu\\x18\\xcbU}F\\xcewh\\x99\\x8a\\xf5\\x8a\\xcd\\xf5\\x88\\xd9j#\\xe6\\x13\\x1e\\xd6h\\x1d\\x84\\\\\\x97\\x12\\xab\\xf8\\xb5\\xb9\\x04\\xceD\\x9a\\xb2x\\xad\\xb9\\x05\\xbd*\\xb0\\xa4\\xe8\\xecm\\xcc_\\x16\\xaf\\xa5\\x9a1\\xd7\\xc5\\xd8\\xd5\\xf2\\xc4\\x1bn\\xab\\x95\\xda\\xaa\\xdf\\x13\\x7f@z\\x7f\\xd3+\\xc7.\\xa4q\"\\x7fN\\xa4\\xb8jT\\xdb\\x12\\xd5\\xd9}\\x89hgu\\xd5+\\x95wr\\xcc:C%\\xd4\\xd7\\xc0\\r\\xb3\\xe3q\\xaek\\xd3\\x89\\xf5\\x10\\x8fL_\\xc3r\\xb1\\xb0\\xa3,\\xfe\\x9d\\x1f\\xd9\\xba\\xfbT\\xf1j\\xec\\x04;\\to\\xd9\\xecZ\\x86VWp\\x9fsd\\xd6\\xcbS\\x17\\x13\\rT\\x96\\x03\\x86@NmJ\\xf6*\\x1f7%\\x07c\\x02\\xaeE\\xd3OU*\\xab\\xc6\\xb69\\x88\\x150\\x7f\\x1b\\xba#X\\xaa\\xf5\\xf45\\xe3\\x83\\xaf\\x17,w\"\\x1c\\xf2\\r\\x9dG\\xc6E\\xefi?e:z\\xb2\\x95\\xa5\\x95%\\x88\\x01\\xae\\xfb\\x7f\\xc7\\x1f\\xbc\\xff\\x00\\x8fW\\xe6\\xc9\\xff\\x00\\x1f\\xa7\\xfe\\xcb\\x87\\xf7\\x19>*\\xc5\\'\\xbb\\x9b\\xf8\\xb0\\xbf\\x1eW\\xe5\\xa7\\xf0t\\xf4\\xed\\xe3\\x01,M\\xcc\\xacv\\x97x$,c\\x1aV\\x85\\xcf\\xc3Y\\xbaG\\n\\xaeo\\x9e\\x07r\\x8b\\xa955\\x04=+\\x8c\\x12\\xcc\\x9dvpm\\xe0\\xd9g\\x8d\\xc3V\\xd7]\\x0b[f~,\";y_\\x97\\xa7\\xd7\\xde\\x82,0\\xcc\\xbcz\\xacL\\xbaMNbP\\xc5k~\\xd5\\x9f\\x1a%\\xb9e\\x84\\xab%\\x90_y\\xb6UsW\\x1f%\\xda\\x1b\\x98\\xac\\xb6\\xce\\xe1\\xa4Y\\xaa\\x96\\xc6l\\xd6\\xd2T_\\x96>\\n\\xf1\\xc0\\x03\\xb5\\xa8=\\x0c\\xcd\\xc8\\x95\\xd4\\x0c8u\\t\\x95\\xed\\x8e\\x84\\xb9]}*rx\\x0f\\x8b\\xdc\\xab\\x05\\xee5T\\x95!\\x98V\\xf6\\xed#\\xd0\\x98\\xe65{\\x818\\x8b\\xac\\x97\\xfb\\xda\\xc1\\xee\\x03s\\xb3\\xb8\\xcaW\\xf4\\x08G\\xa5x\\xd7Y(\\xe9\\xbek\\xa6\\xaa\\xe6\\xe1\\xf0\\x0f\\xb8\\x19\\x87\\x99\\xa1\\xad\\x82<k\\xce\\xa6Cj[\\xf6\\xb5\\xa5u\\x938\\xb6\\xc2\\x905\\xb8q\\xc1\\x8fK\\x8fA\\xf6\\x10\\xcf\\'\\xd3\\xfek\\xc9\\xf4#r\\xf6\\xe2Nn@\\x9d;\\xae\\xd4q\\xe8\\xeax\\xf6WoS\\xdc\\xb3!\\xac<I%\\x14M\\xecO3S\\x8c\\xd7\\x97\\xad^Y\\x8aD\\xd6\\x8c\\xff\\xc4\\x00\\'\\x11\\x00\\x02\\x02\\x01\\x03\\x03\\x03\\x05\\x01\\x00\\x00\\x00\\x00\\x00\\x00\\x00\\x00\\x01\\x02\\x11\\x03\\x12!1\\x10\\x13A\\x04 Q\"#02Ba\\xff\\xda\\x00\\x08\\x01\\x02\\x11\\x01?\\x01\\x1fZ\\xfcTWLXu\\xeeC\\x04Q\\xdblx\\xa3{\\xa3\\'\\xa7O\\x8f\\xc1\\x18\\xeatb\\xc7J\\x8a\\xad\\x8a4\\x99!Fu\\xbd\\xfb\\xfd7\\xecc\\x1b.\\x84\\xc9pf\\x85\\xf0vY\\xdaK\\x96i\\xc7\\xf2}\\xb5\\xb1p\\xf8)%tb\\xc2\\xb4j\\xf2ETGo\\xf5\\x1f\\xc0\\xe5C\\x95\\xc6\\xd1\\x93r0KrP\\x8b6_\\xc9\\xc2l[\\xd3-\\xdb0\\xce\\xe0\\x98\\xf8\\xd8Qu\\xb9\\xe4\\xa3*\\xa4OR\\xe0Q|\\xb3\\xb76\\xec\\xfa\\x97,\\xbd\\x98\\xa7l^L\\x19T*,\\xb1\\xbf\\x96E\\xda\\xd9\\x91\\xff\\x00L\\xef\\xc1\\x97%N\\x86\\xb5\\x91\\x86\\x92X\\xe4\\xdd\\x8b,R;\\x8aN\\xa4K7\\x88\\x98\\xa6\\xa74\\x86l\\xf6\\x91\\xd8\\xad\\xd383\\xfa\\x85\\x16w\\x98\\xf2I\\xf4\\xd6\\xfa\\xca\\x1b&zH\\xfd\\xde\\x88\\xf0Nfio\\xc1\\x8f\\x1e\\xa5b\\x83vF6\\xac\\x8e-J\\xc8E+f\\xd2\\x8b\\x1c\\xb4\\xc1\\x1e\\x9d\\\\\\xb5\\t\\xef\\xd2M\\xb3+\\xd3\\x16\\xc87-\\xa4b\\xf2\\x8c\\\\\\xb4F.1vb\\x92\\xd2)\\xee\\x7f,W5H\\xc3\\x1d1\\x1a\"8Y\\xeac\\xf4\\xd2%9\\xf0\\xc4\\xeb\\x82\\xfc\\x96\\xdfH\\xc6^\\x0e\\xdd\\xfe\\xdd!:\\xd8N\\xce\\x0b\\xa3,\\xf5\\x12\\x8a\\x97$\\xb0?\\x06\\xeb\\x9fz\\x93GrLm\\xbe}\\x9c\\x99\\xf1\\xa8\\xee\\xba\\x7f\\xff\\xc4\\x00(\\x11\\x00\\x02\\x02\\x01\\x03\\x04\\x01\\x04\\x03\\x01\\x00\\x00\\x00\\x00\\x00\\x00\\x00\\x01\\x02\\x11\\x03\\x12!1\\x04\\x10\\x13A \"2BQ#@Ra\\xff\\xda\\x00\\x08\\x01\\x01\\x11\\x01?\\x01\\xfe\\x8e|\\xfe-\\x91>\\xa2r\\xf6)P\\xb2\\xce\\xb6f.\\xa6Ki\\t\\xdf\\xcerPV\\xcc\\x93\\xd6\\xf5\\x0b\\xbc%|\\x9d;\\xda\\xbe}_\\xd81&P\\xd0\\xb90\\xe4\\xd2y\\x91\\xe5o\\x84j\\xc8\\\\\\xd9\\xf5~\\xc4\\xdd\\xd5\\x99f\\xf5Qv\\xc4\\xff\\x00g\\x02V(nc\\xdb\\x82RlR\\x927~\\xceZCUe%FX\\xd4\\x9a\\x10\\xff\\x00\\xe7d\\xc8;d+\\xd8\\xe4\\xb8B\\x9cR\\xa3\\xe9en\\x87\\nC\\xf4f\\xc7\\xabu\\xd9*\\x1d\\x121/d!p\\x13\\xd0JZ\\x88\\xe4\\x8aC\\xc6\\xdb48\\xf0G\\x17\\xfa2A\\xc2-\\xf6Lm>G\\xb9\\x8b\\x03\\x92<\\x08X\\xa2iG\\x8e=\\xe3;t\\xce\\xa9\\xff\\x00\\x1fv\\xccp1F\\xd7&L\\x94\\xe8\\xf2Q)\\xd3\\xa2Y\\x94]\\x12\\x93t\\x8aq\\x92\\x14nl\\xce\\xea:J\\xed\\x13\\x12\\xb7D\\xd2\\x8e\\xf12zf]\\xe9\\xa2R\\xd5%FH\\xbdD\\xa1\\xb1\\xf9\\x0e\\xb1\\xbbfY\\xb9\\xc8C\\x14\\x8c\\x13\\xa7l\\x8c \\xf7CI\\x9aUQ\\xa5v\\xc9({\\x1eZ\\xfbNIF\\xf7+\\xbc#\\\\\\x91\\x9b\\x8f\\x04z\\x95\\xf9\\nJ\\\\|\\xf4\\xa6hEW\\xc1m\\xc1\\x83+\\x96\\xcf\\xb7\\xff\\xc4\\x002\\x10\\x00\\x01\\x03\\x02\\x05\\x02\\x04\\x04\\x06\\x03\\x01\\x00\\x00\\x00\\x00\\x00\\x01\\x00\\x02\\x11\\x10!\\x03\\x12 1A\"Q02q\\x81\\x04\\x13a\\x91#@Br\\xa1\\xc1\\x14Pb\\xd1\\xff\\xda\\x00\\x08\\x01\\x00\\x00\\x06?\\x02\\xff\\x00w\\xd2\\n\\xbc\\x05\\xd2\\x01\\x03\\x92\\xbc\\xe0z\\x053\\x9b\\xddu\\x07a\\x9fEi]\\x0b\\x9f\\xc8B\\xe9\\x19B\\xde\\xdc\\xa8\\xc3l7\\x80\\xba\\x9dt!F\\xea\\xff\\x00b\\xac\\x14s\\xf9\\x00O(5\\xb2P\\xcfw+\\n\\x19\\xfe\\x11\\x82\\\\\\xdfU\\x18\\xed\\r\\xfa\\xf7D\\xe1\\tf\\xeb\\xb2\\x83\\xe3fv\\xc1f*O\\x9d\\xdf\\xc6\\xab\\xa3\\xf2\\xc2\\x98B<f\\x9e\\xe50;o\\x04\\xca#F\\xcbo\\x06\\x01\\xf2\\xac\\xc7\\x82\\xa4\\xab)]WV\\xd2\\xd3\\xec\\xa5\\xd0\\xb8VW\\xa5\\xb5\\xe5h\\x92\\x8b^2\\xcao\\xdd}\\x10kVR/\\xfb\\x95\\xc4:\\x91\\xca\\x90\\xa5\\xc08)\\x14ii^e}\\x10\\x17\\x95l\\xac\\xae\\xbaS\\xdd\\x89r\\xee\\x94\\xd0\\xe19v(\\xc7\\x14\\xf2\\x02\\xa4\\xfc=\\xfb\\xa9\\xc9G\\x9d\\xdc\\xbec\\xed\\x1c\\x13\\xff\\x00\\x8b\\xad\\xb0\\x11\\xfa\\xd1\\xad\\n\\xf4\\xba\\xb2\\xb1W\\xa5\\xb4z\\x14\\x1a\\xc0\\x0b9\\x94\\xe6\\xb3\\xbc\\xe9*U\\xfa\\x87\\xd5t\\xe1\\x16\\xbb\\xe8\\x16b\"\\xc9\\xa3\\xba\\n\\x1a\\xa5\\xc5Z\\x97\\xd2)\\x88\\xde\\x08\\xa1\\xac\\xae\\x97\\x0b\"\\x89\\x1e^k\\x07d\\x15\\xe9\\xba\\xe2\\x97\\xa5\\xea)\\x9c,\\xcd6\\xa4\\x95\\x99\\xdb\\r\\x853@\\xcf\\xdc,\\xa5\\xa4(\\x8d\\xeaW\\xa2\\xba\\xb5e\\xca\\x05-K\\xd2\\x15\\xd6\\x0bA1\\x9cP\\x84\\xd7`q\\xba\\xcf\\x8d\\x8c\\x01<\\x04vx\\x08\\xb7\\x1f\\x0e\\x08\\xee\\x14\\xb6\\x86\\x93\\n\\xc1]^\\x9b\\xa9R\\xae\\xac\\xa6\\x91L(\\xef5\\xca\\x9e>\\x1b\\x1d\\xed\\xc1?\\xa2P\\xc3\\xc4\\x1f0o\\xd6?\\xb5\\x97\\xe2pCZo;\\xa2p\\xac\\xce\\xe5ID\\r\\x85!p\\xac\\xac\\xaeV\\xf4*\\xca\\xfa\\\\O\\xe9f\\x8b\\xa2\"Gcu\\'\\t\\xbfd\\x16F\\xee\\xb2\\xf3\\xb9\\xf1eE1\\xdf\\xe8\\x14\\x8d\\x17\\\\\\xab\\xee\\x8e!\\xf6G\\x11\\xfc\\xec\\xac\\xa1N\\x8d\\xb5\\x98\\n\\xe18\\xf7}#\\x8d\\x04\\x9d\\xd1\\x03\\xdd\\x00\\x83p\\xf8P\\xe9W\\xde\\x83.\\x89+*\\x93\\xa2\\xeaP\\xfd\\xc6\\xb2\\xd3u\\x0ej\\xe9[\\xd0\\x15\\x05YF\\x81P\\xad\\xa9\\x8d\\xf7\\xac\\x85\\x0f\\xb6\\x8bS\\xaa\\x91HY\\xa9\\x05\\x03\\xa9\\xac\\xe0\\xdc\\xfai9\\x82\\xb7\\x96\\x92\\xeb\\n\\xc0\\xd1jEzWR\\x85\\x95\\x92IY\\xbe\"\\xef\\xed\\xd9:\\x00\\xdfNVn\\xae3z\\xac\\xcdh\\x05]f\\x1e\\x1c\\x15\\r\\x12Vo\\x889\\x7f\\xe7\\x95\\x18m\\x84\\x14\\x1f+\\xbc(V\\xb2\\xb8\\xd7\\xd1\\x86\\xe5\\xf8\\xee\\xf6\\x0b\\xf0\\xda\\x06\\x90\\xccm\\xb8*E\\xf4@[\\xa2\\x1a\\xa4\\xa9\\x14\\xb8\\xb2\\xe9\\x90\\xbc\\xbfm=\\xe9\\xb6\\x8b\"\\xd0r\\x86\\x8c\\xcetl\\xbaq\\xb1\\x04v)\\xdf\\xe7;.#y\\x03\\xcc\\x8b\\xc0}\\x8a?-\\xad\\xf7+\\x7f\\xb2\\x92i\\xfdWj\\xf5\\x00W\\xe1\\xdf\\xe8\\xafO\\xff\\xc4\\x00\\'\\x10\\x01\\x00\\x02\\x02\\x01\\x04\\x02\\x03\\x01\\x00\\x03\\x01\\x00\\x00\\x00\\x00\\x01\\x00\\x11!1A\\x10Qaq\\x81\\xa1 \\x91\\xb10@\\xd1\\xf0\\xc1\\xff\\xda\\x00\\x08\\x01\\x00\\x00\\x01?!zo\\x18\\xc5\\xc3Pi\\x8e\\xa0\\xd3\\x16\\xe5\\xff\\x00\\xc0\\'\\x1dA\\xa8\\xcb\\xea\\x12\\xdd\\x9f\\xf5#\\tq\\x87\\xf0%\\x95\\xe6\\xa3:\\xa6\\xd7\\x88=\\xf85\\xc7\\xcd\\x9d\\x10\\xc7\\xac\\xb4\\x86\"\\xfa\\xc8c\\xa8|\\xdc\\xb0\\xebH\\xf6\\x8bEZ?\\x99\\x1e\\x97\\xf8\\xd7\\xf0\\xda\\xf6!G\\x83\\xa3\\xbc\\xb5N\\x9bS\\x08/\\xcc\\xf9\\x8d\\xc5\\x0by\\xcc\\x1fEc\\xd3+7\\x0enZ\\x8e\\xabA\\x89\\xda\\x9c\\xdf\\x11\\x05\\xa0\\x8aj`?\\xde\\xa6\\xd3\\x9ex\"\\xef#\\x83\\xcc\\xa2\\x83o\\xc7\\xa9\\x8d\\xc5\\r\\xf10j/*\\xa3j\\xa6\\xc3\\n\\x97\\xd5\\x8d\\rB5\\x07.\\'\\x1ax\\x12\\x87\\xeb\\x8fJ\\x95\\xd2\\xbf\\xc2\\x8a\\xdf\\x1dm\\x96\\xfd\\x88\\x00\\xec\\xb3\\xe1\\xdb\\xa3\\xd4\\x08#IC\\x0b%h\\x0b\\xba\\xe65T/$\\xcbFy\\xfc\\x0e\\x83\\xfc\\x05\\x80\\x02\\xaf\\x99\\xee\\x05\\x97\\x8e\\x81s\\xba\\x1e\\xd11\\xe6i\\xe2\\x11k;m\\xc9\\x0c.T\\x05\\xe2\\t\\xa5\\xd0\\t\\xfc\\xc1\\x88$\\xe5;\\xbe\\xa1\\xea,0bli(\\xc4\\xf5\\x07L\\x12\\x93!\\xe6b\\xd1\\xa8\\x86bf2\\x0f\\x0e\\xf2\\x7f\\x90V\\xe2\\xc3z\\x1b\\xc2\\x1di\\xa5\\xa8h\\xf6@s\\xd1\\x8es;2r\\xaa\\x1f\\xb5\\xe8#K\\xab\\\\$\\x1c\\xdc\\xdb\\x98\\xb3\\xa4\\xb6\\xaa}]\\xbd\\x82^\\xbe\\x86M\\xe7\\xc5A;;\\x11\\xd7p\\xde\\x06\\xf2Eo`/0O\\x059%\\x95\\x94H\\x12[\\xb5\\n\\xcdzC\\x95\\xfb\\x81v\\x95qY~\\x97V`\\xf730D-b\\x9e\\x03s\\xb8\\x01\\xf6\\x13\\x85\\xa0!\\x16\\xef2\\xdbbh\\xdb\\xaa@N\\x94U\\xb1\\xe7Z\\x88(\\xd9\\x82]0\\xa8Y\\xc7\\xc6\\x91w\\x17Y\\xb1\\x99CBS\\x06s\\r\\\\\\x04@\\xb9\\xa5\\x11H\\xc1\\x9c\\x1c\\xab\\x85(d%\\xb5\\t\\xc4JTZ\\xba\\x9b\\x86\\\\|^bf\\x97\\xe2\\x8c\\x02\\x86T\\xd3\\xa5\\xe5\\x94w\\x99\\xaf\\x11\\xe5\\xe4\\xcb0\\t\\xc7){\\xcc\\x08\\x15d\\x80S\\x0b\\x88\\xe1\\x061a\\x05tDPc^|O*K\\xa8,?\\xbe\\x8d\\xb6\\xed\\xd17\\x7fx\\x1bT\\xf7#\\xf71\\x04\\xf9#\\xcc\\xf7\\x94\\xa0\\xb5\\xa1,Q\\x0f1\\xb0\\x97b\\xf5\\x04,b\\xb6\\x06XLa1\\r\\x98\\x9d\\xe5\\x94\\xa9z\\x08\\x87\\x95\\xfc\\xc3\\xfbAj\\x93\\xbc\\xc25S\\x82G\\xfb\\xe9\\r*B\\xc3\\x0f\\xed\\xe8\\x90\\x1b\\xa5\\x13\\xb9\\r\\x05]\\x1b>(\\x11\\x99\\xa2\\x0e\\x17\\x14\\x89\\r`a\\xaa\\x05\\xc4\\xad\\x9d\\xac\\xb0\\x07\\xb9\\xdeWw\\x18\\xd4\\x00^\\xda\\x88)\\xbc\\xa1\\x03\\xd1\\xe0w\\x02\\xaeIa%\\xcb\\x8b7\\x1d\\xea\\x17\\x96\\x89Z\\xdc\\xa9\\xa4V\\xa9q\\xe1q\\x0c\\x8a\\xc0hfJ]2*\\x08\\xb1[f\\xc6\\xa0\\x1b\\x8f\\xe3\\x82\\xc6\\xd8\\x1a8#q> \\x88\\xb8H\\xd7%a\\xe5n\\x01\\t\\\\@\\xe9j.\\xab8\\x82#\\x9a\\x98\\x08y\\xc1^\\x90p\\x91\\xea\\x90\\xc5\\xb1-\\xee\\xe6p\\x9cZ0p_\\xa12\\x0ec\\x95\\x039\\xc4S\"\\xa5\\xc0f\\xeaT/\\xc2\\xe5\\x86\\x16%\\x87\\x86&Z\\xd7\\xc1/\\x1a\\xa1\\xb6{*\\xb0&\\xc3\\xdc\\x14\\xf3]\\xfa\\x13\\x86MF\\'\\x92k\\x14\\xdc\\xe6\\\\\\x19o\\xa92\\x8a\\xe6\\r\\x98s\\x04s\\x12\\xc3\\x89\\xa1\\x04\\x7fi\\x16(\\xe0\\xd2\\xcc\\xea\\x1e\\x99\\xc8\\x0f\\x00>\\xe7\\xb8\\xb8\\xd4\\x00\\xd0\\x18\\x9d\\xe1\\xe0\\x8a\\xb9[m\\xf3\\x15Y\\x97\\xf9\\xeb\\t\\xa8\\xd3\\xa4\\x17\\x8b\\xa2\\xff\\x00\\xfd<\\xcf(3\\x04\\x98\\xee$\\x02E{C\\x11e\\x0c3\\xe2.I\\xc4\\xf2\\xf2\\xabK\\x06\\x970\\xae\\xf3\\xe1s\\x99n\\xd0\\xdcC*\\x80\\xad\\x12\\xa5\\xae%\\xeaR\\x19#\\xfaK\\xd8\\x9b\\x80\\x94\\xf7\\xc7\\xf0\\x97)}\\xc92\\x87$\\xa9\\x00^\\xcc\\xf4\\x89\\xb2l^Q\\xa4s\\x82kX\\xd4\\xfe\\x90\\x97Hb\\x9dC\\x17&dj\\x12\\x07W\\x07`\\xe2\\x04\\'\\xe9\\xb6\\x9c\\x1c\\xc2fF\\xfbM%\\x98\\xec\\x12\\x87\\xdd~\\xe6QM\\xe33V\\x07\\x1d\\xe5\\x88\\x12\\xecM\\xf9\\x8amWi\\x84x\\xe9\\xb8?\\xf5\\x8e\\x91\\x00\\x17\\x98\\xdc\\x8d\\xd4j/\\xbc\\xca~\\xd4\\x1fI\\xbf\\xa0\\xb7\\xd2\\x94\\x99\\x99|g\\xf3\\x8d\\x95o\\xd4\\xcb\\xd7\\x8b>\\xf31L\\xb8\\xe1\\xcb\\xea\\x0bl^gyp8\\x8aPb\\xac#\\xfa\\x90\\x9b\\x9a\\xb8@;K\\xc3\\xab\\x80\\xed\\xc4\\xb6\"\\xb2\\x9e!\\xc2\\xf6\\x94\\xad/\\x89a\\x95~\\x10\\xd4Y\\x93\\xa8\\xc2\\xa6\\x8b+PkG\\xa8\\xb12%4\\xeeT\\xc5\\xf7\\xa8\\xab~\\x11,\\xf4\\x8e\\xbd\\xb0\\xd6\\xb8\\x85:\\xe9\\xa5m\\xb9R\\xd96\\x93\\x08\\xb1\\x04\\xddK\\xe5\\xc4\\x1al\\x89k\\x03}%\\xb7X\\x19Q\\x00x\"\\x0b5\\xb3W\\x1f\\xf6\\x87\";Wj\\xc4z\\x17\\x18o2\\xc1\\xbe\\xd8\\xba\\xd4\\xfd\\xcc\\x8b\\xdfE\\xcb\\xaa\\xdab\\x81\\xff\\x00\\xd8\\x80Z\\xf8\\xfc\\x82W\\\\I\\x1d\\xadt\\x04\\xb1\\x13\\xc0\\xdb\\xfe\\xa5X\\x1eWo\\xcc\\xe6\\xc9\\xcc\\x0cY\\x81\\xf1\\xd9\\xe88f\\th\\xc6Z-\\x85\"\\n%\\xdeQS\\'\\x88\\xe0c\\x9e*5]!\\nbTN\\x87\\x1dM\\xfa;\\xa5\\x1fs\\t\\x13\\xff\\x00{\\x95>\\xdc&\\x95\\x1eB\\xbb\\xcf\\x99\\xc4\\x17\\xce|\\xcb\\xa0\\xba\\xed\\xa8\\xd2p:N\\x9f.\\x8b\\x8eF0\\xcb\\xe4\\xc0\\xfa\\x1ec\\xc9`\\xca\\xc1(52\\x8b\\x98*\\xee\\xc6\\x7fh\\xeam\\xdb\\xe7(\\x94\\xd3\\xd0W\\x0c\\xc1\\xb8\\xe2\\xa0v#\\x82\\xf8\\xe6\\x0e\\xdf\\xb2i\\x05\\xf9\\x84\\xbb\\xeb\\xf7\\x17$h\\xb3\\xd8\\x1ee%*\\xb0\\xa7\\xf9\\t\\xc6\\x88YO\\xa3\\x98=\\xa5\\x14\\x85\\xbfp@7\\x9b\\xbe\\xa5\\x9bwt\\xa9q\\xfb\\\\\\xcc\\x8a]\\xf1\\xccUiA\\xa8\\x1f!\\xde9d\\xdc\\xad]\\xd9\\xf2\\xfdK^\\xb5?q\\x90\\x05_\\xd6^\\x81Of9\\x9f\\xff\\xda\\x00\\x0c\\x03\\x00\\x00\\x01\\x11\\x02\\x11\\x00\\x00\\x10*\\xb2\\xef\\x9bR\\x89\\x03O<\\x88\\xa5\\x93\\xf3M\\xff\\x00\\xe4\\xf4|\\xd0\\xc7\\xbc\\xc2)s*\\x92\\xdd\\x87\\xc4>\\xe0IS\\xa4\\xbf\\xfe\\xe5bZ\\xc8i\\xb91\\x97\\xe0\\x7f\\xdfM\\x90|\\x8f\\xf1\\xf7f\\x7f\\x01L\\xa2\\xac\\x15\\xc7\\x86Pz\\xc30\\xf9\\x8f4\\xc3.\\x06\\x8d\\x7f\\xd7\\xdfd3)\\xd8CZ\\xa14\\x96>\\x8c\\x0fZ\\x9f\\x113e7\\x93\\xcf\\x0f\\xe5\\x0b\\xe8k\\x97jG\\xf5H\\xf1J\\xa4\\xe6\\xa8YVI\\xb5\\x82\\xc5\\x16\\x96\\xd08F\\x1c\\xa7Is[\\xff\\xc4\\x00 \\x11\\x01\\x01\\x01\\x01\\x01\\x01\\x00\\x02\\x03\\x01\\x01\\x00\\x00\\x00\\x00\\x00\\x01\\x00\\x11!1A\\x10 Qaq\\x810\\xff\\xda\\x00\\x08\\x01\\x02\\x11\\x01?\\x10\\x1b\\xdd\\xa1\\x04b\\xc2\\xc7\\xff\\x00\\x07V?\\r\\xb4\\xe1=\\xc3g\\xe4\\x92\\xb0\\xba\\\\\\xc8\\x8e?\\xbb\\x11\\x80\\x0f\\x85\\x81\\x8b\\x03\\x01<\\x97\\xa2\\xc0\\x8b\\x7f\\x1b\\xfa\\x1e\\x9f\\xea\\x1c\\xd8\\xbc\\xdbK\\xb0YT\\xbc\\xfcC\\xfa\\xcd\\x0c}\\x88\\x9cX<\\x8ej`\\xf9_$\\x08\\x90`\\xff\\x00m\\xbcX\\x95\\xf9\\x1e\\x87&,d\\xf1\\xec\\x8e\\xa6\\xb26M3\\'\\x88\\xd8\\x0f\\x90*k\\xe4^?\\x0b\\x03\\x82\\x0b\\xb0\\xbaX\\x04\\xfb\\x18\\xfaOE\\xd89\\x04\\x01\\x19\\x03\\x98GTB},\\x01\\xc6<\\xdc\\xa4\\xf4\"\\xeeB\\xc2\\x00\\x8f\\x02>\\x85\"[\\xba\\xc9\\xa3-\\xf6\\xf8\\x81!\\xfc\\x12(\\xee\\xcb\\xec\\t\\x87!\\xe8\\xff\\x00\\xf6\\xff\\x00Rq\\xebo\\xe8_RUv\\x07\\x83?\\xcc\\xbfb\\t\\xf6\\xe4_\\x83zd\\xd2\\x12|\\x88v?\\xf5\\x02\\xa9\\x00|\\x95\\x87\\xc9\\xba2U\\xbeZ\\x96H\\x82\\xf3\\x7f!1jt\\x84\\xcf\\xc4\\x02\\xa1|QD\\xfb\\x9f\\x8c\\t\"\\xd9>h\\xca\\x0c\\x18@\\xa5\\xe4f\\x1d[\\xa4\\x19W\\x19\\xff\\x00\\x91\\x03\\xb4\\x8bT\\xbd\\xeb\\xb3\\xec\\x7f\\rt\\xc2Z\\xf6\\x00\\xe1{\\x10A\"F\\xac\\x0b\\x0b\\x8c\"\\xf7\\xb98\\x0c\\xbb\\xbb\\x0e\\xfe\\xbdBI\\xbbz\\xad\\xfd\\x10\\xe1\\xbf\\xb3ao\\xff\\xc4\\x00!\\x11\\x01\\x01\\x01\\x00\\x03\\x00\\x03\\x00\\x02\\x03\\x00\\x00\\x00\\x00\\x00\\x00\\x01\\x00\\x11!1A\\x10 Q0aq\\x81\\x91\\xff\\xda\\x00\\x08\\x01\\x01\\x11\\x01?\\x10\\xfbi\\xfcg\\x80\\xd6\\xefq\\xfe.\\xd6\\xdd\\x93\\xff\\x00e\\xfb \\x1a}\\xdc\\xf5\\x13*\\xed\\x87\\xb3\\xad\\xb9\\x142\\xff\\x00\\x13\\xf5\\xd9\\xb8\\x0f\\xd8c\\x8c\\x8e\\x8b\\x99\\xc4\\xb6\\xe6\\x8d}\\x92\\xf3\\xe1Zy\\x02\\xdd\\x81\\x9c\\xc4\\xe947\\xa1rb\\xee.5\\xb8\\x19e\\x98*\\r\\x91\\x99\\xb8B\\x1br\\xcd\\x03l\\x9a\\xf6\\xc9:\\x89\\xbc\\xc8\\x18\\xeal\\xa1\\x93\\x88A\\xf6\\xb4x\\\\1=\\xc0\\xca@\\xb49\\xd6X\\x06V\\xf9\\x16q\\xc5\\x83r\\x1a\\xd4\\xb1\\xd8\\\\\\xedd^\\xd98`\\xce88\\x8b\\x10I6\\xf3my\\xed\\x11\\x9e2\\x0b#\\x8b\\x82\\x13\\x1e\\x04]:\\xbf\\xb67\\x91\\x86Jr\\x9f,\\xbe\\x16O=K\\xaea;\\x93\\xa2\\xf4e\\x04\\xff\\x00ILH\\xc2\\x9d\\xc2_\\xaf\\x88\\x01\\xfd$\\x16\\xd9\\xc6\\xef\\x1e\\xcf\\x08\\xef\\x98\\x1b\\xb0\\x1a\\x96\\x12\\xf7H\\x1d(\\xe0\\xdcB\\xe1\\xf3\\x89\\x02\\x9dvmn\\xe4\\x0b\\xd1.,{\\t\\xc4\\x1e$Afc\\x1dG\\x10}\\x16\\x10\\x8cpp9j\\xb5m\\xd8\\xb4H\\xd8\\xae\\x13\\xf2\\x89\\xeb\\x9b\\xc7\\x08\\x8d[\\xf6$\\x1c\\xc5\\x83\\xa1\\xf1\\x93%o\\xc2\\xd2\\xff\\xc4\\x00\\'\\x10\\x01\\x00\\x02\\x02\\x02\\x02\\x01\\x04\\x03\\x01\\x01\\x01\\x00\\x00\\x00\\x00\\x01\\x00\\x11!1AQaq\\x81\\x10\\x91\\xa1\\xd1 \\xb1\\xc1\\xf0\\xe1\\xf1\\xff\\xda\\x00\\x08\\x01\\x00\\x00\\x01?\\x10\\x1fE\\x08\\x0b\\x9d1K3\\xcel#>\\xa0\\xd6\\xfeU+\\xf9\\xec\\xfao\\x12\\xe4k*\\x19\\x81\\x84v\\xcb}Q\\xf7\\xd4\\xbd\\xa1\\x9e\\x82\\xe54\\xb5\\x83\\x0b+\\xf8?\\xcfI\\xb4\\xdf0\\x01)\\xd4Fo\\xeb^7\\xa2H\\x94YE8z\\x892\\x8d,>.X\\xcc\\x14 \\xbe\\xaa\\x11BE\\x83_&s\\xe2\\x15h\\xd6W\\xdc2\\x7fR\\x88eek\\xfc\\x15\\x1b\\x02\\x166\\xef\\xe6&\\xc6n\\xca\\x9bc\\xf9W\\xd4\\x18\\xa7\\xe9_T\\xd7\\x7f\\xb41\\xb9\\xc6\\x83\\x85\\xe6S,yl\\xb9\\xc1\\xe5\\x96\\xe0\\xbaK\\xae\\x07\\xb7q\\xf0\\x01V\\xb2\\xfcL\\xae\\xb5\\x08h\\xf8\\xc6\\xa5\\xab\\xac\\x93a\\xf1\\xfb\\x80\\xd7\\xf9\\x1aj\\xea\\xf8\\xf9\\x97\\xd8\\x0b\\x03Iy\\xb5\\x03\\x16\\xf7\\xfa\\x97`\\xd7#c\\xe4\\x8f\\xf2%\\xff\\x00\\n\\x954J\\x0e\\xff\\x00,/\\x8d\\xc1\\xfd>\\xc5\\xff\\x00\\xdf\\x070\\x02\\x88[\\x93\\xc7\\xf6\\x98pB\\xc0\\x89\\xe6\\x06\\x15\\xf3[\\x97\\x96\\xf1\\xb9\\xfd\\xb2M\\xa9\\xe7P\\xd1\\x9e\\x1f\\xf6T2`,\\x1d\\x7f\\xec\\xc3\\x01\\xbat\\\\vV\\xcc\\xaa\\x94\\x1c*}\\x0bB+\\xb9\\x97\\xf0?\\x824\\xd7mc\\x83\\xf74@U\\xd6~\\x0e\\xa6M\\x8a\\xdc\\xd9\\xc3\\xfd\\x8e\\xdf\\x99\\x97\\x94F\\xc6P7\\xd6\\xa5KX\\xd4\\x1f\\x98\\xb9i\\x9e\\x03\\x0f\\x9cq9\\x15`; \\xa4\\x97T\\x11 w3S70u\\x07\\xf0>\\xa1l\\xb7\\x84\\x87t6\\xff\\x00D\\xa2\\xb9`0-\\x95\\xef\\x99\\x98\\xe3\\x18!*\\xcc\\xce\\x81\\x12]\\x92\\xb12Z\\xba)\\x88\\\\D\\x16]\\xcc\\xe8\\x85\\xb7\\x06AeW1\\x1bk\\xb3\\xc9\\xc4t\\x0c\\x8eb\\xab\\x13\\\\\\x9f\\x89\\xfej\\x9a\\xf6{\\x81\\xe7\\x1e\\xbe\\x95*\\x1f@\\xf0\\xfd\\xa5\\x8eK\\xe6\\xa1\\n4k\\x8a\\xce1\\xe8\\x82y\\x938(P\\x1e\\xd6W\\x83e\\rb\\x1a\\x96\\xd5\\xcc0\\xcd\\xdbP\\xb0d\\xcd\\xbcEq\\xe1\\x1d?0\\xaa\\x16\\x8b\\xb42\\x9a\\x0c\\x7fs\\x10\\xe7\\x1e\\xa2l\\xd4#.\\x936\\xf12\\xf8a\\xe0\\xb9\\xfa\\x02/\\x82\\xf4M\\x08{\\x9e\\t\\x82\\xb8|\\x11yc\\x96b\\x06\\xb4w\\x1a\\x95\\xf9g\\x05g\\x14~ \\x8b\\xb5Ku\\xdfG\\x98A\\xeb3\\x10j\\x93\\x0ce\\xe4j\\xeb\\x1a\\x08\\x1b\\xc5\\r\\xd3\\xcb\\xc4w\\x14\\xc2\\x97\\xa6\\xbb\\x1etLY\\x0b\\x0cH\\xb0\\xae_\\x18/q\\x86\\x97k\\xc5\\xf9\\xae\\xe2Cpm\\x8b\\xfbl\\x9b\\x95\\xc2.\\xad\\xa8_\\x01u\\xfcR\\xcb\\x95O\\xb1\\x86\\xabv\\xa7\\xbdL\\x84\\x9e\\x7f\\x9e\\x90F\\x13\\xb9^\\xad\\xab\\xe1\\x82\\xe2\\xf7\\x1bg\\xee\\x9e\\x83\\x87\\xd1\\x95\\x19\\x05r\\xc6\\x14\\xcf\\x9cD\\xbc,\\xcd\\x0f.\\'\\x1aWXM=\\xa9\\xf6\\x97N+\\xe26\\xcb\\xdb\\xadJdRS\\x95.\\x1b\\x9b\\'\\x1a\\xa8\\xc8\\x17\\xb5\\x82\\xbe\\xee\\x07\\xb0\\xb6\\x81D\\xd2#\\x176\\xf0\\xa2\\xba\\xa8\\xa6\\xb0\\x12Y\\xd35\\xdb\\\\\\x16\\xd4\\xb5\\xb8\\x02\\xa8\\x9bt\\n\\xf2\\xc1Cb\\x84\\x0ew\\x91\\x80 ty\\x1d2\\xd5So\\x11\\x07\\x85\\n74\\xdf\\xdc\\xbb#+j\\x88\\x0bO\\xef,\\x97\\x0f9\\x97\\xd93\\x1d\\xaa\\x81\\xccHiL\"\\x1d\\xc3\\x15\\x0c\\xd4\\x16=v\\xcb\\xb1J\\x17\\x80\\x03\\xf8`\\x11\\x95\\xf6t\\xa3\\xcc\\xb5a\\xab\\xe1\\xfdL#\\xe5\\x8b\\x81.%S\\x87]C\\xafG\\x071\\x01^4\\x08\\xe5&\\x9c\\xda\\xe6\\x0c>\\xd3\\xb4{\\x8f\\xdb\\x0c\\xa8\\'\\xacT\\x14V\\xbb\\x8a?\\xec\\xca\\xf3e\\xb6+\\xcc\\x06`\\x0bw\\x89~\\xb4\\xc5\\xc5H]\\xe6p\\x10\\xf2\\x8a\\x94\\xbd\\x0c\\xdb\\x176\\\\\\xc2\\r\\xd2\\xf8\\x8dl\\x85\\xf9@\\x06\\x9c!\\x8an\\xa5\\x8eR\\xc08\\xaa_\\xe6 \\r6\\xe4\\x94\\xe3-?\\x99h\\x89LT4\\xcd\\xb2\\xfe.Cd\\xf5\\x1e\\x1aQ\\x0b^N\"\\xa7\\x13\\x86b\\xb9\\'B\\xf2C\\xca\\xab\\x86bvxy\\x9c\\x00\\x05\\xaa\\xa2\\xaaP\\x85\\xe7\\x83\\xff\\x00bZ]E\\x88\\x08\\xb2\\x03\\xe6R\\xdb\\x1e\\xd9\\xa5\\xbf\\x89\\xaf\\x0f\\x88\\xaaC\\x85j\\xb3p\\xaf\\x89\\x14*\\xc1cXF\\xbb\\xea\\tk\\xc2\\xec\\xd9\\x0e\\xf5\\xde6=x\\x9b\\x93\\x98I\\x90\\x17G3A\\xe8Z3\\xb7\\xb6\\x18\\x06\\x939\\x99V8\\xac\\xf0\\xf6K&Q-\\x89\\xee H@]U\\xeed5!\\xac \\xa0ekl\\x83\\xa3\\xaa\\xf5p\\x03\\x12}\\xb10\\xd5y\\xdc-\\x8f5\\x8a\\x8e\\x12\\xde\\xa1\\x84\\xdc\\xd5\\xc3+h\\xfb\\xb1BJsSX\\xee\\x06\\x15\\x95Q\\xba{\\x87\\x19+\\x00\\x1e\\x07\\x10\\x87\\\\\\x15K\\xb1\\xb68\\x9b\\x9d\\xa0\\xdeNu,B\\xb7\\x06\\xa6\\xecq\\x18bS{\\xbc\\xae<\\xc1\\xb7\\xc6\\x94z\\xcd\\xea:\\x8b\\x19\\x83\\xa7\\x03\\xf6\\xdcj\\x99,\\x04/Y\\xd7q\\xee`\\xc1\\xa9\\x0f\\xa3P \\xa6\\x0ek;\\x8e\\xcd\\xb0\\x899Z\\xb5\\t\\xcaf\\xc9\\xf1\\tg\\xcc\\'&&\\x12\\x02\\x19\\x1e@c(y\\x83\\x88\\xc1Y\\x8d\\xb3\\x1cKC\\xf5\\x96\\xa7\\x03\\x99\\xc1\\x8b\\xaf\\x13\\x83\\x94\\xdc?\\xb2\\xcdy\\x18\\xe5\\xdb\\xb5\\xd4-~N\\xe3@Z\\xa0\\'Q\\x0e\\x80\\x87:\\x14\\xd0\\x0eM@X\\xac\\xb1.\\xf9\\x0b\\x9e\\xee\\xa2z\\xad\\x89S\\x02%\\xef\\x98\\xdd\\x8a\\xe3B_\\x06\\xd9j\\xae\\\\\\x17\\x8e\\xa0\\xa6\\xb3\\xb2\\xd2\\xf0FT-\\xa8\\xd4\\xa5U\\x92\\xf2{\\x83\\xe3\\xee\\x83!\\xf8\\x10$O\\x99p\\x16t1{?\\xcc\\xad\\xb5#e\\xc2\\xb5+\\xc9\\xf2L\\xd9W\\xdc\\x10\\xc6\\x85`\\xdc\\xb9U<\\xc1\\xbb\\xb9gg\\xa2\\xcd\\x13\\x8b\\xc2\\x0f\\xdc\\xa0\\xd2\\xf9\\x94:\\x1b\\x94.\\xb5\\x05E\\xa9\\x91\\xc4 D\\x14\\x15\\x1e(\\xd1\\x00\\x07E\\x16\\x02\\xfd\\x18\\x8b\\x92-%\\x03\\xd4\\xc8\\xf8h6\\xb2\\x9cvEk\\x8fDM\\x165\\xaa\\x96\\xe1b\\xae\\xd6\\x13\\x9f\\xe0*\\x15\\xc2\\x02\\xf0\\x8bKX\\xb2>\\xe0b*\\xb9EAl\\xef\\xe5\\x7f\\x90\\xa8Y~\\xc8r|0\\xdd\\xfcq.\\xc6N\\x07S2#W\\x86a5\\x88\\x1c\\xccj\\x1b|Q\\xca\\xb5\\xa4\\xff\\x00q\\x9d\\xbb\\xfb\\x01\\xb7\\xef\\xfd@\\xaai\\xb8\\xdd\\xdd%\\x01\\xb5\\xcaS\\xb4\\xc1v\\xae\\xea\\x05\\xa1\\xb8X \\xf2\\x90\\xd0\\xaa\\xf1\\n\\x10\\xacE\\x84\\x19\\x0f\\xa8\\x91q,U7<=L\\xd1\\x1d\\xcc\\x0fk\\xf5\\xba\\x08\\x8c\\xa3\\\\\\xf3\\x11\\xc5\\xb3\\x17\\x01\\x9cC\\x04\\x01\\x1f\\x98y#\\x0f\\x05R\\xf3+\\x88\\xb0^:\\x99\\xf1P}^%\\xb9\\x875\\xcd~\\xe1*\\x08\\x16\\xe6\\\\\\xc5\\x9aq\\x94\\x9b\\xa1\\tTM\\xd7P\\x0f\\xbc\\x15)\\xf6\\xf3\\xd4V6^%myh\\x87\\xcc\\xba\\xca\\xca\\x90:\\xc4\\xbf\\x1c\\x85\\x8c\\xa1\\xa0\\\\\\xc8\\xab<\\xc0!\\xae \\xf2\\x9f\\xd2?\\xc8\\xa6\\x0c\\xe3\\xb9\\x88\\xb0\\x1cTN\\x86\\xfa\\xd4\\x1dTm\\x1d\\xca\\xc3\\x0b\\xbd\\x89\\x9a%\\xc0`@}\\xa7r\\xed.\\xba\\xfa\\x84\\xe9]A\\x96q\\xf6\\x88\\x80\\xaa|J\\x04rf\\\\e\\xf3\\x83\\xecA\\x80\\x9b9o+A\\xbaaf\\xee\\x0f\\xd3\\xb1\\x07Rm\\xce`lw\\x0f\\xf3D;\\\\8\\x96\\x07;\\xc1\\xa7,@\\x82\\xb7\\x97\\xb9\\x80\\x9c\\xcak\\x17\\n\\xb5g\\xa2{\\x88L\\xee)\\x8f\\xbc\\xc8J\\xb8\\xb6\\x06\\xf7\\x969\\x94>\\xd8\\x10\\n\\x1eH\\xb4]3\\x11\\xb1A\\x98\\x80[\\x00\\xb3s@\\x00\\xb8b\\x9c\\xd9z#\\xcc\\xe8F\\xfcD\\x0bB\\xe2\\xe5\\x05\\xc6Q5\\x17\\x84\\xa4\\xea\\xd7\\xbdK\\n\\xd1\\xb4@\\x11\\xa6!\\n\\xc8h\\xe8\\x00\\x0eW\\xab\\xd1\\xdb\\xa85(8tu\\x05$\\xa7\\xf4@\\xae\\x81G\\xe2\\xe8@\\x19,\\xb6\\x1b\\t\\x8a\\xd0\\xf5-\\x12\\xf9\\x03\\x07\\xa9pl\\xd8wR\\x9a\\xf2\\xf5\\x18\\xda\\x0f1\\x956\\xb9\\xb9\\xbfCS\\x05\\x89\\x02\\xf8\\tD>\\tfo/1l)\\x9fb0r\\xb400\\x83P\\xd0Jd]T\\xc3\\x88\\x03\\xb5\\x8b\\x88\\xa4\\xe1\\xdekmx\\x94\\xe3a\\x03 }\\x86q(\\x0f\\x1c\\xc6\\x15Ljng1\\x19\\xf5*[\\xc8\\xcb\\x03\\x83[M\\x1f\\x89Zw#\\x90K@8X\\xcbb\\xa6)\\x8b\\xb8\\x0e/\\xb4>\\xae\\xfe\\x88\\xc5\\x1fJ\\xa8Gb\\xb1\\xa8\\xc8\\xc6\\x8be}L\\x93\\xbe_\\xb1\\xd7\\xe4\\xc7\\xdb\\xfb\\xf2\\r\\x98(\\x0c\\x06\\x1b\\xae\\x1f\\x8dK\\n\\x86Go\\xf8\\x1fr\\x88`\\x1d\\xa3\\x88\\xc7\\x92X\\xbc\\xc5T\\xb6 \\'QW\\xcc\\x92\\x89\\xa0\\xe3\\xfd\\x96\\xd4\\x95Z\\xb5\\x10J\\x99X<\\xb1\\x96\\xf34]\\x8f\\xeaYC\\xc5\\xe9\\xf4\\xcbD%@\\xda]\\x92UL\\xbf\\xff\\x00S\\xaaLM,[\\xf3\\xef\\xf5\\xfb\\xc7/.\\x1bk\\xeds6eM\\xed\\x84\\x04\\xbd5\\xfb\\x80V\\x90f\\x9c\\xe3\\x82;\\xcd9+\\xf3\\x04\\x94\\xa5Kx\\xae\\xd3\\xf2C\\x02+U\\x89\\xee8\\x94\\xe28X\\xde\\xe5B\\xd2\\xe5\\xc2\\r\\x96\\xea&\\x04]\\xa7\\xf9\\x06ZTv\\xcc\\x18\\xba\\xae\\x15}\\x04WH(\\xae{\\x96\\xe0\\x1b\\xc8J\\xe5\\xc66K\\xd6\\xc6\\xe8\\\\:\\x81\\x05\\xd1O\\xc4E\\x04G\"RN\\x89\\x902\\x96\\xe5\\'4j\\xd4\\xbfp\\xc1\\t\\xd5\\x075\\xdcAY\\xdf-\\xe7\\xe6-\\x15\\xca\\xfb\\x7f\\xdf\\xa9wf\\xf1\\xa0\\xb9\\xb5(\\xcb\\xc9\\x97{\\xd7+\\xd7\\xfe\\xe2I p\\x1b\\xa7\\xabS\\xbd|\\xc1[\\xf5\\xc9\\x1e\\xd2\\x82\\xfcE\\xce)\\x89^h\\xa0Vtdb+\\x81:\\x8ex\\x7f\\xb1.\\x01\\x84\\xb7\\xe1_\\xdcL@\\xda\\x04\\xaf;\\x97\\xc8\\x8bm\\x9f\\xbac\\xde\\xc3d\\xfa\\xe2\\x1dr\\x1a;;\\x86\\x16\\xb3\\x90\\xe5\\xfdK* \\xad\\r\\xcc\\xc3\\xc5\\xcbR\\xb6\\xb45gih:]\\xb57\\x83\\xa5\\x19>wr\\xa43*p\\xf4\\xf3\\x17\\xd0\\x0eB\\x92\\nT\\xff\\xd9'\n"
     ]
    }
   ],
   "source": [
    "with open('marky.jpg', 'rb') as file:\n",
    "    print(file.read())"
   ]
  },
  {
   "cell_type": "code",
   "execution_count": null,
   "metadata": {},
   "outputs": [],
   "source": []
  },
  {
   "cell_type": "code",
   "execution_count": null,
   "metadata": {},
   "outputs": [],
   "source": []
  },
  {
   "cell_type": "code",
   "execution_count": 78,
   "metadata": {},
   "outputs": [
    {
     "name": "stdout",
     "output_type": "stream",
     "text": [
      "Done with 4\n",
      "Done with 5\n",
      "Done with 6\n",
      "Done with 7\n",
      "Done with 8\n",
      "Done with 9\n",
      "Done with 10\n",
      "Done with 11\n",
      "Done with 12\n",
      "Done with 13\n",
      "Done with 14\n",
      "Done with 15\n",
      "Done with 16\n",
      "Done with 17\n",
      "Done with 18\n",
      "Done with 19\n",
      "Done with 20\n",
      "Done with 21\n",
      "Done with 22\n",
      "Done with 23\n",
      "Done with 24\n",
      "Done with 25\n",
      "Done with 26\n",
      "Done with 27\n",
      "Done with 28\n",
      "Done with 29\n",
      "Done with 30\n",
      "Done with 31\n",
      "Done with 32\n",
      "Done with 33\n",
      "Done with 34\n",
      "Done with 35\n",
      "Done with 36\n",
      "Done with 37\n",
      "Done with 38\n",
      "Done with 39\n",
      "Done with 40\n",
      "Done with 41\n",
      "Done with 42\n",
      "Done with 43\n",
      "Done with 44\n",
      "Done with 45\n",
      "Done with 46\n",
      "Done with 47\n",
      "Done with 48\n",
      "Done with 49\n",
      "Done with 50\n",
      "Done with 51\n",
      "Done with 52\n",
      "Done with 53\n",
      "Done with 54\n",
      "Done with 55\n",
      "Done with 56\n",
      "Done with 57\n",
      "Done with 58\n",
      "Done with 59\n",
      "Done with 60\n",
      "Done with 61\n",
      "Done with 62\n",
      "Done with 63\n",
      "Done with 64\n",
      "Done with 65\n",
      "Done with 66\n",
      "Done with 67\n",
      "Done with 68\n",
      "Done with 69\n",
      "Done with 70\n",
      "Done with 71\n",
      "Done with 72\n",
      "Done with 73\n",
      "Done with 74\n",
      "Done with 75\n",
      "Done with 76\n",
      "Done with 77\n",
      "Done with 78\n",
      "Done with 79\n",
      "Done with 80\n",
      "Done with 81\n",
      "Done with 82\n",
      "Done with 83\n",
      "Done with 84\n",
      "Done with 85\n",
      "Done with 86\n",
      "Done with 87\n",
      "Done with 88\n",
      "Done with 89\n",
      "Done with 90\n",
      "Done with 91\n",
      "Done with 92\n",
      "Done with 93\n",
      "Done with 94\n",
      "Done with 95\n",
      "Done with 96\n",
      "Done with 97\n",
      "Done with 98\n",
      "Done with 99\n",
      "Done with 100\n",
      "Done with 101\n",
      "Done with 102\n",
      "Done with 103\n",
      "Done with 104\n",
      "Done with 105\n",
      "Done with 106\n",
      "Done with 107\n",
      "Done with 108\n",
      "Done with 109\n",
      "Done with 110\n",
      "Done with 111\n",
      "Done with 112\n",
      "Done with 113\n",
      "Done with 114\n",
      "Done with 115\n",
      "Done with 116\n",
      "Done with 117\n",
      "Done with 118\n",
      "Done with 119\n",
      "Done with 120\n",
      "Done with 121\n",
      "Done with 122\n",
      "Done with 123\n",
      "Done with 124\n",
      "Done with 125\n",
      "Done with 126\n",
      "Done with 127\n",
      "Done with 128\n",
      "Done with 129\n",
      "Done with 130\n",
      "Done with 131\n",
      "Done with 132\n",
      "Done with 133\n",
      "Done with 134\n",
      "Done with 135\n",
      "Done with 136\n",
      "Done with 137\n",
      "Done with 138\n",
      "Done with 139\n",
      "Done with 140\n",
      "Done with 141\n",
      "Done with 142\n",
      "Done with 143\n",
      "Done with 144\n",
      "Done with 145\n",
      "Done with 146\n",
      "Done with 147\n",
      "Done with 148\n",
      "Done with 149\n",
      "Done with 150\n",
      "Done with 151\n",
      "Done with 152\n",
      "Done with 153\n",
      "Done with 154\n",
      "Done with 155\n",
      "Done with 156\n",
      "Done with 157\n",
      "Done with 158\n",
      "Done with 159\n",
      "Done with 160\n",
      "Done with 161\n",
      "Done with 162\n",
      "Done with 163\n",
      "Done with 164\n",
      "Done with 165\n",
      "Done with 166\n",
      "Done with 167\n",
      "Done with 168\n",
      "Done with 169\n",
      "Done with 170\n",
      "Done with 171\n",
      "Done with 172\n",
      "Done with 173\n",
      "Done with 174\n",
      "Done with 175\n",
      "Done with 176\n",
      "Done with 177\n",
      "Done with 178\n",
      "Done with 179\n",
      "Done with 180\n",
      "Done with 181\n",
      "Done with 182\n",
      "Done with 183\n",
      "Done with 184\n",
      "Done with 185\n",
      "Done with 186\n",
      "Done with 187\n",
      "Done with 188\n",
      "Done with 189\n",
      "Done with 190\n",
      "Done with 191\n",
      "Done with 192\n",
      "Done with 193\n",
      "Done with 194\n",
      "Done with 195\n",
      "Done with 196\n",
      "Done with 197\n",
      "Done with 198\n",
      "Done with 199\n"
     ]
    }
   ],
   "source": [
    "for i in range(4, 200):\n",
    "    r = requests.get(url.format(i))\n",
    "    with open('profile_pictures/{}.jpg'.format(i), 'wb') as file:\n",
    "        file.write(r.content)\n",
    "    print(\"Done with\", i)"
   ]
  },
  {
   "cell_type": "code",
   "execution_count": null,
   "metadata": {},
   "outputs": [],
   "source": []
  },
  {
   "cell_type": "code",
   "execution_count": 66,
   "metadata": {},
   "outputs": [],
   "source": [
    "r = requests.get('https://online-api.codingblocks.com/api/v2/courses?exclude=ratings%2Cinstructors.*')"
   ]
  },
  {
   "cell_type": "code",
   "execution_count": 67,
   "metadata": {},
   "outputs": [
    {
     "data": {
      "text/plain": [
       "{'Server': 'nginx/1.10.3 (Ubuntu)', 'Date': 'Sat, 28 Sep 2019 04:44:01 GMT', 'Content-Type': 'application/json; charset=utf-8', 'Transfer-Encoding': 'chunked', 'Connection': 'keep-alive', 'Vary': 'Accept-Encoding', 'X-Powered-By': 'Express', 'Access-Control-Allow-Origin': '*', 'X-Cache': 'REDIS HIT', 'ETag': 'W/\"16f25-b7+jt+odvNYnxlzKVSL3/+1XlgA\"', 'Content-Encoding': 'gzip'}"
      ]
     },
     "execution_count": 67,
     "metadata": {},
     "output_type": "execute_result"
    }
   ],
   "source": [
    "r.headers"
   ]
  },
  {
   "cell_type": "code",
   "execution_count": 68,
   "metadata": {},
   "outputs": [
    {
     "data": {
      "text/plain": [
       "str"
      ]
     },
     "execution_count": 68,
     "metadata": {},
     "output_type": "execute_result"
    }
   ],
   "source": [
    "type(r.content.decode('utf-8'))"
   ]
  },
  {
   "cell_type": "code",
   "execution_count": null,
   "metadata": {},
   "outputs": [],
   "source": []
  },
  {
   "cell_type": "code",
   "execution_count": null,
   "metadata": {},
   "outputs": [],
   "source": []
  },
  {
   "cell_type": "code",
   "execution_count": null,
   "metadata": {},
   "outputs": [],
   "source": []
  },
  {
   "cell_type": "code",
   "execution_count": null,
   "metadata": {},
   "outputs": [],
   "source": []
  },
  {
   "cell_type": "markdown",
   "metadata": {},
   "source": [
    "![](http://i.imgur.com/gRvt4lV.png)"
   ]
  },
  {
   "cell_type": "markdown",
   "metadata": {},
   "source": [
    "### Example 2\n",
    "\n",
    "[Google maps geocoding API](https://developers.google.com/maps/documentation/geocoding/intro)"
   ]
  },
  {
   "cell_type": "markdown",
   "metadata": {},
   "source": [
    "## POST request\n",
    "\n",
    "![](https://www.safaribooksonline.com/library/view/head-first-servlets/9780596516680/httpatomoreillycomsourceoreillyimages1377910.png.jpg)"
   ]
  },
  {
   "cell_type": "markdown",
   "metadata": {},
   "source": [
    "### Example 1\n",
    "\n",
    "[Pastebin API](https://pastebin.com/api)"
   ]
  },
  {
   "cell_type": "markdown",
   "metadata": {},
   "source": [
    "### Example 2\n",
    "\n",
    "https://m.me/mycodebot\n",
    "\n",
    "[HackeRank code checker API](https://www.hackerrank.com/api/docs)"
   ]
  },
  {
   "cell_type": "markdown",
   "metadata": {},
   "source": [
    "# 2. Downloading files\n",
    "\n",
    "![](http://noclone.net/images/file-types-s.png)\n",
    "\n",
    "Downloading large files in chunks!"
   ]
  },
  {
   "cell_type": "markdown",
   "metadata": {},
   "source": [
    "# 3. Web scraping\n",
    "\n",
    "![](https://cdn-images-1.medium.com/max/1600/0*yxxFwUEPQU3lAz4W.png)"
   ]
  },
  {
   "cell_type": "markdown",
   "metadata": {},
   "source": [
    "![](https://image.slidesharecdn.com/scrapingtotherescue-160713133749/95/getting-started-with-web-scraping-in-python-9-638.jpg?cb=1468417631)"
   ]
  },
  {
   "cell_type": "markdown",
   "metadata": {},
   "source": [
    "## [Beautiful Soup](https://www.crummy.com/software/BeautifulSoup/bs4/doc/)\n",
    "\n",
    ">Beautiful Soup is a Python library for pulling data out of HTML and XML files. It works with your favorite parser to provide idiomatic ways of navigating, searching, and modifying the parse tree. It commonly saves programmers hours or days of work.\n",
    "\n",
    "### Installation\n",
    "\n",
    "```\n",
    "pip install bs4\n",
    "```\n",
    "\n",
    "**Bonus:**\n",
    "```\n",
    "pip install html5lib\n",
    "```"
   ]
  },
  {
   "cell_type": "markdown",
   "metadata": {},
   "source": [
    "https://www.values.com/inspirational-quotes"
   ]
  },
  {
   "cell_type": "markdown",
   "metadata": {},
   "source": [
    "## 4. Sending Email\n",
    "\n",
    "![](https://camo.githubusercontent.com/ee342ab0ad69e2615876732e43e301980315359b/68747470733a2f2f6265636f6d65746865736f6c7574696f6e2e636f6d2f696d616765732f65617379626c6f675f696d616765732f3431342f736d74702d6c6f676f2e6a7067)\n",
    "\n",
    "\n",
    "**An Internet standard for electronic mail (email) transmission.**\n",
    "\n",
    "![](data:image/jpeg;base64,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)\n",
    "\n",
    "### smtplib\n",
    "\n",
    "The smtplib module defines an SMTP client session object that can be used to send mail to any Internet machine with an SMTP or ESMTP listener."
   ]
  },
  {
   "cell_type": "code",
   "execution_count": null,
   "metadata": {},
   "outputs": [],
   "source": [
    "import smtplib"
   ]
  },
  {
   "cell_type": "markdown",
   "metadata": {},
   "source": [
    "## For sending proper Email\n",
    "\n",
    "**Multipurpose Internet Mail Extensions (MIME)** is an Internet standard that extends the format of email to support:\n",
    "- Text in character sets other than ASCII\n",
    "- Non-text attachments: audio, video, images, application programs etc.\n",
    "- Message bodies with multiple parts\n",
    "- Header information in non-ASCII character sets"
   ]
  },
  {
   "cell_type": "code",
   "execution_count": null,
   "metadata": {},
   "outputs": [],
   "source": [
    "from email.mime.multipart import MIMEMultipart\n",
    "from email.mime.text import MIMEText\n",
    "from email.mime.application import MIMEApplication"
   ]
  },
  {
   "cell_type": "markdown",
   "metadata": {},
   "source": [
    "# 5. Web automation\n",
    "\n",
    "\n",
    "**Task:** Automatically submit the code for a problem on [codechef](https://www.codechef.com/).\n",
    "\n",
    "### [Selenium](http://selenium-python.readthedocs.io/) : Web automation and testing\n",
    "\n",
    "![](https://udemy-images.udemy.com/course/750x422/482754_7146_4.jpg)\n",
    "\n",
    "\n",
    "#### Installation\n",
    "\n",
    "```\n",
    "pip install selenium\n",
    "```\n",
    "\n",
    "#### To start a browser session\n",
    "```python\n",
    "from selenium import webdriver\n",
    "browser = webdriver.Firefox()\n",
    "```\n",
    "\n",
    "#### To open a webpage\n",
    "```python\n",
    "browser.get('https://www.codechef.com')\n",
    "```\n",
    "\n",
    "#### To select an element by its id\n",
    "```python\n",
    "browser.find_element_by_id(<id>)\n",
    "```\n",
    "\n",
    "#### Input value in element\n",
    "```python\n",
    "element.send_keys()\n",
    "```\n",
    "\n",
    "#### Click on an element\n",
    "```python\n",
    "element.click()\n",
    "```"
   ]
  }
 ],
 "metadata": {
  "kernelspec": {
   "display_name": "Python 3",
   "language": "python",
   "name": "python3"
  },
  "language_info": {
   "codemirror_mode": {
    "name": "ipython",
    "version": 3
   },
   "file_extension": ".py",
   "mimetype": "text/x-python",
   "name": "python",
   "nbconvert_exporter": "python",
   "pygments_lexer": "ipython3",
   "version": "3.7.0"
  }
 },
 "nbformat": 4,
 "nbformat_minor": 2
}
