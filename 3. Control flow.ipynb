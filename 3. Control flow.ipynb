{
 "cells": [
  {
   "cell_type": "markdown",
   "metadata": {},
   "source": [
    "# Control flow statements"
   ]
  },
  {
   "cell_type": "markdown",
   "metadata": {},
   "source": [
    "# 1. Conditional statements"
   ]
  },
  {
   "cell_type": "markdown",
   "metadata": {},
   "source": [
    "![](images/conditional.png)"
   ]
  },
  {
   "cell_type": "markdown",
   "metadata": {},
   "source": [
    "- do something\n",
    "    - to do this\n",
    "    - do this\n",
    "- do something else\n",
    "    - blah"
   ]
  },
  {
   "cell_type": "code",
   "execution_count": 2,
   "metadata": {},
   "outputs": [
    {
     "name": "stdout",
     "output_type": "stream",
     "text": [
      "positive\n"
     ]
    }
   ],
   "source": [
    "a = 5\n",
    "if a > 10:\n",
    "    print(\"greater than 10\")\n",
    "elif a > 0:\n",
    "    print(\"positive\")\n",
    "else:\n",
    "    print(\"negative\")"
   ]
  },
  {
   "cell_type": "code",
   "execution_count": 4,
   "metadata": {},
   "outputs": [],
   "source": [
    "a = (1, 2, 3, 4)"
   ]
  },
  {
   "cell_type": "code",
   "execution_count": 5,
   "metadata": {},
   "outputs": [
    {
     "data": {
      "text/plain": [
       "(1, 2, 3, 4)"
      ]
     },
     "execution_count": 5,
     "metadata": {},
     "output_type": "execute_result"
    }
   ],
   "source": [
    "a"
   ]
  },
  {
   "cell_type": "code",
   "execution_count": 6,
   "metadata": {},
   "outputs": [],
   "source": [
    "a = False\n",
    "if a:\n",
    "    print(\"wwaaattt !\")"
   ]
  },
  {
   "cell_type": "code",
   "execution_count": null,
   "metadata": {},
   "outputs": [],
   "source": []
  },
  {
   "cell_type": "markdown",
   "metadata": {},
   "source": [
    "### Challenge:\n",
    "[Python If-Else](https://www.hackerrank.com/challenges/py-if-else)"
   ]
  },
  {
   "cell_type": "markdown",
   "metadata": {},
   "source": [
    "## Nested if-else\n",
    "\n",
    "Write a python program to input an integer from user and print:\n",
    "- -1 if integer is negative.\n",
    "- 0 if integer is zero.\n",
    "- 1 if integer is positive."
   ]
  },
  {
   "cell_type": "code",
   "execution_count": 7,
   "metadata": {},
   "outputs": [
    {
     "name": "stdout",
     "output_type": "stream",
     "text": [
      "Enter the number5\n"
     ]
    }
   ],
   "source": [
    "n = input()"
   ]
  },
  {
   "cell_type": "code",
   "execution_count": null,
   "metadata": {},
   "outputs": [],
   "source": []
  },
  {
   "cell_type": "code",
   "execution_count": null,
   "metadata": {},
   "outputs": [],
   "source": []
  },
  {
   "cell_type": "code",
   "execution_count": null,
   "metadata": {},
   "outputs": [],
   "source": []
  },
  {
   "cell_type": "code",
   "execution_count": null,
   "metadata": {},
   "outputs": [],
   "source": []
  },
  {
   "cell_type": "code",
   "execution_count": null,
   "metadata": {},
   "outputs": [],
   "source": []
  },
  {
   "cell_type": "markdown",
   "metadata": {},
   "source": [
    "## Nested if-else\n",
    "\n",
    "Write a python program to input an integer from user and print:\n",
    "- -1 if integer is negative.\n",
    "- 0 if integer is zero.\n",
    "- 1 if integer is positive.\n",
    "\n",
    "What's not cool with this approach???\n",
    "\n",
    "```python\n",
    "if x < 0:\n",
    "   sign = -1\n",
    "if x == 0:\n",
    "   sign = 0\n",
    "if x > 0:\n",
    "   sign = 1\n",
    "```\n",
    "\n",
    "![](images/nested.jpeg)"
   ]
  },
  {
   "cell_type": "code",
   "execution_count": null,
   "metadata": {
    "collapsed": true
   },
   "outputs": [],
   "source": []
  },
  {
   "cell_type": "markdown",
   "metadata": {},
   "source": [
    "# 2. Looping statements"
   ]
  },
  {
   "cell_type": "markdown",
   "metadata": {},
   "source": [
    "## (i) while\n",
    "\n",
    "The while statement allows you to repeatedly execute a block of statements as long as a condition is true.\n",
    "\n",
    "![](images/while-loop.png)"
   ]
  },
  {
   "cell_type": "code",
   "execution_count": 8,
   "metadata": {},
   "outputs": [
    {
     "name": "stdout",
     "output_type": "stream",
     "text": [
      "10\n",
      "9\n",
      "8\n",
      "7\n",
      "6\n",
      "5\n",
      "4\n",
      "3\n",
      "2\n",
      "1\n"
     ]
    }
   ],
   "source": [
    "a = 10\n",
    "while a > 0:\n",
    "    print(a)\n",
    "    a -= 1"
   ]
  },
  {
   "cell_type": "markdown",
   "metadata": {},
   "source": [
    "## (ii) for\n",
    "\n",
    "The for..in statement is another looping statement which iterates over a sequence of objects i.e. go through each item in a sequence.\n",
    "\n",
    "![](images/for_loop.jpg)"
   ]
  },
  {
   "cell_type": "code",
   "execution_count": 9,
   "metadata": {},
   "outputs": [
    {
     "name": "stdout",
     "output_type": "stream",
     "text": [
      "a\n",
      "b\n",
      "c\n",
      "d\n"
     ]
    }
   ],
   "source": [
    "for c in 'abcd':\n",
    "    print(c)"
   ]
  },
  {
   "cell_type": "code",
   "execution_count": 14,
   "metadata": {},
   "outputs": [
    {
     "name": "stdout",
     "output_type": "stream",
     "text": [
      "1\n",
      "3\n",
      "5\n",
      "7\n",
      "9\n"
     ]
    }
   ],
   "source": [
    "for i in range(1, 10, 2):\n",
    "    print(i)"
   ]
  },
  {
   "cell_type": "code",
   "execution_count": null,
   "metadata": {},
   "outputs": [],
   "source": [
    "*\n",
    "* *\n",
    "* * *\n",
    "* * * *"
   ]
  },
  {
   "cell_type": "code",
   "execution_count": 21,
   "metadata": {},
   "outputs": [
    {
     "name": "stdout",
     "output_type": "stream",
     "text": [
      "      * \n",
      "    * * \n",
      "  * * * \n",
      "* * * * \n"
     ]
    }
   ],
   "source": [
    "n = 4\n",
    "for i in range(n):\n",
    "    print( \"  \" * (n-(i+1)) + \"* \" * (i+1))"
   ]
  },
  {
   "cell_type": "code",
   "execution_count": 16,
   "metadata": {},
   "outputs": [
    {
     "ename": "SyntaxError",
     "evalue": "invalid syntax (<ipython-input-16-248eb0103777>, line 1)",
     "output_type": "error",
     "traceback": [
      "\u001b[0;36m  File \u001b[0;32m\"<ipython-input-16-248eb0103777>\"\u001b[0;36m, line \u001b[0;32m1\u001b[0m\n\u001b[0;31m    * * * *\u001b[0m\n\u001b[0m      ^\u001b[0m\n\u001b[0;31mSyntaxError\u001b[0m\u001b[0;31m:\u001b[0m invalid syntax\n"
     ]
    }
   ],
   "source": [
    "      *\n",
    "    * *\n",
    "  * * *\n",
    "* * * *"
   ]
  },
  {
   "cell_type": "code",
   "execution_count": 15,
   "metadata": {},
   "outputs": [
    {
     "data": {
      "text/plain": [
       "'* * * '"
      ]
     },
     "execution_count": 15,
     "metadata": {},
     "output_type": "execute_result"
    }
   ],
   "source": [
    "\"* \" * 3"
   ]
  },
  {
   "cell_type": "markdown",
   "metadata": {},
   "source": [
    "### Challenge:\n",
    "Solve using **for** as well as **while** loop:\n",
    "[Loops](https://www.hackerrank.com/challenges/python-loops)"
   ]
  },
  {
   "cell_type": "markdown",
   "metadata": {},
   "source": [
    "## Infinite loops\n",
    "\n",
    "Beware!\n",
    "\n",
    "![](images/infinite.jpg)"
   ]
  },
  {
   "cell_type": "markdown",
   "metadata": {},
   "source": [
    "## Nested loops\n",
    "\n",
    "Yes! Loops can also be nested.\n",
    "\n",
    "Lets do matrix addition!"
   ]
  },
  {
   "cell_type": "code",
   "execution_count": null,
   "metadata": {
    "collapsed": true
   },
   "outputs": [],
   "source": []
  },
  {
   "cell_type": "markdown",
   "metadata": {},
   "source": [
    "### Challenge for you!\n",
    "\n",
    "Given an integer n, print a nXn matrix with squares (outermost to innermost) having values n, then n-1 and so on.\n",
    "For example, given 5, output is:\n",
    "```\n",
    "5 5 5 5 5\n",
    "5 4 4 4 5\n",
    "5 4 3 4 5\n",
    "5 4 4 4 5 \n",
    "5 5 5 5 5\n",
    "```"
   ]
  },
  {
   "cell_type": "code",
   "execution_count": 30,
   "metadata": {},
   "outputs": [
    {
     "name": "stdout",
     "output_type": "stream",
     "text": [
      "5 - 5  5 - 4  5 - 3  5 - 2  5 - 1  \n",
      "4 - 5  4 - 4  4 - 3  4 - 2  4 - 1  \n",
      "3 - 5  3 - 4  3 - 3  3 - 2  3 - 1  \n",
      "2 - 5  2 - 4  2 - 3  2 - 2  2 - 1  \n",
      "1 - 5  1 - 4  1 - 3  1 - 2  1 - 1  \n"
     ]
    }
   ],
   "source": [
    "n = 5\n",
    "for i in range(n):\n",
    "    for j in range(n):\n",
    "        print(n-i, \"-\", n-j, end = \"  \")\n",
    "    print()"
   ]
  },
  {
   "cell_type": "code",
   "execution_count": 31,
   "metadata": {},
   "outputs": [
    {
     "name": "stdout",
     "output_type": "stream",
     "text": [
      "5 5 5 5 5 \n",
      "5 4 4 4 5 \n",
      "5 4 3 4 5 \n",
      "5 4 4 4 5 \n",
      "5 5 5 5 5 \n"
     ]
    }
   ],
   "source": [
    "n = 5\n",
    "for i in range(n):\n",
    "    for j in range(n):\n",
    "        print(max(i+1, j+1, n-i, n-j), end = \" \")\n",
    "    print()"
   ]
  },
  {
   "cell_type": "code",
   "execution_count": 21,
   "metadata": {},
   "outputs": [
    {
     "name": "stdout",
     "output_type": "stream",
     "text": [
      "9 9 9 9 9 9 9 9 9 \n",
      "9 8 8 8 8 8 8 8 9 \n",
      "9 8 7 7 7 7 7 8 9 \n",
      "9 8 7 6 6 6 7 8 9 \n",
      "9 8 7 6 5 6 7 8 9 \n",
      "9 8 7 6 6 6 7 8 9 \n",
      "9 8 7 7 7 7 7 8 9 \n",
      "9 8 8 8 8 8 8 8 9 \n",
      "9 9 9 9 9 9 9 9 9 \n"
     ]
    }
   ],
   "source": [
    "n = 9\n",
    "for i in range(n):\n",
    "    for j in range(n):\n",
    "        print(n - min(i, j, n-i-1, n-j-1), end = \" \")\n",
    "    print()"
   ]
  },
  {
   "cell_type": "code",
   "execution_count": 27,
   "metadata": {},
   "outputs": [
    {
     "name": "stdout",
     "output_type": "stream",
     "text": [
      "-1.0\n"
     ]
    }
   ],
   "source": [
    "n = -10\n",
    "\n",
    "print(n/abs(n))"
   ]
  },
  {
   "cell_type": "code",
   "execution_count": 6,
   "metadata": {},
   "outputs": [
    {
     "name": "stdout",
     "output_type": "stream",
     "text": [
      "5 5 5 5 5 \n",
      "5 4 4 4 5 \n",
      "5 4 3 4 5 \n",
      "5 4 4 4 5 \n",
      "5 5 5 5 5 \n"
     ]
    }
   ],
   "source": [
    "n = 5\n",
    "for i in range(n):\n",
    "    for j in range(n):\n",
    "        if i == 0 or i == n-1 or j == 0 or j == n-1:\n",
    "            print(n, end = \" \")\n",
    "        elif i == 1 or i == n-2 or j == 1 or j == n-2:\n",
    "            print(n-1, end = \" \")\n",
    "        else:\n",
    "            print(n-2, end = \" \")\n",
    "    print()"
   ]
  },
  {
   "cell_type": "markdown",
   "metadata": {},
   "source": [
    "## break, continue and pass"
   ]
  },
  {
   "cell_type": "code",
   "execution_count": 37,
   "metadata": {},
   "outputs": [
    {
     "name": "stdout",
     "output_type": "stream",
     "text": [
      "0\n",
      "1\n",
      "2\n",
      "3\n",
      "4\n"
     ]
    }
   ],
   "source": [
    "for i in range(10):\n",
    "    if i == 5:\n",
    "        break\n",
    "    print(i)\n",
    "else:\n",
    "    print(\"loop ended\")"
   ]
  },
  {
   "cell_type": "code",
   "execution_count": 39,
   "metadata": {},
   "outputs": [
    {
     "name": "stdout",
     "output_type": "stream",
     "text": [
      "hello\n"
     ]
    }
   ],
   "source": [
    "if 1 == 1:\n",
    "    # TODO\n",
    "    pass\n",
    "print(\"hello\")"
   ]
  },
  {
   "cell_type": "code",
   "execution_count": 42,
   "metadata": {},
   "outputs": [
    {
     "name": "stdout",
     "output_type": "stream",
     "text": [
      "* * * * * \n",
      "  * * * \n",
      "    * \n"
     ]
    }
   ],
   "source": [
    "n = 5\n",
    "n1 = (n//2) + 1\n",
    "for i in range(n1):\n",
    "    print(\"  \" * i + \"* \" * ((2*(n1 - i)) - 1))"
   ]
  },
  {
   "cell_type": "code",
   "execution_count": null,
   "metadata": {},
   "outputs": [],
   "source": [
    "* * * * * \n",
    "  * * *\n",
    "    *\n",
    "  * * *\n",
    "* * * * *"
   ]
  },
  {
   "cell_type": "code",
   "execution_count": 47,
   "metadata": {},
   "outputs": [
    {
     "name": "stdout",
     "output_type": "stream",
     "text": [
      "* * * * * \n",
      "  * * * \n",
      "    * \n",
      "  * * * \n",
      "* * * * * \n"
     ]
    }
   ],
   "source": [
    "n = 5\n",
    "for i in range(-(n//2), (n//2) + 1):\n",
    "    i = abs(i)\n",
    "    print(\"  \" * ((n//2) - i) + \"* \" * ((2*i) + 1))"
   ]
  },
  {
   "cell_type": "code",
   "execution_count": 58,
   "metadata": {},
   "outputs": [
    {
     "name": "stdout",
     "output_type": "stream",
     "text": [
      "    * \n",
      "  * * * \n",
      "* * * * * \n",
      "  * * * \n",
      "    * \n"
     ]
    }
   ],
   "source": [
    "n = 5\n",
    "for i in range(-(n//2), (n//2) + 1):\n",
    "    i = abs(i)\n",
    "    print(\"  \" * i + \"* \" * (2 * ((n//2) - i) + 1))"
   ]
  },
  {
   "cell_type": "code",
   "execution_count": null,
   "metadata": {},
   "outputs": [],
   "source": []
  },
  {
   "cell_type": "code",
   "execution_count": null,
   "metadata": {},
   "outputs": [],
   "source": []
  },
  {
   "cell_type": "code",
   "execution_count": null,
   "metadata": {
    "collapsed": true
   },
   "outputs": [],
   "source": []
  },
  {
   "cell_type": "markdown",
   "metadata": {},
   "source": [
    "![](images/break.jpg)"
   ]
  }
 ],
 "metadata": {
  "kernelspec": {
   "display_name": "Python 3",
   "language": "python",
   "name": "python3"
  },
  "language_info": {
   "codemirror_mode": {
    "name": "ipython",
    "version": 3
   },
   "file_extension": ".py",
   "mimetype": "text/x-python",
   "name": "python",
   "nbconvert_exporter": "python",
   "pygments_lexer": "ipython3",
   "version": "3.7.0"
  }
 },
 "nbformat": 4,
 "nbformat_minor": 2
}
